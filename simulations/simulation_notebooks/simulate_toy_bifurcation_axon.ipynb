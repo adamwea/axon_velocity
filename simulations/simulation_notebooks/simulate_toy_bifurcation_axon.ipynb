{
 "cells": [
  {
   "cell_type": "markdown",
   "metadata": {},
   "source": [
    "# Generate EAP for *bifurcation* model\n",
    "\n",
    "Note: this notebook can be run only once. To generate a new simulation you have to restart the kernel (Kernel->Restart)"
   ]
  },
  {
   "cell_type": "code",
   "execution_count": null,
   "metadata": {},
   "outputs": [],
   "source": [
    "import neuron\n",
    "from math import sin, cos\n",
    "import numpy as np\n",
    "import LFPy\n",
    "import MEAutility as mu\n",
    "import matplotlib.pyplot as plt\n",
    "import neuroplotlib as npl\n",
    "from pathlib import Path\n",
    "import sys\n",
    "from pprint import pprint\n",
    "import os"
   ]
  },
  {
   "cell_type": "code",
   "execution_count": null,
   "metadata": {},
   "outputs": [],
   "source": [
    "from axon_velocity.models import create_morph_with_axon_bifurcations, insert_biophysics, \\\n",
    "    insert_simple_biophysics, save_cell, create_mea_probe, get_default_biophysics_params"
   ]
  },
  {
   "cell_type": "code",
   "execution_count": null,
   "metadata": {},
   "outputs": [],
   "source": [
    "#%matplotlib widget\n",
    "%matplotlib notebook"
   ]
  },
  {
   "cell_type": "code",
   "execution_count": null,
   "metadata": {},
   "outputs": [],
   "source": [
    "save_fig = True\n",
    "save_results = False"
   ]
  },
  {
   "cell_type": "code",
   "execution_count": null,
   "metadata": {},
   "outputs": [],
   "source": [
    "try:\n",
    "    import neuron\n",
    "except:\n",
    "    print('NEURON is not installed.')\n",
    "\n",
    "mechanism_folder = Path('..') / 'mechanisms'\n",
    "\n",
    "if not neuron.load_mechanisms(str(mechanism_folder)):\n",
    "    print('Compile mod files in the mechanisms/ folder: from the mechanisms/ folder, run nrnivmodl')"
   ]
  },
  {
   "cell_type": "code",
   "execution_count": null,
   "metadata": {},
   "outputs": [],
   "source": [
    "d_axon = 0.5\n",
    "z_offset = 10"
   ]
  },
  {
   "cell_type": "code",
   "execution_count": null,
   "metadata": {},
   "outputs": [],
   "source": [
    "# simple biophysiscs: dendrite - pas / soma/axon HH\n",
    "# \"complex\" biophysics: dendrite - pas / soma - na + kv1 / axon - nax + kv1 \n",
    "simple_biophysics = False"
   ]
  },
  {
   "cell_type": "code",
   "execution_count": null,
   "metadata": {},
   "outputs": [],
   "source": [
    "params_dict = get_default_biophysics_params()\n",
    "pprint(params_dict)"
   ]
  },
  {
   "cell_type": "markdown",
   "metadata": {},
   "source": [
    "At this stage, one can also change the axial conductance (e.g. `sec.ra`), \n",
    "which likely affects the conduction velocity."
   ]
  },
  {
   "cell_type": "code",
   "execution_count": null,
   "metadata": {},
   "outputs": [],
   "source": [
    "z_offset = 10"
   ]
  },
  {
   "cell_type": "code",
   "execution_count": null,
   "metadata": {},
   "outputs": [],
   "source": [
    "cell, secs = create_morph_with_axon_bifurcations(nseg=100, v_init=params_dict['v_init'], \n",
    "                                                 celsius=params_dict['celsius'],\n",
    "                                                 Ra=params_dict['ra'], cm=params_dict['cm'], d_axon=d_axon)"
   ]
  },
  {
   "cell_type": "code",
   "execution_count": null,
   "metadata": {},
   "outputs": [],
   "source": [
    "ax = npl.plot_detailed_neuron(cell, plane='xy', color_axon='g', color_childaxon1='g', color_childaxon2='g')"
   ]
  },
  {
   "cell_type": "code",
   "execution_count": null,
   "metadata": {},
   "outputs": [],
   "source": [
    "if save_fig:\n",
    "    fig = ax.get_figure()\n",
    "    fig_folder = Path('..') / 'figures'\n",
    "    if not fig_folder.is_dir():\n",
    "        os.makedirs(fig_folder)\n",
    "    fig.savefig(fig_folder / 'bifurcation.pdf')"
   ]
  },
  {
   "cell_type": "markdown",
   "metadata": {},
   "source": [
    "### Insert cell biophysics\n",
    "\n",
    "Here we make the cell active by inserting biophysical mechanisms."
   ]
  },
  {
   "cell_type": "code",
   "execution_count": null,
   "metadata": {},
   "outputs": [],
   "source": [
    "if simple_biophysics:\n",
    "    insert_simple_biophysics(cell)\n",
    "else:\n",
    "    insert_biophysics(cell, params_dict)"
   ]
  },
  {
   "cell_type": "markdown",
   "metadata": {},
   "source": [
    "### Stimulating the cell\n",
    "\n",
    "We can now add some stimulation. The stimulation can be a current clamp `iclamp` or synaptic inputs `syn`. The `stim_point` is where the cell will be stimulated (the closest cell segment to the `stim_point` is used)."
   ]
  },
  {
   "cell_type": "code",
   "execution_count": null,
   "metadata": {},
   "outputs": [],
   "source": [
    "stim = 'syn' # or syn\n",
    "stim_point = [0, 0, 300]\n",
    "stim_idx = cell.get_closest_idx(x=stim_point[0], y=stim_point[1], z=stim_point[2])\n",
    "\n",
    "syn_input_times = [5]\n",
    "syn_params = {'idx' : stim_idx,\n",
    "              'e' : 0,                                # reversal potential\n",
    "              'syntype' : 'ExpSyn',                   # synapse type\n",
    "              'tau' : 2,                              # syn. time constant ms\n",
    "              'weight' : 0.02,                        # syn. weight\n",
    "              'record_current' : True                 # syn. current record\n",
    "    }\n",
    "clamp_params = {'idx' : stim_idx,\n",
    "                'pptype' : 'IClamp',                   # IClamp point process\n",
    "                'dur' : 30,                            # dur in ms\n",
    "                'amp' : 0.2,                           # amp in nA\n",
    "                'delay' : 5                            # delay in ms\n",
    "    }\n",
    "\n",
    "#%%\n",
    "\n",
    "if stim == 'syn':\n",
    "    synapse = LFPy.Synapse(cell, **syn_params)\n",
    "    synapse.set_spike_times(np.array(syn_input_times))\n",
    "else:\n",
    "    clamp = LFPy.StimIntElectrode(cell=cell, **clamp_params)"
   ]
  },
  {
   "cell_type": "markdown",
   "metadata": {},
   "source": [
    "### Define extracellular electrodes\n",
    "\n",
    "Let's now define the extracellular electrodes using the [MEAutility](https://meautility.readthedocs.io/en/latest/) package."
   ]
  },
  {
   "cell_type": "code",
   "execution_count": null,
   "metadata": {},
   "outputs": [],
   "source": [
    "mea_dim = 100  # n rows x n cols\n",
    "mea_pitch = 17.5  # rows and cols pitch\n",
    "elec_size = 5\n",
    "\n",
    "hdmea = create_mea_probe(pitch=mea_pitch, dim=mea_dim, elec_size=elec_size, z_offset=z_offset)\n",
    "\n",
    "electrode = LFPy.RecExtElectrode(cell, probe=hdmea, n=10)\n",
    "\n",
    "# Instantiate LFPy electrode object\n",
    "electrode = LFPy.RecExtElectrode(cell, probe=hdmea)"
   ]
  },
  {
   "cell_type": "code",
   "execution_count": null,
   "metadata": {},
   "outputs": [],
   "source": [
    "mu.plot_probe(hdmea)"
   ]
  },
  {
   "cell_type": "markdown",
   "metadata": {},
   "source": [
    "### Run the simulation\n",
    "\n",
    "By passing the `electrode` argument `LFPy` also computes extracellular potentials. The `rec_vmem` argument allows to measure the membrane potenrtial at all segments."
   ]
  },
  {
   "cell_type": "code",
   "execution_count": null,
   "metadata": {},
   "outputs": [],
   "source": [
    "cell.simulate(probes=[electrode], rec_vmem=True)"
   ]
  },
  {
   "cell_type": "code",
   "execution_count": null,
   "metadata": {},
   "outputs": [],
   "source": [
    "eap = electrode.data * 1000  # mV --> uV"
   ]
  },
  {
   "cell_type": "code",
   "execution_count": null,
   "metadata": {},
   "outputs": [],
   "source": [
    "print(eap.shape)"
   ]
  },
  {
   "cell_type": "markdown",
   "metadata": {},
   "source": [
    "### Plot membrane potentials"
   ]
  },
  {
   "cell_type": "code",
   "execution_count": null,
   "metadata": {},
   "outputs": [],
   "source": [
    "soma_idx = cell.get_closest_idx(0, 0, 0)\n",
    "dend_idx = cell.get_closest_idx(0, 100, 0)\n",
    "axon_idx = cell.get_closest_idx(0, -200, 0)"
   ]
  },
  {
   "cell_type": "code",
   "execution_count": null,
   "metadata": {},
   "outputs": [],
   "source": [
    "plt.figure()\n",
    "plt.plot(cell.vmem[soma_idx], label='soma')\n",
    "plt.plot(cell.vmem[dend_idx], label='dend')\n",
    "plt.plot(cell.vmem[axon_idx], label='axon')\n",
    "plt.legend()"
   ]
  },
  {
   "cell_type": "code",
   "execution_count": null,
   "metadata": {},
   "outputs": [],
   "source": [
    "# cutout single template\n",
    "fs = 1 / cell.dt\n",
    "ms_before = 2\n",
    "ms_after = 10\n",
    "\n",
    "min_chan, min_idx = np.unravel_index(np.argmin(eap), eap.shape)"
   ]
  },
  {
   "cell_type": "code",
   "execution_count": null,
   "metadata": {},
   "outputs": [],
   "source": [
    "eap_cut = eap[:, min_idx - int(ms_before * fs): min_idx + int(ms_after * fs)]"
   ]
  },
  {
   "cell_type": "code",
   "execution_count": null,
   "metadata": {},
   "outputs": [],
   "source": [
    "ax = mu.plot_mea_recording(eap_cut, hdmea, colors='gray')\n",
    "npl.plot_detailed_neuron(cell, ax=ax, plane='xy', color='k')"
   ]
  },
  {
   "cell_type": "markdown",
   "metadata": {},
   "source": [
    "### Plot peak latency map"
   ]
  },
  {
   "cell_type": "code",
   "execution_count": null,
   "metadata": {},
   "outputs": [],
   "source": [
    "min_map = np.argmin(eap_cut, 1).astype('float')\n",
    "min_idx_cut = np.unravel_index(np.argmin(eap_cut), eap_cut.shape)[1]\n",
    "min_map[min_map < min_idx_cut] = np.nan\n",
    "min_map -= min_idx_cut"
   ]
  },
  {
   "cell_type": "code",
   "execution_count": null,
   "metadata": {},
   "outputs": [],
   "source": [
    "plt.matshow(min_map.reshape(mea_dim[1], mea_dim[0]).T, origin='lower')\n",
    "plt.colorbar()"
   ]
  },
  {
   "cell_type": "markdown",
   "metadata": {},
   "source": [
    "### Save templates and locations"
   ]
  },
  {
   "cell_type": "code",
   "execution_count": null,
   "metadata": {},
   "outputs": [],
   "source": [
    "template = eap_cut\n",
    "locations = hdmea.positions[:, :2]  # save only x-y positions"
   ]
  },
  {
   "cell_type": "code",
   "execution_count": null,
   "metadata": {},
   "outputs": [],
   "source": [
    "# save templates and locations\n",
    "if save_results:\n",
    "    d_axon_str = f\"{d_axon}\".replace('.', '-')\n",
    "    data_folder = Path('..') / 'simulated_data' / 'toy'\n",
    "    save_path = data_folder / 'bifurcation' / f'diam{d_axon_str}'\n",
    "\n",
    "    if not save_path.is_dir():\n",
    "        os.makedirs(save_path)\n",
    "\n",
    "    np.save(save_path / 'template.npy', template)\n",
    "    np.save(save_path / 'locations.npy', locations)\n",
    "    save_cell(cell, cell_name='bifurcation', save_folder=save_path)"
   ]
  }
 ],
 "metadata": {
  "kernelspec": {
   "display_name": "Python 3",
   "language": "python",
   "name": "python3"
  },
  "language_info": {
   "codemirror_mode": {
    "name": "ipython",
    "version": 3
   },
   "file_extension": ".py",
   "mimetype": "text/x-python",
   "name": "python",
   "nbconvert_exporter": "python",
   "pygments_lexer": "ipython3",
   "version": "3.8.8"
  },
  "pycharm": {
   "stem_cell": {
    "cell_type": "raw",
    "metadata": {
     "collapsed": false
    },
    "source": []
   }
  }
 },
 "nbformat": 4,
 "nbformat_minor": 4
}
