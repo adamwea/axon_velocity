{
 "cells": [
  {
   "cell_type": "markdown",
   "metadata": {},
   "source": [
    "# Generate EAP for Allen morphologies - morhology 3\n",
    "\n"
   ]
  },
  {
   "cell_type": "code",
   "execution_count": null,
   "metadata": {},
   "outputs": [],
   "source": [
    "import neuron\n",
    "from math import sin, cos\n",
    "import numpy as np\n",
    "import LFPy\n",
    "import MEAutility as mu\n",
    "import matplotlib.pyplot as plt\n",
    "import neuroplotlib as npl\n",
    "from pathlib import Path\n",
    "import sys\n",
    "import os\n",
    "from pprint import pprint"
   ]
  },
  {
   "cell_type": "code",
   "execution_count": null,
   "metadata": {},
   "outputs": [],
   "source": [
    "from axon_velocity.models import insert_biophysics, insert_simple_biophysics, \\\n",
    "    get_default_biophysics_params, planarize_swc, save_cell, create_mea_probe, center_cell_xy\n",
    "from axon_velocity import plot_amplitude_map, plot_peak_latency_map"
   ]
  },
  {
   "cell_type": "code",
   "execution_count": null,
   "metadata": {},
   "outputs": [],
   "source": [
    "%matplotlib notebook"
   ]
  },
  {
   "cell_type": "code",
   "execution_count": null,
   "metadata": {},
   "outputs": [],
   "source": [
    "save_fig = True\n",
    "save_results = True"
   ]
  },
  {
   "cell_type": "code",
   "execution_count": null,
   "metadata": {},
   "outputs": [],
   "source": [
    "try:\n",
    "    import neuron\n",
    "except:\n",
    "    print('NEURON is not installed.')\n",
    "\n",
    "mechanism_folder = Path('..') / 'mechanisms'\n",
    "\n",
    "if not neuron.load_mechanisms(str(mechanism_folder)):\n",
    "    print('Compile mod files in the mechanisms/ folder: from the mechanisms/ folder, run nrnivmodl')"
   ]
  },
  {
   "cell_type": "code",
   "execution_count": null,
   "metadata": {},
   "outputs": [],
   "source": [
    "# simple biophysiscs: dendrite - pas / soma/axon HH\n",
    "# \"complex\" biophysics: dendrite - pas / soma - na + kv1 / axon - nax + kv1 \n",
    "simple_biophysics = False"
   ]
  },
  {
   "cell_type": "code",
   "execution_count": null,
   "metadata": {},
   "outputs": [],
   "source": [
    "params_dict = get_default_biophysics_params()\n",
    "pprint(params_dict)"
   ]
  },
  {
   "cell_type": "markdown",
   "metadata": {},
   "source": [
    "At this stage, one can also change the axial conductance (e.g. `sec.ra`), \n",
    "which likely affects the conduction velocity."
   ]
  },
  {
   "cell_type": "markdown",
   "metadata": {},
   "source": [
    "The `planar` variable decides wheter the z-axis is compressed (similar to a cell culture - `planar=True`) or the original morphology is used (`planar=False`)."
   ]
  },
  {
   "cell_type": "code",
   "execution_count": null,
   "metadata": {},
   "outputs": [],
   "source": [
    "planar = True\n",
    "z_offset = 5 # distance between cell plane and mea plane\n",
    "zspan = 0"
   ]
  },
  {
   "cell_type": "code",
   "execution_count": null,
   "metadata": {},
   "outputs": [],
   "source": [
    "morphology_dir = Path('..') / 'neuromorpho' / 'allen_cell_types'\n",
    "\n",
    "morph_id = '606834771'\n",
    "original_morphology_path = [m for m in morphology_dir.iterdir() if not \n",
    "                            m.name.startswith('.') and morph_id in str(m)][0]\n",
    "if planar:\n",
    "    morphology_path = planarize_swc(original_morphology_path, span_um=zspan)\n",
    "else:\n",
    "    morphology_path = original_morphology_path"
   ]
  },
  {
   "cell_type": "code",
   "execution_count": null,
   "metadata": {},
   "outputs": [],
   "source": [
    "ax = npl.plot_neuron(morphology=str(morphology_path), plane='xy', color_axon='g')"
   ]
  },
  {
   "cell_type": "code",
   "execution_count": null,
   "metadata": {},
   "outputs": [],
   "source": [
    "save_fig = True"
   ]
  },
  {
   "cell_type": "code",
   "execution_count": null,
   "metadata": {},
   "outputs": [],
   "source": [
    "if save_fig:\n",
    "    fig = ax.get_figure()\n",
    "    fig_folder = Path('..') / 'figures'\n",
    "    if not fig_folder.is_dir():\n",
    "        os.makedirs(fig_folder)\n",
    "    fig.savefig(fig_folder / 'allen3.pdf')    "
   ]
  },
  {
   "cell_type": "code",
   "execution_count": null,
   "metadata": {},
   "outputs": [],
   "source": [
    "cell = LFPy.Cell(str(morphology_path), v_init=params_dict['v_init'], celsius=params_dict['celsius'],\n",
    "                 Ra=params_dict['ra'], cm=params_dict['cm'], pt3d=True)"
   ]
  },
  {
   "cell_type": "code",
   "execution_count": null,
   "metadata": {},
   "outputs": [],
   "source": [
    "# center in the xy plane\n",
    "center_cell_xy(cell)"
   ]
  },
  {
   "cell_type": "code",
   "execution_count": null,
   "metadata": {},
   "outputs": [],
   "source": [
    "npl.plot_neuron(cell, plane='xy', color_axon='g')"
   ]
  },
  {
   "cell_type": "markdown",
   "metadata": {},
   "source": [
    "### Insert cell biophysics\n",
    "\n",
    "Here we make the cell active by inserting biophysical mechanisms."
   ]
  },
  {
   "cell_type": "code",
   "execution_count": null,
   "metadata": {},
   "outputs": [],
   "source": [
    "if simple_biophysics:\n",
    "    insert_simple_biophysics(cell)\n",
    "else:\n",
    "    insert_biophysics(cell, params_dict)"
   ]
  },
  {
   "cell_type": "markdown",
   "metadata": {},
   "source": [
    "### Stimulating the cell\n",
    "\n",
    "We can now add some stimulation. The stimulation can be a current clamp `iclamp` or synaptic inputs `syn`. The `stim_point` is where the cell will be stimulated (the closest cell segment to the `stim_point` is used)."
   ]
  },
  {
   "cell_type": "code",
   "execution_count": null,
   "metadata": {},
   "outputs": [],
   "source": [
    "stim = 'syn' # or syn\n",
    "# stimulate on the soma\n",
    "stim_idx = cell.somaidx\n",
    "\n",
    "syn_input_times = np.arange(2, 5)\n",
    "\n",
    "syn_params = {'idx' : stim_idx,\n",
    "              'e' : 0,                                # reversal potential\n",
    "              'syntype' : 'ExpSyn',                   # synapse type\n",
    "              'tau' : 2,                              # syn. time constant ms\n",
    "              'weight' : 0.05,                         # syn. weight\n",
    "              'record_current' : True                 # syn. current record\n",
    "    }\n",
    "clamp_params = {'idx' : stim_idx,\n",
    "                'pptype' : 'IClamp',                   # IClamp point process\n",
    "                'dur' : 300,                            # dur in ms\n",
    "                'amp' : 2,                             # amp in nA\n",
    "                'delay' : 5                            # delay in ms\n",
    "    }\n",
    "\n",
    "#%%\n",
    "\n",
    "if stim == 'syn':\n",
    "    synapse = LFPy.Synapse(cell, **syn_params)\n",
    "    synapse.set_spike_times(np.array(syn_input_times))\n",
    "else:\n",
    "    clamp = LFPy.StimIntElectrode(cell=cell, **clamp_params)"
   ]
  },
  {
   "cell_type": "code",
   "execution_count": null,
   "metadata": {},
   "outputs": [],
   "source": [
    "if not planar:\n",
    "    shift_pos = np.min(cell.z) - z_offset\n",
    "    shift_neg = np.max(cell.z) + z_offset\n",
    "\n",
    "    if np.abs(shift_pos) > np.abs(shift_neg):\n",
    "        shift = shift_neg\n",
    "    else:\n",
    "        shift = shift_pos\n",
    "else:\n",
    "    shift = z_offset\n",
    "    \n",
    "print(f\"z-position of MEA: {shift}\")"
   ]
  },
  {
   "cell_type": "markdown",
   "metadata": {},
   "source": [
    "### Define extracellular electrodes\n",
    "\n",
    "Let's now define the extracellular electrodes using the [MEAutility](https://meautility.readthedocs.io/en/latest/) package."
   ]
  },
  {
   "cell_type": "code",
   "execution_count": null,
   "metadata": {},
   "outputs": [],
   "source": [
    "mea_dim = 100  # n rows x n cols\n",
    "mea_pitch = 17.5  # rows and cols pitch\n",
    "elec_size = 5\n",
    "\n",
    "hdmea = create_mea_probe(pitch=mea_pitch, dim=mea_dim, elec_size=elec_size, z_offset=z_offset)\n",
    "\n",
    "electrode = LFPy.RecExtElectrode(cell, probe=hdmea, n=10)"
   ]
  },
  {
   "cell_type": "markdown",
   "metadata": {},
   "source": [
    "### Run the simulation\n",
    "\n",
    "By passing the `electrode` argument `LFPy` also computes extracellular potentials. The `rec_vmem` argument allows to measure the membrane potenrtial at all segments."
   ]
  },
  {
   "cell_type": "code",
   "execution_count": null,
   "metadata": {},
   "outputs": [],
   "source": [
    "cell.simulate(probes=[electrode], rec_vmem=True)"
   ]
  },
  {
   "cell_type": "code",
   "execution_count": null,
   "metadata": {},
   "outputs": [],
   "source": [
    "eap = electrode.data * 1000  # mV --> uV"
   ]
  },
  {
   "cell_type": "markdown",
   "metadata": {},
   "source": [
    "### Plot membrane potentials"
   ]
  },
  {
   "cell_type": "code",
   "execution_count": null,
   "metadata": {},
   "outputs": [],
   "source": [
    "soma_idx = cell.somaidx[0]\n",
    "dend_idx = cell.get_closest_idx(-100, 350, 0)\n",
    "axon_idx = cell.get_closest_idx(90, -250, 0)"
   ]
  },
  {
   "cell_type": "code",
   "execution_count": null,
   "metadata": {},
   "outputs": [],
   "source": [
    "plt.figure()\n",
    "plt.plot(cell.tvec, cell.vmem[soma_idx], label='soma')\n",
    "plt.plot(cell.tvec, cell.vmem[dend_idx], label='dend')\n",
    "plt.plot(cell.tvec, cell.vmem[axon_idx], label='axon')\n",
    "plt.legend()"
   ]
  },
  {
   "cell_type": "code",
   "execution_count": null,
   "metadata": {},
   "outputs": [],
   "source": [
    "# cutout single template\n",
    "fs = 1 / cell.dt\n",
    "ms_before = 2\n",
    "ms_after = 10\n",
    "\n",
    "min_chan, min_idx = np.unravel_index(np.argmin(eap), eap.shape)"
   ]
  },
  {
   "cell_type": "code",
   "execution_count": null,
   "metadata": {},
   "outputs": [],
   "source": [
    "eap_cut = eap[:, min_idx - int(ms_before * fs): min_idx + int(ms_after * fs)]"
   ]
  },
  {
   "cell_type": "code",
   "execution_count": null,
   "metadata": {},
   "outputs": [],
   "source": [
    "ax = mu.plot_mea_recording(eap_cut, hdmea, colors='gray')\n",
    "npl.plot_neuron(cell, ax=ax, plane='xy', color='k', color_axon='g')"
   ]
  },
  {
   "cell_type": "markdown",
   "metadata": {},
   "source": [
    "### Plot amplitude and peak latency map"
   ]
  },
  {
   "cell_type": "code",
   "execution_count": null,
   "metadata": {},
   "outputs": [],
   "source": [
    "plot_amplitude_map(eap_cut, hdmea.positions, log=True)"
   ]
  },
  {
   "cell_type": "code",
   "execution_count": null,
   "metadata": {},
   "outputs": [],
   "source": [
    "plot_peak_latency_map(eap_cut, hdmea.positions)"
   ]
  },
  {
   "cell_type": "markdown",
   "metadata": {},
   "source": [
    "### Save templates and locations"
   ]
  },
  {
   "cell_type": "code",
   "execution_count": null,
   "metadata": {},
   "outputs": [],
   "source": [
    "template = eap_cut\n",
    "locations = hdmea.positions[:, :-1]  # save only x-y positions"
   ]
  },
  {
   "cell_type": "code",
   "execution_count": null,
   "metadata": {},
   "outputs": [],
   "source": [
    "save_results = True"
   ]
  },
  {
   "cell_type": "code",
   "execution_count": null,
   "metadata": {},
   "outputs": [],
   "source": [
    "# save templates and locations\n",
    "if save_results:\n",
    "    data_folder = Path('..') / 'simulated_data' / 'allen'\n",
    "    if planar:\n",
    "        save_path = data_folder / f'allen3_planar_{zspan}um'\n",
    "    else:\n",
    "        save_path = data_folder / 'allen3_original'\n",
    "\n",
    "    if not save_path.is_dir():\n",
    "        os.makedirs(save_path)\n",
    "\n",
    "    np.save(save_path / 'template.npy', template)\n",
    "    np.save(save_path / 'locations.npy', locations)\n",
    "    save_cell(cell, cell_name='allen3', save_folder=save_path)"
   ]
  }
 ],
 "metadata": {
  "kernelspec": {
   "display_name": "Python 3",
   "language": "python",
   "name": "python3"
  },
  "language_info": {
   "codemirror_mode": {
    "name": "ipython",
    "version": 3
   },
   "file_extension": ".py",
   "mimetype": "text/x-python",
   "name": "python",
   "nbconvert_exporter": "python",
   "pygments_lexer": "ipython3",
   "version": "3.8.8"
  }
 },
 "nbformat": 4,
 "nbformat_minor": 4
}
