{
 "cells": [
  {
   "cell_type": "markdown",
   "metadata": {
    "pycharm": {
     "name": "#%% md\n"
    }
   },
   "source": [
    "# Figure 1 - cell morphologies"
   ]
  },
  {
   "cell_type": "code",
   "execution_count": null,
   "metadata": {},
   "outputs": [],
   "source": [
    "import neuroplotlib as nplt\n",
    "import matplotlib.pyplot as plt\n",
    "from pathlib import Path\n",
    "import numpy as np\n",
    "%matplotlib widget"
   ]
  },
  {
   "cell_type": "code",
   "execution_count": null,
   "metadata": {},
   "outputs": [],
   "source": [
    "save_fig = True\n",
    "fig_folder =  Path('figures') / \"figure1\"\n",
    "fig_folder.mkdir(exist_ok=True, parents=True)"
   ]
  },
  {
   "cell_type": "markdown",
   "metadata": {
    "pycharm": {
     "name": "#%% md\n"
    }
   },
   "source": [
    "# Realistic morphologies"
   ]
  },
  {
   "cell_type": "code",
   "execution_count": null,
   "metadata": {},
   "outputs": [],
   "source": [
    "morphology_folder = Path('..') / 'simulations' / 'neuromorpho' / 'allen_cell_types' "
   ]
  },
  {
   "cell_type": "code",
   "execution_count": null,
   "metadata": {},
   "outputs": [],
   "source": [
    "morphology_files_dict = {\"cell1\": morphology_folder / 'H16-06-008-01-20-04_561096006_m.CNG.swc', \n",
    "                         \"cell2\": morphology_folder / 'H16-06-004-01-04-01_538906745_m.CNG.swc',\n",
    "                         \"cell3\": morphology_folder / 'H16-03-006-01-04-03_563818992_m.CNG.swc', \n",
    "                         \"cell4\": morphology_folder / 'H17-06-006-11-08-02_606834771_m.CNG.swc'}\n",
    "scalebar_positions = {\"cell1\": [[-1000, -800], [-200, -200], 30, 50], \n",
    "                      \"cell2\": [[-750, -550], [-600, -600], 30, 50],\n",
    "                      \"cell3\": [[-550, -350], [-300, -300], 30, 50], \n",
    "                      \"cell4\": [[-1000, -800], [-1000, -1000], 0, 100]}"
   ]
  },
  {
   "cell_type": "code",
   "execution_count": null,
   "metadata": {},
   "outputs": [],
   "source": [
    "fig_realistic = []\n",
    "for cell, morph in morphology_files_dict.items():\n",
    "    fig, ax = plt.subplots(figsize=(10, 10))\n",
    "\n",
    "    nplt.plot_neuron(morphology=str(morph), plane='xy', alpha=0.8, ax=ax, \n",
    "                     exclude_sections=['axon'])\n",
    "    nplt.plot_neuron(morphology=str(morph), plane='xy', alpha=1, ax=ax, \n",
    "                     exclude_sections=['soma', 'apic', 'basal'], color='g')\n",
    "    ax.axis(\"off\")\n",
    "    x, y, text_shift_x, text_shift_y = scalebar_positions[cell]\n",
    "    ax.plot(x, y, color=\"k\", marker=\"|\")\n",
    "    ax.text(x[0] + text_shift_x, y[0] - text_shift_y, \"200$\\mu$m\", color=\"k\", fontsize=15)\n",
    "    fig_realistic.append(fig)"
   ]
  },
  {
   "cell_type": "code",
   "execution_count": null,
   "metadata": {},
   "outputs": [],
   "source": [
    "if save_fig:\n",
    "    for cell, fig in zip(morphology_files_dict.keys(), fig_realistic):\n",
    "        fig.savefig(fig_folder / f\"{cell}.pdf\")\n",
    "        fig.savefig(fig_folder / f\"{cell}.png\", dpi=600)   "
   ]
  }
 ],
 "metadata": {
  "language_info": {
   "name": "python"
  }
 },
 "nbformat": 4,
 "nbformat_minor": 4
}
