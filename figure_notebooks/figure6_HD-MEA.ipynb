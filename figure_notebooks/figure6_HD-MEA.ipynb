{
 "cells": [
  {
   "cell_type": "markdown",
   "metadata": {},
   "source": [
    "# Figure 6 - application to HD-MEA datasets\n",
    "\n",
    "This notebook shows reconstruct axons from two HD-MEA datasets.\n",
    "The datasets (`mea1k.npz` and `dualmode.npz`) needs to be downloaded from Zenodo (https://doi.org/10.5281/zenodo.4896745) and placed in the `axon_velocity/data/mea1k` and `axon_velocity/data/dualmode` folders, respectively."
   ]
  },
  {
   "cell_type": "code",
   "execution_count": null,
   "metadata": {},
   "outputs": [],
   "source": [
    "import numpy as np\n",
    "import matplotlib.pylab as plt\n",
    "import MEAutility as mu\n",
    "import numpy as np\n",
    "from pathlib import Path\n",
    "from pprint import pprint\n",
    "from probeinterface import plotting\n",
    "from tqdm import tqdm\n",
    "import pandas as pd\n",
    "\n",
    "import axon_velocity as av\n",
    "\n",
    "%matplotlib widget"
   ]
  },
  {
   "cell_type": "code",
   "execution_count": null,
   "metadata": {},
   "outputs": [],
   "source": [
    "save_figs = True\n",
    "\n",
    "fig_folder = Path(\"figures/\") / \"figure6\"\n",
    "fig_folder.mkdir(exist_ok=True)"
   ]
  },
  {
   "cell_type": "code",
   "execution_count": null,
   "metadata": {},
   "outputs": [],
   "source": [
    "params = av.get_default_graph_velocity_params()\n",
    "\n",
    "# change params\n",
    "params['detect_threshold'] = 0.01\n",
    "params['kurt_threshold'] = 0.1\n",
    "params['peak_std_threshold'] = 0.8\n",
    "params['upsample'] = 5\n",
    "params['neighbor_radius'] = 100\n",
    "params['r2_threshold'] = 0.8\n",
    "\n",
    "pprint(params)"
   ]
  },
  {
   "cell_type": "code",
   "execution_count": null,
   "metadata": {},
   "outputs": [],
   "source": [
    "def plot_unit_summary(gtr, probe):\n",
    "    # amplitude map\n",
    "    fig_amp, ax_amp = plt.subplots()\n",
    "    _ = av.plot_amplitude_map(gtr.template, gtr.locations, log=True, ax=ax_amp, colorbar=True,\n",
    "                              colorbar_orientation=\"horizontal\", cmap=\"PRGn\")\n",
    "    \n",
    "    # latency map\n",
    "    fig_peak, ax_peak = plt.subplots()  \n",
    "    _ = av.plot_peak_latency_map(gtr.template, gtr.locations, gtr.fs, ax=ax_peak, colorbar=True,\n",
    "                                 colorbar_orientation=\"horizontal\")\n",
    "    \n",
    "    # branches\n",
    "    fig_branches, ax_branches = plt.subplots()  \n",
    "    _ = plotting.plot_probe(probe, ax=ax_branches, contacts_kargs={\"alpha\": 0.1}, probe_shape_kwargs={\"alpha\": 0.1})\n",
    "    ax_branches.axis(\"off\")\n",
    "    ax_branches.set_title(\"\")\n",
    "    ax_branches.plot(gtr.locations[gtr.selected_channels, 0], gtr.locations[gtr.selected_channels, 1], marker=\".\",\n",
    "                     color=\"k\", alpha=0.1, markersize=3, ls=\"\")\n",
    "    cm = plt.get_cmap(\"tab20\")\n",
    "    for i, br in enumerate(gtr.branches):\n",
    "        ax_branches.plot(gtr.locations[br[\"channels\"], 0], gtr.locations[br[\"channels\"], 1], \n",
    "                         marker=\".\", color=cm(i / len(gtr.branches)), ls=\"-\", alpha=0.8, label=i)\n",
    "    # velocities\n",
    "    fig_vel, ax_vel = plt.subplots()  \n",
    "    av.plot_branch_velocities(gtr.branches, legend=False, ax=ax_vel, cmap=\"tab20\")\n",
    "    ax_vel.spines['right'].set_visible(False)\n",
    "    ax_vel.spines['top'].set_visible(False)\n",
    "    ax_vel.set_xticklabels([])\n",
    "    ax_vel.set_yticklabels([])\n",
    "        \n",
    "    fig_dict = dict(amplitude=fig_amp, latency=fig_peak, branches=fig_branches, velocity=fig_vel)\n",
    "    return fig_dict"
   ]
  },
  {
   "cell_type": "code",
   "execution_count": null,
   "metadata": {},
   "outputs": [],
   "source": [
    "data_folder = Path(\"../data/\")\n",
    "mea1k_folder = data_folder / \"mea1k\"\n",
    "dualmode_folder = data_folder / \"dualmode\""
   ]
  },
  {
   "cell_type": "markdown",
   "metadata": {},
   "source": [
    "## Load MEA1k data"
   ]
  },
  {
   "cell_type": "code",
   "execution_count": null,
   "metadata": {},
   "outputs": [],
   "source": [
    "load_dict = np.load(mea1k_folder / \"mea1k.npz\")\n",
    "templates_mea1k = load_dict[\"templates\"]\n",
    "locations_mea1k = load_dict[\"locations\"]\n",
    "fs_mea1k = load_dict[\"fs\"]"
   ]
  },
  {
   "cell_type": "code",
   "execution_count": null,
   "metadata": {},
   "outputs": [],
   "source": [
    "templates_mea1k.shape"
   ]
  },
  {
   "cell_type": "markdown",
   "metadata": {},
   "source": [
    "### Load or recompute axonal branches"
   ]
  },
  {
   "cell_type": "code",
   "execution_count": null,
   "metadata": {},
   "outputs": [],
   "source": [
    "if Path(mea1k_folder / \"gtrs.npy\").is_file():\n",
    "    print(\"Loading existing axonal branches\")\n",
    "    gtrs_mea1k = np.load(mea1k_folder / \"gtrs.npy\", allow_pickle=True)\n",
    "    gtrs_mea1k = gtrs_mea1k.item()\n",
    "else:\n",
    "    print(\"Computing and saving axonal branches\")\n",
    "    gtrs_mea1k = dict()\n",
    "    for i in tqdm(range(len(templates_mea1k)), desc=\"Extracting axons\"):\n",
    "        template = templates_mea1k[i]\n",
    "        try:\n",
    "            gtr = av.compute_graph_propagation_velocity(template, locations_mea1k, fs_mea1k, \n",
    "                                                        verbose=False, **params)\n",
    "            gtrs_mea1k[i] = gtr\n",
    "            print(f\"Found axon for unit {i}\")        \n",
    "        except Exception as e:\n",
    "            print(f\"Failed on {i}: error {e}\")\n",
    "    np.save(mea1k_folder / \"gtrs.npy\", gtrs_mea1k)"
   ]
  },
  {
   "cell_type": "code",
   "execution_count": null,
   "metadata": {},
   "outputs": [],
   "source": [
    "print(f\"MEA1k: Found {len(gtrs_mea1k)} units with detectable axons out of {len(templates_mea1k)}\")"
   ]
  },
  {
   "cell_type": "code",
   "execution_count": null,
   "metadata": {},
   "outputs": [],
   "source": [
    "unit_ids = []\n",
    "branch_ids = []\n",
    "velocities = []\n",
    "path_lengths = []\n",
    "r2s = []\n",
    "\n",
    "for unit, gtr in gtrs_mea1k.items():\n",
    "    for i, br in enumerate(gtr.branches):\n",
    "        path = br[\"channels\"]\n",
    "        velocity = br[\"velocity\"]\n",
    "        r2 = br[\"r2\"]\n",
    "        length = gtr.compute_path_length(path)\n",
    "        unit_ids.append(unit)\n",
    "        branch_ids.append(i)\n",
    "        velocities.append(velocity)\n",
    "        path_lengths.append(length)\n",
    "        r2s.append(r2)\n",
    "\n",
    "df_mea1k = pd.DataFrame({\"unit_ids\": unit_ids, \"branch_id\": branch_ids, \"velocity\": velocities,\n",
    "                         \"length\": path_lengths, \"r2\": r2s})"
   ]
  },
  {
   "cell_type": "code",
   "execution_count": null,
   "metadata": {},
   "outputs": [],
   "source": [
    "print(\"MEA1k\\n\\n\")\n",
    "print(f\"Num axonal branches: {len(df_mea1k)}\")\n",
    "print(f\"Velocities: {np.round(df_mea1k.velocity.mean(), 2)} +- {np.round(df_mea1k.velocity.std(), 2)}\")\n",
    "print(f\"Path lengths: {np.round(df_mea1k.length.mean(), 2)} +- {np.round(df_mea1k.length.std(), 2)}\")\n",
    "print(f\"R2: {np.round(df_mea1k.r2.mean(), 2)} +- {np.round(df_mea1k.r2.std(), 2)}\")\n"
   ]
  },
  {
   "cell_type": "code",
   "execution_count": null,
   "metadata": {},
   "outputs": [],
   "source": [
    "mea1k_selected_unit_idxs = [8] "
   ]
  },
  {
   "cell_type": "code",
   "execution_count": null,
   "metadata": {},
   "outputs": [],
   "source": [
    "probe_mea1k = av.plotting.get_probe(locations_mea1k)\n",
    "\n",
    "fig_mea1k, ax = plt.subplots(figsize=(10, 7))\n",
    "_ = plotting.plot_probe(probe_mea1k, ax=ax, contacts_kargs={\"alpha\": 0.1}, probe_shape_kwargs={\"alpha\": 0.1})\n",
    "ax.axis(\"off\")\n",
    "\n",
    "i = 0\n",
    "i_sel = 0\n",
    "cmap = \"tab20\"\n",
    "cm = plt.get_cmap(cmap)\n",
    "for i, gtr in gtrs_mea1k.items():\n",
    "    \n",
    "    if i in mea1k_selected_unit_idxs:\n",
    "        color = f\"C{i_sel}\"\n",
    "        lw = 3\n",
    "        alpha = 1\n",
    "        zorder = 10\n",
    "        i_sel += 1\n",
    "    else:\n",
    "        color = cm(i / len(gtrs_mea1k))\n",
    "        lw = 1\n",
    "        alpha = 1\n",
    "        zorder = 1\n",
    "    if len(gtr.branches) > 0:\n",
    "        ax.plot(gtr.locations[gtr.init_channel, 0], gtr.locations[gtr.init_channel, 1], \n",
    "                marker=\"o\", markersize=5, color=color, alpha=alpha, zorder=zorder)\n",
    "\n",
    "        if i not in mea1k_selected_unit_idxs:\n",
    "            # for visualization purposes, plot raw branches\n",
    "            for b_i, path in enumerate(gtr._paths_raw):\n",
    "                if b_i == 0:\n",
    "                    ax.plot(gtr.locations[path, 0], gtr.locations[path, 1], marker=\"\", color=color,\n",
    "                            lw=lw, alpha=alpha, zorder=zorder, label=i)\n",
    "                else:\n",
    "                    ax.plot(gtr.locations[path, 0], gtr.locations[path, 1], marker=\"\", color=color,\n",
    "                            lw=lw, alpha=alpha, zorder=zorder)\n",
    "        else:\n",
    "            for b_i, br in enumerate(gtr.branches):\n",
    "                if b_i == 0:\n",
    "                    ax.plot(gtr.locations[br[\"channels\"], 0], gtr.locations[br[\"channels\"], 1], marker=\"\", \n",
    "                            color=color, lw=lw, alpha=alpha, zorder=zorder, label=i)\n",
    "                else:\n",
    "                    ax.plot(gtr.locations[br[\"channels\"], 0], gtr.locations[br[\"channels\"], 1], marker=\"\", \n",
    "                            color=color, lw=lw, alpha=alpha, zorder=zorder)\n",
    "\n",
    "ax.plot([0, 500], [1900, 1900], color=\"k\", marker=\"|\")\n",
    "ax.text(20, 1950, \"500$\\mu$m\", color=\"k\", fontsize=18)\n",
    "ax.set_title(\"\")"
   ]
  },
  {
   "cell_type": "code",
   "execution_count": null,
   "metadata": {},
   "outputs": [],
   "source": [
    "for i in mea1k_selected_unit_idxs:\n",
    "    gtr = gtrs_mea1k[i]\n",
    "    amplitude = np.ptp(gtr.template[gtr.init_channel])\n",
    "    num_selected = len(gtr.selected_channels)\n",
    "    num_branches = len(gtr.branches)\n",
    "    vels = []\n",
    "    r2s = []\n",
    "    lengths = []\n",
    "    for br in gtr.branches:\n",
    "        vels.append(br[\"velocity\"])\n",
    "        lengths.append(gtr.compute_path_length(br[\"channels\"]))\n",
    "        r2s.append(br[\"r2\"])\n",
    "    \n",
    "    print(f\"Unit {i}\\n\\n\")\n",
    "    print(f\"Amplitude: {np.round(amplitude, 1)} uV\")\n",
    "    print(f\"Num selected channels: {num_selected}\")\n",
    "    print(f\"Num axonal branches: {num_branches}\")\n",
    "    print(f\"Velocities: {np.round(np.mean(vels), 2)} +- {np.round(np.std(vels), 2)}\")\n",
    "    print(f\"Path lengths: {np.round(np.mean(lengths), 2)} +- {np.round(np.std(lengths), 2)}\")\n",
    "    print(f\"R2:  {np.round(np.mean(r2s), 2)} +- {np.round(np.std(r2s), 2)}\")"
   ]
  },
  {
   "cell_type": "code",
   "execution_count": null,
   "metadata": {},
   "outputs": [],
   "source": [
    "figs_mea1k = []\n",
    "for i in mea1k_selected_unit_idxs:\n",
    "    fig_dict = plot_unit_summary(gtrs_mea1k[i], probe_mea1k)\n",
    "    figs_mea1k.append(fig_dict)"
   ]
  },
  {
   "cell_type": "code",
   "execution_count": null,
   "metadata": {},
   "outputs": [],
   "source": [
    "if save_figs:\n",
    "    for i, fig_dict in enumerate(figs_mea1k):\n",
    "        for fig_name, fig in fig_dict.items():\n",
    "            if fig_name == \"velocity\":\n",
    "                fig.savefig(fig_folder / f\"mea1k_neuron{i+1}_{fig_name}.svg\")\n",
    "            else:\n",
    "                fig.savefig(fig_folder / f\"mea1k_neuron{i+1}_{fig_name}.png\", dpi=600)\n",
    "    fig_mea1k.savefig(fig_folder / f\"mea1k.png\", dpi=600)"
   ]
  },
  {
   "cell_type": "markdown",
   "metadata": {},
   "source": [
    "## Load DualMode data"
   ]
  },
  {
   "cell_type": "code",
   "execution_count": null,
   "metadata": {},
   "outputs": [],
   "source": [
    "load_dict = np.load(dualmode_folder / \"dualmode.npz\")\n",
    "templates_dualmode = load_dict[\"templates\"]\n",
    "locations_dualmode = load_dict[\"locations\"]\n",
    "fs_dualmode = load_dict[\"fs\"]"
   ]
  },
  {
   "cell_type": "code",
   "execution_count": null,
   "metadata": {},
   "outputs": [],
   "source": [
    "params['upsample'] = 10 # to get ~ 100kHz"
   ]
  },
  {
   "cell_type": "code",
   "execution_count": null,
   "metadata": {},
   "outputs": [],
   "source": [
    "if Path(dualmode_folder / \"gtrs.npy\").is_file():\n",
    "    print(\"Loading existing axonal branches\")\n",
    "    gtrs_dualmode = np.load(dualmode_folder / \"gtrs.npy\", allow_pickle=True)\n",
    "    gtrs_dualmode = gtrs_dualmode.item()\n",
    "else:\n",
    "    print(\"Computing and saving axonal branches\")\n",
    "    gtrs_dualmode = dict()\n",
    "    for i in tqdm(range(len(templates_dualmode)), desc=\"Extracting axons\"):\n",
    "        template = templates_dualmode[i]\n",
    "        try:\n",
    "            gtr = av.compute_graph_propagation_velocity(template, locations_dualmode, fs_dualmode, \n",
    "                                                        verbose=False, **params)\n",
    "            gtrs_dualmode[i] = gtr\n",
    "            print(f\"Found axon for unit {i}\")        \n",
    "        except Exception as e:\n",
    "            print(f\"Failed on {i}: error {e}\")\n",
    "    np.save(dualmode_folder / \"gtrs.npy\", gtrs_dualmode)"
   ]
  },
  {
   "cell_type": "code",
   "execution_count": null,
   "metadata": {},
   "outputs": [],
   "source": [
    "print(f\"DualMode: Found {len(gtrs_dualmode)} units with detectable axons out of {len(templates_dualmode)}\")"
   ]
  },
  {
   "cell_type": "code",
   "execution_count": null,
   "metadata": {},
   "outputs": [],
   "source": [
    "unit_ids = []\n",
    "branch_ids = []\n",
    "velocities = []\n",
    "path_lengths = []\n",
    "r2s = []\n",
    "\n",
    "for unit, gtr in gtrs_dualmode.items():\n",
    "    for i, br in enumerate(gtr.branches):\n",
    "        path = br[\"channels\"]\n",
    "        velocity = br[\"velocity\"]\n",
    "        r2 = br[\"r2\"]\n",
    "        length = gtr.compute_path_length(path)\n",
    "        unit_ids.append(unit)\n",
    "        branch_ids.append(i)\n",
    "        velocities.append(velocity)\n",
    "        path_lengths.append(length)\n",
    "        r2s.append(r2)\n",
    "\n",
    "df_dualmode = pd.DataFrame({\"unit_ids\": unit_ids, \"branch_id\": branch_ids, \"velocity\": velocities,\n",
    "                            \"length\": path_lengths, \"r2\": r2s})"
   ]
  },
  {
   "cell_type": "code",
   "execution_count": null,
   "metadata": {},
   "outputs": [],
   "source": [
    "print(\"DualMode\\n\\n\")\n",
    "print(f\"Num axonal branches: {len(df_dualmode)}\")\n",
    "print(f\"Velocities: {np.round(df_dualmode.velocity.mean(), 2)} +- {np.round(df_dualmode.velocity.std(), 2)}\")\n",
    "print(f\"Path lengths: {np.round(df_dualmode.length.mean(), 2)} +- {np.round(df_dualmode.length.std(), 2)}\")\n",
    "print(f\"R2: {np.round(df_dualmode.r2.mean(), 2)} +- {np.round(df_dualmode.r2.std(), 2)}\")\n"
   ]
  },
  {
   "cell_type": "code",
   "execution_count": null,
   "metadata": {},
   "outputs": [],
   "source": [
    "dualmode_selected_unit_idxs = [20]"
   ]
  },
  {
   "cell_type": "code",
   "execution_count": null,
   "metadata": {},
   "outputs": [],
   "source": [
    "probe_dualmode = av.plotting.get_probe(locations_dualmode)\n",
    "\n",
    "fig_dualmode, ax = plt.subplots(figsize=(10, 7))\n",
    "_ = plotting.plot_probe(probe_dualmode, ax=ax, contacts_kargs={\"alpha\": 0.1}, probe_shape_kwargs={\"alpha\": 0.1})\n",
    "ax.axis(\"off\")\n",
    "\n",
    "i = 0\n",
    "i_sel = 0\n",
    "cmap = \"tab20\"\n",
    "cm = plt.get_cmap(cmap)\n",
    "for i, gtr in gtrs_dualmode.items():\n",
    "    \n",
    "    if i in dualmode_selected_unit_idxs:\n",
    "        color = f\"C{i_sel}\"\n",
    "        lw = 3\n",
    "        alpha = 1\n",
    "        zorder = 10\n",
    "        i_sel += 1\n",
    "    else:\n",
    "        color = cm(i / len(gtrs_dualmode))\n",
    "        lw = 1\n",
    "        alpha = 1\n",
    "        zorder = 1\n",
    "\n",
    "    if len(gtr.branches) > 0:\n",
    "        ax.plot(gtr.locations[gtr.init_channel, 0], gtr.locations[gtr.init_channel, 1], \n",
    "                marker=\"o\", markersize=5, color=color, alpha=alpha, zorder=zorder)\n",
    "\n",
    "        if i not in dualmode_selected_unit_idxs:\n",
    "            # for visualization purposes, plot raw branches\n",
    "            for b_i, path in enumerate(gtr._paths_raw):\n",
    "                if b_i == 0:\n",
    "                    ax.plot(gtr.locations[path, 0], gtr.locations[path, 1], marker=\"\", color=color,\n",
    "                            lw=lw, alpha=alpha, zorder=zorder, label=i)\n",
    "                else:\n",
    "                    ax.plot(gtr.locations[path, 0], gtr.locations[path, 1], marker=\"\", color=color,\n",
    "                            lw=lw, alpha=alpha, zorder=zorder)\n",
    "        else:\n",
    "            for b_i, br in enumerate(gtr.branches):\n",
    "                if b_i == 0:\n",
    "                    ax.plot(gtr.locations[br[\"channels\"], 0], gtr.locations[br[\"channels\"], 1], marker=\"\", color=color,\n",
    "                            lw=lw, alpha=alpha, zorder=zorder, label=i)\n",
    "                else:\n",
    "                    ax.plot(gtr.locations[br[\"channels\"], 0], gtr.locations[br[\"channels\"], 1], marker=\"\", color=color,\n",
    "                            lw=lw, alpha=alpha, zorder=zorder)\n",
    "\n",
    "ax.plot([0, 500], [1650, 1650], color=\"k\", marker=\"|\")\n",
    "ax.text(20, 1690, \"500$\\mu$m\", color=\"k\", fontsize=18)\n",
    "ax.set_title(\"\")"
   ]
  },
  {
   "cell_type": "code",
   "execution_count": null,
   "metadata": {},
   "outputs": [],
   "source": [
    "for i in dualmode_selected_unit_idxs:\n",
    "    gtr = gtrs_dualmode[i]\n",
    "    amplitude = np.ptp(gtr.template[gtr.init_channel])\n",
    "    num_selected = len(gtr.selected_channels)\n",
    "    num_branches = len(gtr.branches)\n",
    "    vels = []\n",
    "    r2s = []\n",
    "    lengths = []\n",
    "    for br in gtr.branches:\n",
    "        vels.append(br[\"velocity\"])\n",
    "        lengths.append(gtr.compute_path_length(br[\"channels\"]))\n",
    "        r2s.append(br[\"r2\"])\n",
    "    \n",
    "    print(f\"Unit {i}\\n\\n\")\n",
    "    print(f\"Amplitude: {np.round(amplitude, 1)} uV\")\n",
    "    print(f\"Num selected channels: {num_selected}\")\n",
    "    print(f\"Num axonal branches: {num_branches}\")\n",
    "    print(f\"Velocities: {np.round(np.mean(vels), 2)} +- {np.round(np.std(vels), 2)}\")\n",
    "    print(f\"Path lengths: {np.round(np.mean(lengths), 2)} +- {np.round(np.std(lengths), 2)}\")\n",
    "    print(f\"R2:  {np.round(np.mean(r2s), 2)} +- {np.round(np.std(r2s), 2)}\")"
   ]
  },
  {
   "cell_type": "code",
   "execution_count": null,
   "metadata": {},
   "outputs": [],
   "source": [
    "figs_dualmode = []\n",
    "for i in dualmode_selected_unit_idxs:\n",
    "    fig_dict = plot_unit_summary(gtrs_dualmode[i], probe_dualmode)\n",
    "    figs_dualmode.append(fig_dict)"
   ]
  },
  {
   "cell_type": "code",
   "execution_count": null,
   "metadata": {},
   "outputs": [],
   "source": [
    "if save_figs:\n",
    "    for i, fig_dict in enumerate(figs_dualmode):\n",
    "        for fig_name, fig in fig_dict.items():\n",
    "            if fig_name == \"velocity\":\n",
    "                fig.savefig(fig_folder / f\"dualmode_neuron{i+1}_{fig_name}.svg\")\n",
    "            else:\n",
    "                fig.savefig(fig_folder / f\"dualmode_neuron{i+1}_{fig_name}.png\", dpi=600)\n",
    "    fig_dualmode.savefig(fig_folder / f\"dualmode.png\", dpi=600)"
   ]
  }
 ],
 "metadata": {
  "kernelspec": {
   "display_name": "Python 3 (ipykernel)",
   "language": "python",
   "name": "python3"
  },
  "language_info": {
   "codemirror_mode": {
    "name": "ipython",
    "version": 3
   },
   "file_extension": ".py",
   "mimetype": "text/x-python",
   "name": "python",
   "nbconvert_exporter": "python",
   "pygments_lexer": "ipython3",
   "version": "3.8.11"
  }
 },
 "nbformat": 4,
 "nbformat_minor": 4
}
