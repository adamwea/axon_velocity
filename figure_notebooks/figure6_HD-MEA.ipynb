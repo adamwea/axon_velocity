{
 "cells": [
  {
   "cell_type": "markdown",
   "metadata": {},
   "source": [
    "# Figure 6 - application to HD-MEA datasets"
   ]
  },
  {
   "cell_type": "code",
   "execution_count": null,
   "metadata": {},
   "outputs": [],
   "source": [
    "import numpy as np\n",
    "import matplotlib.pylab as plt\n",
    "import MEAutility as mu\n",
    "import numpy as np\n",
    "from pathlib import Path\n",
    "from pprint import pprint\n",
    "from probeinterface import plotting\n",
    "from tqdm import tqdm\n",
    "\n",
    "%matplotlib widget\n",
    "\n",
    "import axon_velocity as av"
   ]
  },
  {
   "cell_type": "code",
   "execution_count": null,
   "metadata": {},
   "outputs": [],
   "source": [
    "save_figs = True\n",
    "\n",
    "fig_folder = Path(\"figures/\") / \"figure6\"\n",
    "fig_folder.mkdir(exist_ok=True)"
   ]
  },
  {
   "cell_type": "code",
   "execution_count": null,
   "metadata": {},
   "outputs": [],
   "source": [
    "params = av.get_default_graph_velocity_params()\n",
    "\n",
    "# change params\n",
    "params['detect_threshold'] = 0.01\n",
    "params['kurt_threshold'] = 0.1\n",
    "params['peak_std_threshold'] = 0.8\n",
    "params['upsample'] = 5\n",
    "params['neighbor_radius'] = 100\n",
    "params['r2_threshold'] = 0.8\n",
    "\n",
    "pprint(params)"
   ]
  },
  {
   "cell_type": "code",
   "execution_count": null,
   "metadata": {},
   "outputs": [],
   "source": [
    "def plot_unit_summary(gtr, probe):\n",
    "    # amplitude map\n",
    "    fig_amp, ax_amp = plt.subplots()\n",
    "    _ = av.plot_amplitude_map(gtr.template, gtr.locations, log=True, ax=ax_amp, colorbar=False,\n",
    "                              colorbar_orientation=\"horizontal\")\n",
    "    \n",
    "    # latency map\n",
    "    fig_peak, ax_peak = plt.subplots()  \n",
    "    _ = av.plot_peak_latency_map(gtr.template, gtr.locations, gtr.fs, ax=ax_peak, colorbar=False,\n",
    "                                 colorbar_orientation=\"horizontal\")\n",
    "    \n",
    "    # branches\n",
    "    fig_branches, ax_branches = plt.subplots()  \n",
    "    _ = plotting.plot_probe(probe, ax=ax_branches, contacts_kargs={\"alpha\": 0.1}, probe_shape_kwargs={\"alpha\": 0.1})\n",
    "    ax_branches.axis(\"off\")\n",
    "    ax_branches.set_title(\"\")\n",
    "    ax_branches.plot(gtr.locations[gtr.selected_channels, 0], gtr.locations[gtr.selected_channels, 1], marker=\".\",\n",
    "                     color=\"k\", alpha=0.1, markersize=3, ls=\"\")\n",
    "    cm = plt.get_cmap(\"tab20\")\n",
    "    for i, br in enumerate(gtr.branches):\n",
    "        ax_branches.plot(gtr.locations[br[\"channels\"], 0], gtr.locations[br[\"channels\"], 1], \n",
    "                         marker=\".\", color=cm(i / len(gtr.branches)), ls=\"-\", alpha=0.8, label=i)\n",
    "    # velocities\n",
    "    fig_vel, ax_vel = plt.subplots()  \n",
    "    av.plot_branch_velocities(gtr.branches, legend=False, ax=ax_vel, cmap=\"tab20\")\n",
    "    ax_vel.spines['right'].set_visible(False)\n",
    "    ax_vel.spines['top'].set_visible(False)\n",
    "    \n",
    "    fig_dict = dict(amplitude=fig_amp, latency=fig_peak, branches=fig_branches, velocity=fig_vel)\n",
    "    return fig_dict"
   ]
  },
  {
   "cell_type": "code",
   "execution_count": null,
   "metadata": {},
   "outputs": [],
   "source": [
    "data_folder = Path(\"../data/\")\n",
    "mea1k_folder = data_folder / \"mea1k\"\n",
    "dualmode_folder = data_folder / \"dualmode\""
   ]
  },
  {
   "cell_type": "markdown",
   "metadata": {},
   "source": [
    "## Load MEA1k data"
   ]
  },
  {
   "cell_type": "code",
   "execution_count": null,
   "metadata": {},
   "outputs": [],
   "source": [
    "load_dict = np.load(mea1k_folder / \"mea1k.npz\")\n",
    "templates_mea1k = load_dict[\"templates\"]\n",
    "locations_mea1k = load_dict[\"locations\"]\n",
    "fs_mea1k = load_dict[\"fs\"]"
   ]
  },
  {
   "cell_type": "markdown",
   "metadata": {},
   "source": [
    "### Load or recompute axonal branches"
   ]
  },
  {
   "cell_type": "code",
   "execution_count": null,
   "metadata": {},
   "outputs": [],
   "source": [
    "if Path(mea1k_folder / \"gtrs.npy\").is_file():\n",
    "    print(\"Loading existing axonal branches\")\n",
    "    gtrs_mea1k = np.load(mea1k_folder / \"gtrs.npy\", allow_pickle=True)\n",
    "    gtrs_mea1k = gtrs_mea1k.item()\n",
    "else:\n",
    "    print(\"Computing and saving axonal branches\")\n",
    "    gtrs_mea1k = dict()\n",
    "    for i in tqdm(range(len(templates_mea1k)), desc=\"Extracting axons\"):\n",
    "        template = templates_mea1k[i]\n",
    "        try:\n",
    "            gtr = av.compute_graph_propagation_velocity(template, locations_mea1k, fs_mea1k, \n",
    "                                                        verbose=False, **params)\n",
    "            gtrs_mea1k[i] = gtr\n",
    "            print(f\"Found axon for unit {i}\")        \n",
    "        except Exception as e:\n",
    "            print(f\"Failed on {i}: error {e}\")\n",
    "    np.save(mea1k_folder / \"gtrs.npy\", gtrs_mea1k)"
   ]
  },
  {
   "cell_type": "code",
   "execution_count": null,
   "metadata": {},
   "outputs": [],
   "source": [
    "print(f\"MEA1k: Found {len(gtrs_mea1k)} units with detectable axons out of {len(templates_mea1k)}\")"
   ]
  },
  {
   "cell_type": "code",
   "execution_count": null,
   "metadata": {},
   "outputs": [],
   "source": [
    "gtrs_mea1k.keys()"
   ]
  },
  {
   "cell_type": "code",
   "execution_count": null,
   "metadata": {},
   "outputs": [],
   "source": [
    "mea1k_selected_unit_idxs = [8, 76] # 31"
   ]
  },
  {
   "cell_type": "code",
   "execution_count": null,
   "metadata": {},
   "outputs": [],
   "source": [
    "probe_mea1k = av.plotting._get_probe(locations_mea1k)\n",
    "\n",
    "fig_mea1k, ax = plt.subplots(figsize=(10, 7))\n",
    "_ = plotting.plot_probe(probe_mea1k, ax=ax, contacts_kargs={\"alpha\": 0.1}, probe_shape_kwargs={\"alpha\": 0.1})\n",
    "ax.axis(\"off\")\n",
    "\n",
    "i = 0\n",
    "i_sel = 0\n",
    "cmap = \"tab20\"\n",
    "cm = plt.get_cmap(cmap)\n",
    "for i, gtr in gtrs_mea1k.items():\n",
    "    \n",
    "    if i in mea1k_selected_unit_idxs:\n",
    "        color = f\"C{i_sel}\"\n",
    "        lw = 3\n",
    "        alpha = 1\n",
    "        zorder = 10\n",
    "        i_sel += 1\n",
    "    else:\n",
    "        color = cm(i / len(gtrs_mea1k))\n",
    "        lw = 1\n",
    "        alpha = 1\n",
    "        zorder = 1\n",
    "    if len(gtr.branches) > 0:\n",
    "        ax.plot(gtr.locations[gtr.init_channel, 0], gtr.locations[gtr.init_channel, 1], \n",
    "                marker=\"o\", markersize=5, color=color, alpha=alpha, zorder=zorder)\n",
    "        for b_i, br in enumerate(gtr.branches):\n",
    "            if b_i == 0:\n",
    "                ax.plot(gtr.locations[br[\"channels\"], 0], gtr.locations[br[\"channels\"], 1], marker=\"\", color=color,\n",
    "                        lw=lw, alpha=alpha, zorder=zorder, label=i)\n",
    "            else:\n",
    "                ax.plot(gtr.locations[br[\"channels\"], 0], gtr.locations[br[\"channels\"], 1], marker=\"\", color=color,\n",
    "                        lw=lw, alpha=alpha, zorder=zorder)\n",
    "\n",
    "# ax.legend(ncol=10)\n",
    "ax.plot([0, 500], [1900, 1900], color=\"k\", marker=\"|\")\n",
    "ax.text(100, 1920, \"500$\\mu$m\", color=\"k\")\n",
    "ax.set_title(\"\")"
   ]
  },
  {
   "cell_type": "code",
   "execution_count": null,
   "metadata": {},
   "outputs": [],
   "source": [
    "figs_mea1k = []\n",
    "for i in mea1k_selected_unit_idxs:\n",
    "    fig_dict = plot_unit_summary(gtrs_mea1k[i], probe_mea1k)\n",
    "    figs_mea1k.append(fig_dict)"
   ]
  },
  {
   "cell_type": "code",
   "execution_count": null,
   "metadata": {},
   "outputs": [],
   "source": [
    "if save_figs:\n",
    "    for i, fig_dict in enumerate(figs_mea1k):\n",
    "        for fig_name, fig in fig_dict.items():\n",
    "            fig.savefig(fig_folder / f\"mea1k_neuron{i+1}_{fig_name}.png\", dpi=600)\n",
    "    fig_mea1k.savefig(fig_folder / f\"mea1k.png\", dpi=600)"
   ]
  },
  {
   "cell_type": "markdown",
   "metadata": {},
   "source": [
    "## Load DualMode data"
   ]
  },
  {
   "cell_type": "code",
   "execution_count": null,
   "metadata": {},
   "outputs": [],
   "source": [
    "load_dict = np.load(dualmode_folder / \"dualmode.npz\")\n",
    "templates_dualmode = load_dict[\"templates\"]\n",
    "locations_dualmode = load_dict[\"locations\"]\n",
    "fs_dualmode = load_dict[\"fs\"]"
   ]
  },
  {
   "cell_type": "code",
   "execution_count": null,
   "metadata": {},
   "outputs": [],
   "source": [
    "params['upsample'] = 10 # to get ~ 100kHz"
   ]
  },
  {
   "cell_type": "code",
   "execution_count": null,
   "metadata": {},
   "outputs": [],
   "source": [
    "if Path(dualmode_folder / \"gtrs.npy\").is_file():\n",
    "    print(\"Loading existing axonal branches\")\n",
    "    gtrs_dualmode = np.load(dualmode_folder / \"gtrs.npy\", allow_pickle=True)\n",
    "else:\n",
    "    print(\"Computing and saving axonal branches\")\n",
    "    gtrs_dualmode = dict()\n",
    "    for i in tqdm(range(len(templates_dualmode)), desc=\"Extracting axons\"):\n",
    "        template = templates_dualmode[i]\n",
    "        try:\n",
    "            gtr = av.compute_graph_propagation_velocity(template, locations_dualmode, fs_dualmode, \n",
    "                                                        verbose=False, **params)\n",
    "            gtrs_dualmode[i] = gtr\n",
    "            print(f\"Found axon for unit {i}\")        \n",
    "        except Exception as e:\n",
    "            print(f\"Failed on {i}: error {e}\")\n",
    "    np.save(dualmode_folder / \"gtrs.npy\", gtrs_dualmode)"
   ]
  },
  {
   "cell_type": "code",
   "execution_count": null,
   "metadata": {},
   "outputs": [],
   "source": [
    "print(f\"DualMode: Found {len(gtrs_dualmode)} units with detectable axons out of {len(templates_dualmode)}\")"
   ]
  },
  {
   "cell_type": "code",
   "execution_count": null,
   "metadata": {},
   "outputs": [],
   "source": [
    "dualmode_selected_unit_idxs = [20, 45]"
   ]
  },
  {
   "cell_type": "code",
   "execution_count": null,
   "metadata": {},
   "outputs": [],
   "source": [
    "probe_dualmode = av.plotting._get_probe(locations_dualmode)\n",
    "\n",
    "fig_dualmode, ax = plt.subplots(figsize=(10, 7))\n",
    "_ = plotting.plot_probe(probe_dualmode, ax=ax, contacts_kargs={\"alpha\": 0.1}, probe_shape_kwargs={\"alpha\": 0.1})\n",
    "ax.axis(\"off\")\n",
    "\n",
    "i = 0\n",
    "i_sel = 0\n",
    "cmap = \"tab20\"\n",
    "cm = plt.get_cmap(cmap)\n",
    "for i, gtr in gtrs_dualmode.items():\n",
    "    \n",
    "    if i in dualmode_selected_unit_idxs:\n",
    "        color = f\"C{i_sel}\"\n",
    "        lw = 3\n",
    "        alpha = 1\n",
    "        zorder = 10\n",
    "        i_sel += 1\n",
    "    else:\n",
    "        color = cm(i / len(gtrs_dualmode))\n",
    "        lw = 1\n",
    "        alpha = 1\n",
    "        zorder = 1\n",
    "\n",
    "    if len(gtr.branches) > 0:\n",
    "        ax.plot(gtr.locations[gtr.init_channel, 0], gtr.locations[gtr.init_channel, 1], \n",
    "                marker=\"o\", markersize=5, color=color, alpha=alpha, zorder=zorder)\n",
    "        for b_i, br in enumerate(gtr.branches):\n",
    "            if b_i == 0:\n",
    "                ax.plot(gtr.locations[br[\"channels\"], 0], gtr.locations[br[\"channels\"], 1], marker=\"\", color=color,\n",
    "                        lw=lw, alpha=alpha, zorder=zorder, label=i)\n",
    "            else:\n",
    "                ax.plot(gtr.locations[br[\"channels\"], 0], gtr.locations[br[\"channels\"], 1], marker=\"\", color=color,\n",
    "                        lw=lw, alpha=alpha, zorder=zorder)\n",
    "\n",
    "# ax.legend(ncol=10)\n",
    "ax.plot([0, 500], [1700, 1700], color=\"k\", marker=\"|\")\n",
    "ax.text(100, 1720, \"500$\\mu$m\", color=\"k\")\n",
    "ax.set_title(\"\")"
   ]
  },
  {
   "cell_type": "code",
   "execution_count": null,
   "metadata": {},
   "outputs": [],
   "source": [
    "figs_dualmode = []\n",
    "for i in dualmode_selected_unit_idxs:\n",
    "    fig_dict = plot_unit_summary(gtrs_dualmode[i], probe_dualmode)\n",
    "    figs_dualmode.append(fig_dict)"
   ]
  },
  {
   "cell_type": "code",
   "execution_count": null,
   "metadata": {},
   "outputs": [],
   "source": [
    "if save_figs:\n",
    "    for i, fig_dict in enumerate(figs_dualmode):\n",
    "        for fig_name, fig in fig_dict.items():\n",
    "            fig.savefig(fig_folder / f\"dualmode_neuron{i+1}_{fig_name}.png\", dpi=600)\n",
    "    fig_dualmode.savefig(fig_folder / f\"dualmode.png\", dpi=600)"
   ]
  }
 ],
 "metadata": {
  "kernelspec": {
   "display_name": "Python 3",
   "language": "python",
   "name": "python3"
  },
  "language_info": {
   "codemirror_mode": {
    "name": "ipython",
    "version": 3
   },
   "file_extension": ".py",
   "mimetype": "text/x-python",
   "name": "python",
   "nbconvert_exporter": "python",
   "pygments_lexer": "ipython3",
   "version": "3.8.5"
  }
 },
 "nbformat": 4,
 "nbformat_minor": 4
}
