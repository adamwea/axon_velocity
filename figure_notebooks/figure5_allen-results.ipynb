{
 "cells": [
  {
   "cell_type": "markdown",
   "metadata": {},
   "source": [
    "# Figure 5 - results on Allen morphologies"
   ]
  },
  {
   "cell_type": "code",
   "execution_count": null,
   "metadata": {},
   "outputs": [],
   "source": [
    "import numpy as np\n",
    "import matplotlib.pylab as plt\n",
    "import MEAutility as mu\n",
    "from scipy.signal import resample_poly\n",
    "from scipy.stats import kurtosis, linregress\n",
    "from matplotlib import gridspec\n",
    "from scipy import io\n",
    "import numpy as np\n",
    "import networkx as nx\n",
    "from pathlib import Path\n",
    "from pprint import pprint\n",
    "import sys\n",
    "import neuroplotlib as nplt\n",
    "import pandas as pd\n",
    "\n",
    "\n",
    "from axon_velocity import *\n",
    "from axon_velocity.models import *\n",
    "from axon_velocity.evaluation import *\n",
    "\n",
    "from axon_velocity.tools import distance_numpy\n",
    "\n",
    "%matplotlib widget"
   ]
  },
  {
   "cell_type": "markdown",
   "metadata": {},
   "source": [
    "### Define algorithm params"
   ]
  },
  {
   "cell_type": "code",
   "execution_count": null,
   "metadata": {},
   "outputs": [],
   "source": [
    "params = get_default_graph_velocity_params()\n",
    "\n",
    "# change params\n",
    "params['detect_threshold'] = 0.01\n",
    "params['kurt_threshold'] = 0.5\n",
    "params['peak_std_threshold'] = None\n",
    "params['init_delay'] = 0.1\n",
    "params['upsample'] = 5\n",
    "params['neighbor_radius'] = 50\n",
    "params[\"r2_threshold\"] = 0.9\n",
    "params[\"max_distance_for_edge\"] = 100\n",
    "params[\"max_distance_to_init\"] = 300\n",
    "\n",
    "pprint(params)"
   ]
  },
  {
   "cell_type": "code",
   "execution_count": null,
   "metadata": {},
   "outputs": [],
   "source": [
    "plot_tracking_figures = False"
   ]
  },
  {
   "cell_type": "code",
   "execution_count": null,
   "metadata": {},
   "outputs": [],
   "source": [
    "morphology_folder = Path('..') / 'simulations' / 'neuromorpho' / 'allen_cell_types'\n",
    "data_folder = Path('..') / 'simulations' / 'simulated_data' / 'allen' "
   ]
  },
  {
   "cell_type": "code",
   "execution_count": null,
   "metadata": {},
   "outputs": [],
   "source": [
    "zspan = 0"
   ]
  },
  {
   "cell_type": "code",
   "execution_count": null,
   "metadata": {},
   "outputs": [],
   "source": [
    "morphology_files_dict = {\"cell1\": morphology_folder / 'H16-06-008-01-20-04_561096006_m.CNG.swc', \n",
    "                         \"cell2\": morphology_folder / 'H16-06-004-01-04-01_538906745_m.CNG.swc',\n",
    "                         \"cell3\": morphology_folder / 'H16-03-006-01-04-03_563818992_m.CNG.swc', \n",
    "                         \"cell4\": morphology_folder / 'H17-06-006-11-08-02_606834771_m.CNG.swc'}\n",
    "cell_folders_dict = {\"cell1\": data_folder / f'allen0_planar_{zspan}um' , \n",
    "                     \"cell2\": data_folder / f'allen1_planar_{zspan}um' ,\n",
    "                     \"cell3\": data_folder / f'allen2_planar_{zspan}um' , \n",
    "                     \"cell4\": data_folder / f'allen3_planar_{zspan}um' }"
   ]
  },
  {
   "cell_type": "markdown",
   "metadata": {},
   "source": [
    "## Cell 1"
   ]
  },
  {
   "cell_type": "code",
   "execution_count": null,
   "metadata": {},
   "outputs": [],
   "source": [
    "cell = \"cell1\""
   ]
  },
  {
   "cell_type": "code",
   "execution_count": null,
   "metadata": {},
   "outputs": [],
   "source": [
    "cell_folder = cell_folders_dict[cell]\n",
    "morphology_file_1 = morphology_files_dict[cell]"
   ]
  },
  {
   "cell_type": "code",
   "execution_count": null,
   "metadata": {},
   "outputs": [],
   "source": [
    "cell_path = [p for p in cell_folder.iterdir() if p.suffix == '.pkl'][0]\n",
    "locs_path = [p for p in cell_folder.iterdir() if 'locations' in p.name][0]\n",
    "template_path = [p for p in cell_folder.iterdir() if 'template' in p.name][0]"
   ]
  },
  {
   "cell_type": "code",
   "execution_count": null,
   "metadata": {},
   "outputs": [],
   "source": [
    "cell_1, sections_1 = load_cell(cell_path)"
   ]
  },
  {
   "cell_type": "code",
   "execution_count": null,
   "metadata": {},
   "outputs": [],
   "source": [
    "locations_1 = np.load(locs_path)\n",
    "template_1 = np.load(template_path)"
   ]
  },
  {
   "cell_type": "code",
   "execution_count": null,
   "metadata": {},
   "outputs": [],
   "source": [
    "fs = 1 / cell_1.dt * 1000"
   ]
  },
  {
   "cell_type": "code",
   "execution_count": null,
   "metadata": {},
   "outputs": [],
   "source": [
    "gtr1 = GraphAxonTracking(template_1, locations_1, fs, verbose=True, **params)"
   ]
  },
  {
   "cell_type": "code",
   "execution_count": null,
   "metadata": {},
   "outputs": [],
   "source": [
    "gtr1.select_channels()"
   ]
  },
  {
   "cell_type": "code",
   "execution_count": null,
   "metadata": {},
   "outputs": [],
   "source": [
    "gtr1.build_graph()"
   ]
  },
  {
   "cell_type": "code",
   "execution_count": null,
   "metadata": {},
   "outputs": [],
   "source": [
    "gtr1.find_paths()"
   ]
  },
  {
   "cell_type": "code",
   "execution_count": null,
   "metadata": {},
   "outputs": [],
   "source": [
    "gtr1.clean_paths()"
   ]
  },
  {
   "cell_type": "code",
   "execution_count": null,
   "metadata": {},
   "outputs": [],
   "source": [
    "plot_axon_summary(gtr1)"
   ]
  },
  {
   "cell_type": "code",
   "execution_count": null,
   "metadata": {},
   "outputs": [],
   "source": [
    "# ani = play_template_map(template_1, locations_1, skip_frames=5, log=False)\n",
    "# ani.save(\"cell_1_log.gif\", writer='imagemagick', fps=10)"
   ]
  },
  {
   "cell_type": "code",
   "execution_count": null,
   "metadata": {},
   "outputs": [],
   "source": [
    "if plot_tracking_figures:\n",
    "    fchans1 = gtr1.plot_channel_selection()\n",
    "    fgraph1 = gtr1.plot_graph()\n",
    "    fbranch1 = gtr1.plot_branches()\n",
    "    fvel1 = gtr1.plot_velocities()"
   ]
  },
  {
   "cell_type": "code",
   "execution_count": null,
   "metadata": {},
   "outputs": [],
   "source": [
    "branch_gt1 = extract_ground_truth_velocity(cell_1, sections_1, min_length=50, min_segs=5)\n",
    "for i, br in enumerate(branch_gt1): \n",
    "    print(f\"GT branch {i}: velocity {br['velocity']} length: {len(br['idxs'])}\")"
   ]
  },
  {
   "cell_type": "code",
   "execution_count": null,
   "metadata": {},
   "outputs": [],
   "source": [
    "ev1 = evaluate_tracking_accuracy(gtr1.branches, branch_gt1, cell_1, locations_1)\n",
    "print(f'Number of matched branches: {len(ev1)}')"
   ]
  },
  {
   "cell_type": "code",
   "execution_count": null,
   "metadata": {},
   "outputs": [],
   "source": [
    "cmap_branches = \"tab20\"\n",
    "cmap_footprint = \"Greys\"\n",
    "alpha_footprint = 1"
   ]
  },
  {
   "cell_type": "code",
   "execution_count": null,
   "metadata": {
    "scrolled": false
   },
   "outputs": [],
   "source": [
    "fig1, ax = plt.subplots()\n",
    "fig1.set_size_inches((10, 10))\n",
    "\n",
    "morphology_file = morphology_file_1\n",
    "cell_model = cell_1\n",
    "evaluation = ev1\n",
    "locations = locations_1\n",
    "\n",
    "nplt.plot_neuron(morphology=str(morphology_file), plane='xy', alpha=0.1, ax=ax, position=cell_model.somapos,\n",
    "                 exclude_sections=['axon'])\n",
    "nplt.plot_neuron(morphology=str(morphology_file), plane='xy', alpha=0.1, ax=ax, position=cell_model.somapos,\n",
    "                 exclude_sections=['soma', 'apic', 'basal'], color='k')\n",
    "nplt.plot_neuron(morphology=str(morphology_file), plane='xy', alpha=0.1, ax=ax, position=cell_model.somapos,\n",
    "                 exclude_sections=['soma', 'apic', 'basal'], color='g')\n",
    "plot_amplitude_map(template_1, locations_1, log=True, alpha=alpha_footprint, ax=ax, cmap=cmap_footprint)\n",
    "\n",
    "cm = plt.get_cmap(cmap_branches)\n",
    "\n",
    "for i, ev in enumerate(evaluation):  \n",
    "    ax_idxs_list = ev['axon_idxs']\n",
    "    channels = ev['channels']\n",
    "    locs = locations[channels]\n",
    "    color = cm(i / len(evaluation))\n",
    "    \n",
    "    for i_idx, ax_idxs in enumerate(ax_idxs_list):\n",
    "        if i_idx == 0:\n",
    "            ax.plot(np.mean(cell_model.x[ax_idxs], 1), \n",
    "                    np.mean(cell_model.y[ax_idxs], 1), ls='-', lw=3, color=color, \n",
    "                    alpha=1, label=f\"branch {i}\")\n",
    "        else:\n",
    "            ax.plot(np.mean(cell_model.x[ax_idxs], 1), np.mean(cell_model.y[ax_idxs], 1), \n",
    "                    ls='-', lw=3, color=color, alpha=1)\n",
    "    ax.plot(locs[:, 0], locs[:, 1], ls='', marker='.', color=color, markersize=10, alpha=1)\n",
    "\n",
    "ax.legend(ncol=4, fontsize=14, loc=9)\n",
    "ax.axis('equal')\n",
    "ax.axis('off')"
   ]
  },
  {
   "cell_type": "code",
   "execution_count": null,
   "metadata": {},
   "outputs": [],
   "source": [
    "vel_gt = []\n",
    "vel_est = []\n",
    "vel_abs = []\n",
    "vel_rel = []\n",
    "errors = []\n",
    "branch_ids = []\n",
    "models = []\n",
    "\n",
    "for ev in ev1:\n",
    "    branch_ids.append(ev[\"branch_idx\"])\n",
    "    vel_gt.append(np.round(ev['velocity_ground_truth'], 2))\n",
    "    vel_est.append(np.round(ev['velocity_estimated']))\n",
    "    vel_abs.append(np.round(np.abs(ev['velocity_ground_truth'] - ev['velocity_estimated']), 2))\n",
    "    vel_rel.append(np.round(np.abs(ev['velocity_ground_truth'] - ev['velocity_estimated']) / \n",
    "                   ev['velocity_ground_truth'] * 100, 2))\n",
    "    models.append(\"Cell 1\")\n",
    "    errors.append(f\"{np.round(ev['mean_error'], 2)} $\\pm$ {np.round(ev['std_error'],2)}\")\n",
    "\n",
    "df1 = pd.DataFrame(data={\"model ID\": models, \"branch\": branch_ids, \"velocity GT\": vel_gt, \"velocity estimated\": vel_est, \n",
    "                         \"velocity error (abs.)\": vel_abs, \"velocity error (rel.)\": vel_rel,\"tracking error\": errors})\n",
    "df1"
   ]
  },
  {
   "cell_type": "markdown",
   "metadata": {},
   "source": [
    "## Cell 2"
   ]
  },
  {
   "cell_type": "code",
   "execution_count": null,
   "metadata": {},
   "outputs": [],
   "source": [
    "cell = \"cell2\""
   ]
  },
  {
   "cell_type": "code",
   "execution_count": null,
   "metadata": {},
   "outputs": [],
   "source": [
    "cell_folder = cell_folders_dict[cell]\n",
    "morphology_file_2 = morphology_files_dict[cell]"
   ]
  },
  {
   "cell_type": "code",
   "execution_count": null,
   "metadata": {},
   "outputs": [],
   "source": [
    "cell_path = [p for p in cell_folder.iterdir() if p.suffix == '.pkl'][0]\n",
    "locs_path = [p for p in cell_folder.iterdir() if 'locations' in p.name][0]\n",
    "template_path = [p for p in cell_folder.iterdir() if 'template' in p.name][0]"
   ]
  },
  {
   "cell_type": "code",
   "execution_count": null,
   "metadata": {},
   "outputs": [],
   "source": [
    "cell_2, sections_2 = load_cell(cell_path)"
   ]
  },
  {
   "cell_type": "code",
   "execution_count": null,
   "metadata": {},
   "outputs": [],
   "source": [
    "locations_2 = np.load(locs_path)\n",
    "template_2 = np.load(template_path)"
   ]
  },
  {
   "cell_type": "code",
   "execution_count": null,
   "metadata": {},
   "outputs": [],
   "source": [
    "fs = 1 / cell_2.dt * 1000"
   ]
  },
  {
   "cell_type": "code",
   "execution_count": null,
   "metadata": {},
   "outputs": [],
   "source": [
    "gtr2 = GraphAxonTracking(template_2, locations_2, fs, verbose=True, **params)"
   ]
  },
  {
   "cell_type": "code",
   "execution_count": null,
   "metadata": {},
   "outputs": [],
   "source": [
    "gtr2.select_channels()"
   ]
  },
  {
   "cell_type": "code",
   "execution_count": null,
   "metadata": {},
   "outputs": [],
   "source": [
    "gtr2.build_graph()"
   ]
  },
  {
   "cell_type": "code",
   "execution_count": null,
   "metadata": {},
   "outputs": [],
   "source": [
    "gtr2.find_paths()"
   ]
  },
  {
   "cell_type": "code",
   "execution_count": null,
   "metadata": {},
   "outputs": [],
   "source": [
    "gtr2.clean_paths()"
   ]
  },
  {
   "cell_type": "code",
   "execution_count": null,
   "metadata": {},
   "outputs": [],
   "source": [
    "_ = plot_axon_summary(gtr2)"
   ]
  },
  {
   "cell_type": "code",
   "execution_count": null,
   "metadata": {},
   "outputs": [],
   "source": [
    "if plot_tracking_figures:\n",
    "    fchans2 = gtr2.plot_channel_selection()\n",
    "    fgraph2 = gtr2.plot_graph()\n",
    "    fbranch2 = gtr2.plot_branches()\n",
    "    fvel2 = gtr2.plot_velocities()"
   ]
  },
  {
   "cell_type": "code",
   "execution_count": null,
   "metadata": {},
   "outputs": [],
   "source": [
    "branch_gt2 = extract_ground_truth_velocity(cell_2, sections_2, min_length=50, min_segs=5)\n",
    "for i, br in enumerate(branch_gt2): \n",
    "    print(f\"GT branch {i}: velocity {br['velocity']} length: {len(br['idxs'])}\")"
   ]
  },
  {
   "cell_type": "code",
   "execution_count": null,
   "metadata": {},
   "outputs": [],
   "source": [
    "ev2 = evaluate_tracking_accuracy(gtr2.branches, branch_gt2, cell_2, locations_2, max_median_dist_for_match=20)\n",
    "print(f'Number of matched branches: {len(ev2)}')"
   ]
  },
  {
   "cell_type": "code",
   "execution_count": null,
   "metadata": {},
   "outputs": [],
   "source": [
    "# cell_locations = np.array([[np.mean(x), np.mean(y)] for (x, y) in zip(cell_2.x, cell_2.y)])\n",
    "# plt.figure()\n",
    "# for i, br in enumerate(branch_gt2):\n",
    "#     plt.plot(cell_locations[br['idxs'], 0], cell_locations[br['idxs'], 1], marker='.', label=f\"GT{i}\")\n",
    "# for i, br in enumerate(gtr2.branches):\n",
    "#     plt.plot(gtr2.locations[br['channels'], 0], gtr2.locations[br['channels'], 1], marker='*', label=f\"EST{i}\")\n",
    "# plt.legend()"
   ]
  },
  {
   "cell_type": "code",
   "execution_count": null,
   "metadata": {
    "scrolled": false
   },
   "outputs": [],
   "source": [
    "fig2, ax = plt.subplots()\n",
    "fig2.set_size_inches((10, 10))\n",
    "\n",
    "morphology_file = morphology_file_2\n",
    "cell_model = cell_2\n",
    "evaluation = ev2\n",
    "locations = locations_2\n",
    "\n",
    "nplt.plot_neuron(morphology=str(morphology_file), plane='xy', alpha=0.1, ax=ax, position=cell_model.somapos,\n",
    "                 exclude_sections=['axon'])\n",
    "nplt.plot_neuron(morphology=str(morphology_file), plane='xy', alpha=0.1, ax=ax, position=cell_model.somapos,\n",
    "                 exclude_sections=['soma', 'apic', 'basal'], color='k')\n",
    "nplt.plot_neuron(morphology=str(morphology_file), plane='xy', alpha=0.1, ax=ax, position=cell_model.somapos,\n",
    "                 exclude_sections=['soma', 'apic', 'basal'], color='g')\n",
    "plot_amplitude_map(template_2, locations_2, log=True, alpha=alpha_footprint, ax=ax, cmap=cmap_footprint)\n",
    "\n",
    "cm = plt.get_cmap(cmap_branches)\n",
    "\n",
    "for i, ev in enumerate(evaluation):  \n",
    "    ax_idxs_list = ev['axon_idxs']\n",
    "    channels = ev['channels']\n",
    "    locs = locations[channels]\n",
    "    color = cm(i / len(evaluation))\n",
    "    for i_idx, ax_idxs in enumerate(ax_idxs_list):\n",
    "        if i_idx == 0:\n",
    "            ax.plot(np.mean(cell_model.x[ax_idxs], 1), \n",
    "                    np.mean(cell_model.y[ax_idxs], 1), ls='-', lw=3, color=color, \n",
    "                    alpha=1, label=f\"branch {i}\")\n",
    "        else:\n",
    "            ax.plot(np.mean(cell_model.x[ax_idxs], 1), np.mean(cell_model.y[ax_idxs], 1), \n",
    "                    ls='-', lw=3, color=color, alpha=1)\n",
    "    ax.plot(locs[:, 0], locs[:, 1], ls='', marker='.', color=color, markersize=10, alpha=1)\n",
    "\n",
    "ax.legend(ncol=4, fontsize=14, loc=9)\n",
    "ax.axis('equal')\n",
    "ax.axis('off')"
   ]
  },
  {
   "cell_type": "code",
   "execution_count": null,
   "metadata": {},
   "outputs": [],
   "source": [
    "branches = gtr2.branches\n",
    "gt_branches = branch_gt2\n",
    "matches = np.zeros((len(gt_branches), len(branches)))\n",
    "num_est_segments = np.zeros((len(gt_branches), len(branches)), dtype=int)\n",
    "cell_locations = np.array([[np.mean(x), np.mean(y)] for (x, y) in zip(cell_2.x, cell_2.y)])\n",
    "\n",
    "# find median distance between GT and est branches\n",
    "for i, (gt_branch) in enumerate(gt_branches):\n",
    "    median_distances_to_estimated_branch = []\n",
    "    est_segments_distance = []\n",
    "    for br, branch_dict in enumerate(branches):\n",
    "        branch_channels = branch_dict['channels']\n",
    "        dists = []\n",
    "        est_segment = []\n",
    "        for idx in gt_branch['idxs']:\n",
    "            seg_loc = cell_locations[idx]\n",
    "            dists_to_estimated_branch = []\n",
    "            for i_ch, ch in enumerate(branch_channels[:-1]):\n",
    "                loc_0 = locations[ch]\n",
    "                loc_1 = locations[branch_channels[i_ch + 1]]\n",
    "                d = distance_numpy(loc_0, loc_1, seg_loc)\n",
    "                dists_to_estimated_branch.append(d)\n",
    "            est_segment.append(np.argmin(dists_to_estimated_branch))\n",
    "            dists.append(np.min(dists_to_estimated_branch))\n",
    "        est_segments_distance.append(len(np.unique(est_segment)))\n",
    "        median_distances_to_estimated_branch.append(np.median(dists))\n",
    "    matches[i] = median_distances_to_estimated_branch\n",
    "    num_est_segments[i] = est_segments_distance\n",
    "    \n",
    "# assign gt_branch to detected branch\n",
    "gt_matches = np.argmin(matches, axis=1)\n",
    "\n",
    "for i, gt_match in enumerate(gt_matches):\n",
    "    if matches[i, gt_match] > 30 or num_est_segments[i, gt_match] < 3:\n",
    "        gt_matches[i] = -1"
   ]
  },
  {
   "cell_type": "code",
   "execution_count": null,
   "metadata": {},
   "outputs": [],
   "source": [
    "vel_gt = []\n",
    "vel_est = []\n",
    "vel_abs = []\n",
    "vel_rel = []\n",
    "errors = []\n",
    "branch_ids = []\n",
    "models = []\n",
    "\n",
    "for ev in ev2:\n",
    "    branch_ids.append(ev[\"branch_idx\"])\n",
    "    vel_gt.append(np.round(ev['velocity_ground_truth'], 2))\n",
    "    vel_est.append(np.round(ev['velocity_estimated']))\n",
    "    vel_abs.append(np.round(np.abs(ev['velocity_ground_truth'] - ev['velocity_estimated']), 2))\n",
    "    vel_rel.append(np.round(np.abs(ev['velocity_ground_truth'] - ev['velocity_estimated']) / \n",
    "                   ev['velocity_ground_truth'] * 100, 2))\n",
    "    models.append(\"Cell 2\")\n",
    "    errors.append(f\"{np.round(ev['mean_error'], 2)} $\\pm$ {np.round(ev['std_error'],2)}\")\n",
    "\n",
    "df2 = pd.DataFrame(data={\"model ID\": models, \"branch\": branch_ids, \"velocity GT\": vel_gt, \"velocity estimated\": vel_est, \n",
    "                         \"velocity error (abs.)\": vel_abs, \"velocity error (rel.)\": vel_rel,\"tracking error\": errors})\n",
    "df2"
   ]
  },
  {
   "cell_type": "markdown",
   "metadata": {},
   "source": [
    "## Cell 3"
   ]
  },
  {
   "cell_type": "code",
   "execution_count": null,
   "metadata": {},
   "outputs": [],
   "source": [
    "cell = \"cell3\""
   ]
  },
  {
   "cell_type": "code",
   "execution_count": null,
   "metadata": {},
   "outputs": [],
   "source": [
    "cell_folder = cell_folders_dict[cell]\n",
    "morphology_file_3 = morphology_files_dict[cell]"
   ]
  },
  {
   "cell_type": "code",
   "execution_count": null,
   "metadata": {},
   "outputs": [],
   "source": [
    "cell_path = [p for p in cell_folder.iterdir() if p.suffix == '.pkl'][0]\n",
    "locs_path = [p for p in cell_folder.iterdir() if 'locations' in p.name][0]\n",
    "template_path = [p for p in cell_folder.iterdir() if 'template' in p.name][0]"
   ]
  },
  {
   "cell_type": "code",
   "execution_count": null,
   "metadata": {},
   "outputs": [],
   "source": [
    "cell_3, sections_3 = load_cell(cell_path)"
   ]
  },
  {
   "cell_type": "code",
   "execution_count": null,
   "metadata": {},
   "outputs": [],
   "source": [
    "locations_3 = np.load(locs_path)\n",
    "template_3 = np.load(template_path)"
   ]
  },
  {
   "cell_type": "code",
   "execution_count": null,
   "metadata": {},
   "outputs": [],
   "source": [
    "fs = 1 / cell_3.dt * 1000"
   ]
  },
  {
   "cell_type": "code",
   "execution_count": null,
   "metadata": {},
   "outputs": [],
   "source": [
    "gtr3 = GraphAxonTracking(template_3, locations_3, fs, verbose=True, **params)"
   ]
  },
  {
   "cell_type": "code",
   "execution_count": null,
   "metadata": {},
   "outputs": [],
   "source": [
    "gtr3.select_channels()"
   ]
  },
  {
   "cell_type": "code",
   "execution_count": null,
   "metadata": {},
   "outputs": [],
   "source": [
    "gtr3.build_graph()"
   ]
  },
  {
   "cell_type": "code",
   "execution_count": null,
   "metadata": {},
   "outputs": [],
   "source": [
    "gtr3.find_paths()"
   ]
  },
  {
   "cell_type": "code",
   "execution_count": null,
   "metadata": {},
   "outputs": [],
   "source": [
    "gtr3.clean_paths()"
   ]
  },
  {
   "cell_type": "code",
   "execution_count": null,
   "metadata": {},
   "outputs": [],
   "source": [
    "if plot_tracking_figures:\n",
    "    fchans3 = gtr3.plot_channel_selection()\n",
    "    fgraph3 = gtr3.plot_graph()\n",
    "    fbranch3 = gtr3.plot_branches()\n",
    "    fvel3 = gtr3.plot_velocities()"
   ]
  },
  {
   "cell_type": "code",
   "execution_count": null,
   "metadata": {},
   "outputs": [],
   "source": [
    "plot_axon_summary(gtr3)"
   ]
  },
  {
   "cell_type": "code",
   "execution_count": null,
   "metadata": {},
   "outputs": [],
   "source": [
    "branch_gt3 = extract_ground_truth_velocity(cell_3, sections_3)\n",
    "for i, br in enumerate(branch_gt3): \n",
    "    print(f\"GT branch {i}: velocity {br['velocity']} length: {len(br['idxs'])}\")"
   ]
  },
  {
   "cell_type": "code",
   "execution_count": null,
   "metadata": {},
   "outputs": [],
   "source": [
    "ev3 = evaluate_tracking_accuracy(gtr3.branches, branch_gt3, cell_3, locations_3)\n",
    "print(f'Number of matched branches: {len(ev3)}')"
   ]
  },
  {
   "cell_type": "code",
   "execution_count": null,
   "metadata": {},
   "outputs": [],
   "source": [
    "fig3, ax = plt.subplots()\n",
    "fig3.set_size_inches((10, 10))\n",
    "\n",
    "morphology_file = morphology_file_3\n",
    "cell_model = cell_3\n",
    "evaluation = ev3\n",
    "locations = locations_3\n",
    "\n",
    "nplt.plot_neuron(morphology=str(morphology_file), plane='xy', alpha=0.1, ax=ax, position=cell_model.somapos,\n",
    "                 exclude_sections=['axon'])\n",
    "nplt.plot_neuron(morphology=str(morphology_file), plane='xy', alpha=0.1, ax=ax, position=cell_model.somapos,\n",
    "                 exclude_sections=['soma', 'apic', 'basal'], color='k')\n",
    "nplt.plot_neuron(morphology=str(morphology_file), plane='xy', alpha=0.1, ax=ax, position=cell_model.somapos,\n",
    "                 exclude_sections=['soma', 'apic', 'basal'], color='g')\n",
    "plot_amplitude_map(template_3, locations_3, log=True, alpha=alpha_footprint, ax=ax, cmap=cmap_footprint)\n",
    "\n",
    "cm = plt.get_cmap(cmap_branches)\n",
    "\n",
    "\n",
    "for i, ev in enumerate(evaluation):  \n",
    "    ax_idxs_list = ev['axon_idxs']\n",
    "    channels = ev['channels']\n",
    "    locs = locations[channels]\n",
    "    color = cm(i / len(evaluation))\n",
    "    for i_idx, ax_idxs in enumerate(ax_idxs_list):\n",
    "        if i_idx == 0:\n",
    "            ax.plot(np.mean(cell_model.x[ax_idxs], 1), \n",
    "                    np.mean(cell_model.y[ax_idxs], 1), ls='-', lw=3, color=color, \n",
    "                    alpha=1, label=f\"branch {i}\")\n",
    "        else:\n",
    "            ax.plot(np.mean(cell_model.x[ax_idxs], 1), np.mean(cell_model.y[ax_idxs], 1), \n",
    "                    ls='-', lw=3, color=color, alpha=1)\n",
    "    ax.plot(locs[:, 0], locs[:, 1], ls='', marker='.', color=color, markersize=10, alpha=1)\n",
    "\n",
    "ax.legend(ncol=4, fontsize=14, loc=9)\n",
    "ax.axis('equal')\n",
    "ax.axis('off')"
   ]
  },
  {
   "cell_type": "code",
   "execution_count": null,
   "metadata": {},
   "outputs": [],
   "source": [
    "vel_gt = []\n",
    "vel_est = []\n",
    "vel_abs = []\n",
    "vel_rel = []\n",
    "errors = []\n",
    "branch_ids = []\n",
    "models = []\n",
    "\n",
    "for ev in ev3:\n",
    "    branch_ids.append(ev[\"branch_idx\"])\n",
    "    vel_gt.append(np.round(ev['velocity_ground_truth'], 2))\n",
    "    vel_est.append(np.round(ev['velocity_estimated']))\n",
    "    vel_abs.append(np.round(np.abs(ev['velocity_ground_truth'] - ev['velocity_estimated']), 2))\n",
    "    vel_rel.append(np.round(np.abs(ev['velocity_ground_truth'] - ev['velocity_estimated']) / \n",
    "                   ev['velocity_ground_truth'] * 100, 2))\n",
    "    models.append(\"Cell 3\")\n",
    "    errors.append(f\"{np.round(ev['mean_error'], 2)} $\\pm$ {np.round(ev['std_error'],2)}\")\n",
    "\n",
    "df3 = pd.DataFrame(data={\"model ID\": models, \"branch\": branch_ids, \"velocity GT\": vel_gt, \"velocity estimated\": vel_est, \n",
    "                         \"velocity error (abs.)\": vel_abs, \"velocity error (rel.)\": vel_rel,\"tracking error\": errors})\n",
    "df3"
   ]
  },
  {
   "cell_type": "markdown",
   "metadata": {},
   "source": [
    "## Cell 4"
   ]
  },
  {
   "cell_type": "code",
   "execution_count": null,
   "metadata": {},
   "outputs": [],
   "source": [
    "cell = \"cell4\""
   ]
  },
  {
   "cell_type": "code",
   "execution_count": null,
   "metadata": {},
   "outputs": [],
   "source": [
    "cell_folder = cell_folders_dict[cell]\n",
    "morphology_file_4 = morphology_files_dict[cell]"
   ]
  },
  {
   "cell_type": "code",
   "execution_count": null,
   "metadata": {},
   "outputs": [],
   "source": [
    "cell_path = [p for p in cell_folder.iterdir() if p.suffix == '.pkl'][0]\n",
    "locs_path = [p for p in cell_folder.iterdir() if 'locations' in p.name][0]\n",
    "template_path = [p for p in cell_folder.iterdir() if 'template' in p.name][0]"
   ]
  },
  {
   "cell_type": "code",
   "execution_count": null,
   "metadata": {},
   "outputs": [],
   "source": [
    "cell_4, sections_4 = load_cell(cell_path)"
   ]
  },
  {
   "cell_type": "code",
   "execution_count": null,
   "metadata": {},
   "outputs": [],
   "source": [
    "locations_4 = np.load(locs_path)\n",
    "template_4 = np.load(template_path)"
   ]
  },
  {
   "cell_type": "code",
   "execution_count": null,
   "metadata": {},
   "outputs": [],
   "source": [
    "fs = 1 / cell_4.dt * 1000"
   ]
  },
  {
   "cell_type": "code",
   "execution_count": null,
   "metadata": {},
   "outputs": [],
   "source": [
    "gtr4 = GraphAxonTracking(template_4, locations_4, fs, verbose=True, **params)"
   ]
  },
  {
   "cell_type": "code",
   "execution_count": null,
   "metadata": {},
   "outputs": [],
   "source": [
    "gtr4.select_channels()"
   ]
  },
  {
   "cell_type": "code",
   "execution_count": null,
   "metadata": {},
   "outputs": [],
   "source": [
    "gtr4.build_graph()"
   ]
  },
  {
   "cell_type": "code",
   "execution_count": null,
   "metadata": {},
   "outputs": [],
   "source": [
    "gtr4.find_paths()"
   ]
  },
  {
   "cell_type": "code",
   "execution_count": null,
   "metadata": {},
   "outputs": [],
   "source": [
    "gtr4.clean_paths()"
   ]
  },
  {
   "cell_type": "code",
   "execution_count": null,
   "metadata": {},
   "outputs": [],
   "source": [
    "if plot_tracking_figures:\n",
    "    fchans3 = gtr4.plot_channel_selection()\n",
    "    fgraph3 = gtr4.plot_graph()\n",
    "    fbranch3 = gtr4.plot_branches()\n",
    "    fvel3 = gtr4.plot_velocities()"
   ]
  },
  {
   "cell_type": "code",
   "execution_count": null,
   "metadata": {},
   "outputs": [],
   "source": [
    "plot_axon_summary(gtr4)"
   ]
  },
  {
   "cell_type": "code",
   "execution_count": null,
   "metadata": {},
   "outputs": [],
   "source": [
    "branch_gt4 = extract_ground_truth_velocity(cell_4, sections_4)\n",
    "for i, br in enumerate(branch_gt4): \n",
    "    print(f\"GT branch {i}: velocity {br['velocity']} length: {len(br['idxs'])}\")"
   ]
  },
  {
   "cell_type": "code",
   "execution_count": null,
   "metadata": {},
   "outputs": [],
   "source": [
    "ev4 = evaluate_tracking_accuracy(gtr4.branches, branch_gt4, cell_4, locations_4, max_median_dist_for_match=30)\n",
    "print(f'Number of matched branches: {len(ev4)}')"
   ]
  },
  {
   "cell_type": "code",
   "execution_count": null,
   "metadata": {
    "scrolled": false
   },
   "outputs": [],
   "source": [
    "fig4, ax = plt.subplots()\n",
    "fig4.set_size_inches((10, 10))\n",
    "\n",
    "morphology_file = morphology_file_4\n",
    "cell_model = cell_4\n",
    "evaluation = ev4\n",
    "locations = locations_4\n",
    "\n",
    "nplt.plot_neuron(morphology=str(morphology_file), plane='xy', alpha=0.1, ax=ax, position=cell_model.somapos,\n",
    "                 exclude_sections=['axon'])\n",
    "nplt.plot_neuron(morphology=str(morphology_file), plane='xy', alpha=0.1, ax=ax, position=cell_model.somapos,\n",
    "                 exclude_sections=['soma', 'apic', 'basal'], color='k')\n",
    "nplt.plot_neuron(morphology=str(morphology_file), plane='xy', alpha=0.1, ax=ax, position=cell_model.somapos,\n",
    "                 exclude_sections=['soma', 'apic', 'basal'], color='g')\n",
    "plot_amplitude_map(template_4, locations_4, log=True, alpha=alpha_footprint, ax=ax, cmap=cmap_footprint)\n",
    "\n",
    "cm = plt.get_cmap(cmap_branches)\n",
    "\n",
    "for i, ev in enumerate(evaluation):  \n",
    "    ax_idxs_list = ev['axon_idxs']\n",
    "    channels = ev['channels']\n",
    "    locs = locations[channels]\n",
    "    color = cm(i / len(evaluation))\n",
    "    for i_idx, ax_idxs in enumerate(ax_idxs_list):\n",
    "        if i_idx == 0:\n",
    "            ax.plot(np.mean(cell_model.x[ax_idxs], 1), \n",
    "                    np.mean(cell_model.y[ax_idxs], 1), ls='-', lw=3, color=color, \n",
    "                    alpha=1, label=f\"branch {i}\")\n",
    "        else:\n",
    "            ax.plot(np.mean(cell_model.x[ax_idxs], 1), np.mean(cell_model.y[ax_idxs], 1), \n",
    "                    ls='-', lw=3, color=color, alpha=1)\n",
    "    ax.plot(locs[:, 0], locs[:, 1], ls='', marker='.', color=color, markersize=10, alpha=1)\n",
    "\n",
    "ax.legend(ncol=4, fontsize=14, loc=9)\n",
    "ax.axis('equal')\n",
    "ax.axis('off')"
   ]
  },
  {
   "cell_type": "code",
   "execution_count": null,
   "metadata": {},
   "outputs": [],
   "source": [
    "vel_gt = []\n",
    "vel_est = []\n",
    "vel_abs = []\n",
    "vel_rel = []\n",
    "errors = []\n",
    "branch_ids = []\n",
    "models = []\n",
    "\n",
    "for ev in ev4:\n",
    "    branch_ids.append(ev[\"branch_idx\"])\n",
    "    vel_gt.append(np.round(ev['velocity_ground_truth'], 2))\n",
    "    vel_est.append(np.round(ev['velocity_estimated']))\n",
    "    vel_abs.append(np.round(np.abs(ev['velocity_ground_truth'] - ev['velocity_estimated']), 2))\n",
    "    vel_rel.append(np.round(np.abs(ev['velocity_ground_truth'] - ev['velocity_estimated']) / \n",
    "                   ev['velocity_ground_truth'] * 100, 2))\n",
    "    models.append(\"Cell 4\")\n",
    "    errors.append(f\"{np.round(ev['mean_error'], 2)} $\\pm$ {np.round(ev['std_error'],2)}\")\n",
    "\n",
    "df4 = pd.DataFrame(data={\"model ID\": models, \"branch\": branch_ids, \"velocity GT\": vel_gt, \"velocity estimated\": vel_est, \n",
    "                         \"velocity error (abs.)\": vel_abs, \"velocity error (rel.)\": vel_rel,\"tracking error\": errors})\n",
    "df4"
   ]
  },
  {
   "cell_type": "markdown",
   "metadata": {},
   "source": [
    "## Combined results"
   ]
  },
  {
   "cell_type": "code",
   "execution_count": null,
   "metadata": {},
   "outputs": [],
   "source": [
    "model_names = ['Cell 1', 'Cell 2', 'Cell 3', 'Cell 4']"
   ]
  },
  {
   "cell_type": "code",
   "execution_count": null,
   "metadata": {},
   "outputs": [],
   "source": [
    "# vel_gt = []\n",
    "# vel_est = []\n",
    "# vel_abs = []\n",
    "# vel_rel = []\n",
    "# errors = []\n",
    "# models = []\n",
    "# branch_ids = []\n",
    "\n",
    "# evaluations = [ev1, ev2, ev3, ev4]\n",
    "\n",
    "# for i, eva in enumerate(evaluations):\n",
    "#     for ev in eva:\n",
    "#         branch_ids.append(ev[\"branch_idx\"])\n",
    "#         vel_gt.append(np.round(ev['velocity_ground_truth'], 2))\n",
    "#         vel_est.append(np.round(ev['velocity_estimated']))\n",
    "#         vel_abs.append(np.round(np.abs(ev['velocity_ground_truth'] - ev['velocity_estimated']), 2))\n",
    "#         vel_rel.append(np.round(np.abs(ev['velocity_ground_truth'] - ev['velocity_estimated']) / \n",
    "#                        ev['velocity_ground_truth'] * 100, 2))\n",
    "#         models.append(model_names[i])\n",
    "#         errors.append(f\"{np.round(ev['mean_error'], 2)} \\pm {np.round(ev['std_error'],2)}\")\n",
    "\n",
    "# df = pd.DataFrame(data={\"model ID\": models, \"branch\": branch_ids, \"velocity GT\": vel_gt, \"velocity estimated\": vel_est, \n",
    "#                         \"velocity error (abs.)\": vel_abs, \"velocity error (rel.)\": vel_rel,\"tracking error\": errors})\n",
    "# df\n",
    "\n",
    "df = pd.concat([df1, df2, df3, df4])\n",
    "df"
   ]
  },
  {
   "cell_type": "code",
   "execution_count": null,
   "metadata": {},
   "outputs": [],
   "source": [
    "print(df.to_latex(index=False))"
   ]
  },
  {
   "cell_type": "code",
   "execution_count": null,
   "metadata": {},
   "outputs": [],
   "source": [
    "# len(np.where(np.array(vel_rel) > 20)[0])"
   ]
  },
  {
   "cell_type": "code",
   "execution_count": null,
   "metadata": {},
   "outputs": [],
   "source": [
    "save_figures = False"
   ]
  },
  {
   "cell_type": "code",
   "execution_count": null,
   "metadata": {},
   "outputs": [],
   "source": [
    "figures = [fig1, fig2, fig3, fig4]\n",
    "fig_folder = Path('figures') / \"figure5\"\n",
    "fig_folder.mkdir(exist_ok=True, parents=True)\n",
    "\n",
    "if save_figures:\n",
    "    for f, m in zip(figures, model_names):\n",
    "        f.savefig(fig_folder / f\"{m}_branches.png\", dpi=600, transparent=True)\n",
    "        f.savefig(fig_folder / f\"{m}_branches.pdf\", transparent=True)"
   ]
  }
 ],
 "metadata": {
  "kernelspec": {
   "display_name": "Python 3",
   "language": "python",
   "name": "python3"
  },
  "language_info": {
   "codemirror_mode": {
    "name": "ipython",
    "version": 3
   },
   "file_extension": ".py",
   "mimetype": "text/x-python",
   "name": "python",
   "nbconvert_exporter": "python",
   "pygments_lexer": "ipython3",
   "version": "3.8.5"
  }
 },
 "nbformat": 4,
 "nbformat_minor": 4
}
