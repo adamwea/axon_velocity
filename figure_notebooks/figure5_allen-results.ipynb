{
 "cells": [
  {
   "cell_type": "markdown",
   "metadata": {},
   "source": [
    "# Figure 5 - results on simulated data\n",
    "\n",
    "This notebook runs the tracking algorithm on the simulated data and benchmarks the performance.\n",
    "\n",
    "To run this notebook, you first need to run the `axon_velocity/simulations/simulation_notebooks/simulate_cell_1-2-3-4.ipynb` notebooks to generate the simulated data."
   ]
  },
  {
   "cell_type": "code",
   "execution_count": null,
   "metadata": {},
   "outputs": [],
   "source": [
    "import numpy as np\n",
    "import matplotlib.pylab as plt\n",
    "import numpy as np\n",
    "from pathlib import Path\n",
    "from pprint import pprint\n",
    "import neuroplotlib as nplt\n",
    "import pandas as pd\n",
    "\n",
    "from axon_velocity import *\n",
    "from axon_velocity.models import *\n",
    "from axon_velocity.evaluation import *\n",
    "\n",
    "%matplotlib widget"
   ]
  },
  {
   "cell_type": "markdown",
   "metadata": {},
   "source": [
    "### Define algorithm params"
   ]
  },
  {
   "cell_type": "code",
   "execution_count": null,
   "metadata": {},
   "outputs": [],
   "source": [
    "params = get_default_graph_velocity_params()\n",
    "\n",
    "# change params\n",
    "params['detect_threshold'] = 0.01\n",
    "params['kurt_threshold'] = 0.5\n",
    "params['peak_std_threshold'] = None\n",
    "params['init_delay'] = 0.1\n",
    "params['upsample'] = 5\n",
    "params['neighbor_radius'] = 50\n",
    "params[\"r2_threshold\"] = 0.9\n",
    "params[\"max_distance_for_edge\"] = 100\n",
    "params[\"max_distance_to_init\"] = 300\n",
    "params[\"max_peak_latency_for_splitting\"] = 0.5\n",
    "\n",
    "pprint(params)"
   ]
  },
  {
   "cell_type": "code",
   "execution_count": null,
   "metadata": {},
   "outputs": [],
   "source": [
    "plot_tracking_figures = False"
   ]
  },
  {
   "cell_type": "code",
   "execution_count": null,
   "metadata": {},
   "outputs": [],
   "source": [
    "morphology_folder = Path('..') / 'simulations' / 'neuromorpho' / 'allen_cell_types'\n",
    "data_folder = Path('..') / 'simulations' / 'simulated_data' / 'allen' "
   ]
  },
  {
   "cell_type": "code",
   "execution_count": null,
   "metadata": {},
   "outputs": [],
   "source": [
    "zspan = 0"
   ]
  },
  {
   "cell_type": "code",
   "execution_count": null,
   "metadata": {},
   "outputs": [],
   "source": [
    "morphology_files_dict = {\"cell1\": morphology_folder / 'H16-06-008-01-20-04_561096006_m.CNG.swc', \n",
    "                         \"cell2\": morphology_folder / 'H16-06-004-01-04-01_538906745_m.CNG.swc',\n",
    "                         \"cell3\": morphology_folder / 'H16-03-006-01-04-03_563818992_m.CNG.swc', \n",
    "                         \"cell4\": morphology_folder / 'H17-06-006-11-08-02_606834771_m.CNG.swc'}\n",
    "cell_folders_dict = {\"cell1\": data_folder / f'allen0_planar_{zspan}um' , \n",
    "                     \"cell2\": data_folder / f'allen1_planar_{zspan}um' ,\n",
    "                     \"cell3\": data_folder / f'allen2_planar_{zspan}um' , \n",
    "                     \"cell4\": data_folder / f'allen3_planar_{zspan}um' }"
   ]
  },
  {
   "cell_type": "markdown",
   "metadata": {},
   "source": [
    "## Cell 1"
   ]
  },
  {
   "cell_type": "code",
   "execution_count": null,
   "metadata": {},
   "outputs": [],
   "source": [
    "cell = \"cell1\""
   ]
  },
  {
   "cell_type": "code",
   "execution_count": null,
   "metadata": {},
   "outputs": [],
   "source": [
    "cell_folder = cell_folders_dict[cell]\n",
    "morphology_file_1 = morphology_files_dict[cell]"
   ]
  },
  {
   "cell_type": "code",
   "execution_count": null,
   "metadata": {},
   "outputs": [],
   "source": [
    "cell_path = [p for p in cell_folder.iterdir() if p.suffix == '.pkl'][0]\n",
    "locs_path = [p for p in cell_folder.iterdir() if 'locations' in p.name][0]\n",
    "template_path = [p for p in cell_folder.iterdir() if 'template' in p.name][0]"
   ]
  },
  {
   "cell_type": "code",
   "execution_count": null,
   "metadata": {},
   "outputs": [],
   "source": [
    "cell_1, sections_1 = load_cell(cell_path)"
   ]
  },
  {
   "cell_type": "code",
   "execution_count": null,
   "metadata": {},
   "outputs": [],
   "source": [
    "locations_1 = np.load(locs_path)\n",
    "template_1 = np.load(template_path)"
   ]
  },
  {
   "cell_type": "code",
   "execution_count": null,
   "metadata": {},
   "outputs": [],
   "source": [
    "fs = 1 / cell_1.dt * 1000"
   ]
  },
  {
   "cell_type": "code",
   "execution_count": null,
   "metadata": {},
   "outputs": [],
   "source": [
    "gtr1 = GraphAxonTracking(template_1, locations_1, fs, verbose=True, **params)"
   ]
  },
  {
   "cell_type": "code",
   "execution_count": null,
   "metadata": {},
   "outputs": [],
   "source": [
    "gtr1.select_channels()"
   ]
  },
  {
   "cell_type": "code",
   "execution_count": null,
   "metadata": {},
   "outputs": [],
   "source": [
    "gtr1.build_graph()"
   ]
  },
  {
   "cell_type": "code",
   "execution_count": null,
   "metadata": {},
   "outputs": [],
   "source": [
    "gtr1.find_paths()"
   ]
  },
  {
   "cell_type": "code",
   "execution_count": null,
   "metadata": {},
   "outputs": [],
   "source": [
    "gtr1.clean_paths()"
   ]
  },
  {
   "cell_type": "code",
   "execution_count": null,
   "metadata": {},
   "outputs": [],
   "source": [
    "# fpaths_raw, axpaths_raw = plt.subplots(figsize=(7, 10))\n",
    "# axpaths_raw = gtr1.plot_raw_branches(cmap=\"tab20\", plot_bp=True, plot_neighbors=True, plot_full_template=True,\n",
    "#                                     ax=axpaths_raw)\n",
    "# axpaths_raw.legend(fontsize=12)"
   ]
  },
  {
   "cell_type": "code",
   "execution_count": null,
   "metadata": {},
   "outputs": [],
   "source": [
    "# plot_axon_summary(gtr1)"
   ]
  },
  {
   "cell_type": "code",
   "execution_count": null,
   "metadata": {},
   "outputs": [],
   "source": [
    "# ani = play_template_map(template_1, locations_1, skip_frames=5, log=False)\n",
    "# ani.save(\"cell_1_log.gif\", writer='imagemagick', fps=10)"
   ]
  },
  {
   "cell_type": "code",
   "execution_count": null,
   "metadata": {},
   "outputs": [],
   "source": [
    "if plot_tracking_figures:\n",
    "    fchans1 = gtr1.plot_channel_selection()\n",
    "    fgraph1 = gtr1.plot_graph()\n",
    "    fbranch1 = gtr1.plot_branches()\n",
    "    fvel1 = gtr1.plot_velocities()"
   ]
  },
  {
   "cell_type": "code",
   "execution_count": null,
   "metadata": {},
   "outputs": [],
   "source": [
    "branch_gt1 = extract_ground_truth_velocity(cell_1, sections_1, min_length=50, min_segs=5)\n",
    "for i, br in enumerate(branch_gt1): \n",
    "    print(f\"GT branch {i}: velocity {br['velocity']} length: {len(br['idxs'])}\")"
   ]
  },
  {
   "cell_type": "code",
   "execution_count": null,
   "metadata": {},
   "outputs": [],
   "source": [
    "ev1 = evaluate_tracking_accuracy(gtr1.branches, branch_gt1, cell_1, locations_1)\n",
    "print(f'Number of matched branches: {len(ev1)}')"
   ]
  },
  {
   "cell_type": "code",
   "execution_count": null,
   "metadata": {},
   "outputs": [],
   "source": [
    "cmap_branches = \"tab20\"\n",
    "cmap_footprint = \"Greys\"\n",
    "alpha_footprint = 0.5\n",
    "alpha_marker = 0.7\n",
    "legend_fs = 18"
   ]
  },
  {
   "cell_type": "code",
   "execution_count": null,
   "metadata": {},
   "outputs": [],
   "source": [
    "fig1, ax = plt.subplots()\n",
    "fig1.set_size_inches((10, 10))\n",
    "\n",
    "morphology_file = morphology_file_1\n",
    "cell_model = cell_1\n",
    "evaluation = ev1\n",
    "locations = locations_1\n",
    "\n",
    "nplt.plot_neuron(morphology=str(morphology_file), plane='xy', alpha=0.1, ax=ax, position=cell_model.somapos,\n",
    "                 exclude_sections=['axon'])\n",
    "nplt.plot_neuron(morphology=str(morphology_file), plane='xy', alpha=0.1, ax=ax, position=cell_model.somapos,\n",
    "                 exclude_sections=['soma', 'apic', 'basal'], color='g')\n",
    "plot_amplitude_map(template_1, locations_1, log=True, alpha=alpha_footprint, ax=ax, cmap=cmap_footprint)\n",
    "\n",
    "cm = plt.get_cmap(cmap_branches)\n",
    "\n",
    "for i, ev in enumerate(evaluation):  \n",
    "    ax_idxs_list = ev['axon_idxs']\n",
    "    channels = ev['channels']\n",
    "    locs = locations[channels]\n",
    "    color = cm(i / len(evaluation))\n",
    "    \n",
    "    for i_idx, ax_idxs in enumerate(ax_idxs_list):\n",
    "        if i_idx == 0:\n",
    "            ax.plot(np.mean(cell_model.x[ax_idxs], 1), \n",
    "                    np.mean(cell_model.y[ax_idxs], 1), ls='-', lw=3, color=color, \n",
    "                    alpha=1, label=f\"branch {i}\")\n",
    "        else:\n",
    "            ax.plot(np.mean(cell_model.x[ax_idxs], 1), np.mean(cell_model.y[ax_idxs], 1), \n",
    "                    ls='-', lw=3, color=color, alpha=1)\n",
    "    ax.plot(locs[:, 0], locs[:, 1], ls='', marker='.', markeredgecolor=\"k\", \n",
    "            color=color, markersize=10, alpha=alpha_marker)\n",
    "\n",
    "ax.legend(ncol=4, fontsize=legend_fs, loc=9)\n",
    "ax.axis('equal')\n",
    "ax.axis('off')"
   ]
  },
  {
   "cell_type": "code",
   "execution_count": null,
   "metadata": {},
   "outputs": [],
   "source": [
    "vel_gt = []\n",
    "vel_est = []\n",
    "vel_abs = []\n",
    "vel_rel = []\n",
    "errors = []\n",
    "branch_ids = []\n",
    "models = []\n",
    "\n",
    "for ie, ev in enumerate(ev1):\n",
    "    branch_ids.append(ie)\n",
    "    gtv = int(np.round(ev['velocity_ground_truth']))\n",
    "    estv = int(np.round(ev['velocity_estimated']))\n",
    "    vel_gt.append(gtv)\n",
    "    vel_est.append(estv)\n",
    "    vel_abs.append(np.abs(gtv - estv))\n",
    "    vel_rel.append(np.round(np.abs(ev['velocity_ground_truth'] - ev['velocity_estimated']) / \n",
    "                   ev['velocity_ground_truth'] * 100, 1))\n",
    "    if ie == 0:\n",
    "        models.append(\"Cell 1\")\n",
    "    else:\n",
    "        models.append(\"\")\n",
    "    errors.append(f\"{np.round(ev['mean_error'], 1)} $\\pm$ {np.round(ev['std_error'], 1)}\")\n",
    "\n",
    "\n",
    "df1 = pd.DataFrame(data={\"model ID\": models, \"branch ID\": branch_ids, \"velocity GT\": vel_gt, \"velocity est.\": vel_est, \n",
    "                         \"abs. vel. error\": vel_abs, \"rel. vel. error\": vel_rel,\"tracking error\": errors})\n",
    "df1"
   ]
  },
  {
   "cell_type": "markdown",
   "metadata": {},
   "source": [
    "## Cell 2"
   ]
  },
  {
   "cell_type": "code",
   "execution_count": null,
   "metadata": {},
   "outputs": [],
   "source": [
    "cell = \"cell2\""
   ]
  },
  {
   "cell_type": "code",
   "execution_count": null,
   "metadata": {},
   "outputs": [],
   "source": [
    "cell_folder = cell_folders_dict[cell]\n",
    "morphology_file_2 = morphology_files_dict[cell]"
   ]
  },
  {
   "cell_type": "code",
   "execution_count": null,
   "metadata": {},
   "outputs": [],
   "source": [
    "cell_path = [p for p in cell_folder.iterdir() if p.suffix == '.pkl'][0]\n",
    "locs_path = [p for p in cell_folder.iterdir() if 'locations' in p.name][0]\n",
    "template_path = [p for p in cell_folder.iterdir() if 'template' in p.name][0]"
   ]
  },
  {
   "cell_type": "code",
   "execution_count": null,
   "metadata": {},
   "outputs": [],
   "source": [
    "cell_2, sections_2 = load_cell(cell_path)"
   ]
  },
  {
   "cell_type": "code",
   "execution_count": null,
   "metadata": {},
   "outputs": [],
   "source": [
    "locations_2 = np.load(locs_path)\n",
    "template_2 = np.load(template_path)"
   ]
  },
  {
   "cell_type": "code",
   "execution_count": null,
   "metadata": {},
   "outputs": [],
   "source": [
    "fs = 1 / cell_2.dt * 1000"
   ]
  },
  {
   "cell_type": "code",
   "execution_count": null,
   "metadata": {},
   "outputs": [],
   "source": [
    "gtr2 = GraphAxonTracking(template_2, locations_2, fs, verbose=True, **params)"
   ]
  },
  {
   "cell_type": "code",
   "execution_count": null,
   "metadata": {},
   "outputs": [],
   "source": [
    "gtr2.select_channels()"
   ]
  },
  {
   "cell_type": "code",
   "execution_count": null,
   "metadata": {},
   "outputs": [],
   "source": [
    "gtr2.build_graph()"
   ]
  },
  {
   "cell_type": "code",
   "execution_count": null,
   "metadata": {},
   "outputs": [],
   "source": [
    "gtr2.find_paths()"
   ]
  },
  {
   "cell_type": "code",
   "execution_count": null,
   "metadata": {},
   "outputs": [],
   "source": [
    "gtr2.clean_paths()"
   ]
  },
  {
   "cell_type": "code",
   "execution_count": null,
   "metadata": {},
   "outputs": [],
   "source": [
    "# _ = plot_axon_summary(gtr2)"
   ]
  },
  {
   "cell_type": "code",
   "execution_count": null,
   "metadata": {},
   "outputs": [],
   "source": [
    "if plot_tracking_figures:\n",
    "    fchans2 = gtr2.plot_channel_selection()\n",
    "    fgraph2 = gtr2.plot_graph()\n",
    "    fbranch2 = gtr2.plot_branches()\n",
    "    fvel2 = gtr2.plot_velocities()"
   ]
  },
  {
   "cell_type": "code",
   "execution_count": null,
   "metadata": {},
   "outputs": [],
   "source": [
    "branch_gt2 = extract_ground_truth_velocity(cell_2, sections_2, min_length=50, min_segs=5)\n",
    "for i, br in enumerate(branch_gt2): \n",
    "    print(f\"GT branch {i}: velocity {br['velocity']} length: {len(br['idxs'])}\")"
   ]
  },
  {
   "cell_type": "code",
   "execution_count": null,
   "metadata": {},
   "outputs": [],
   "source": [
    "ev2 = evaluate_tracking_accuracy(gtr2.branches, branch_gt2, cell_2, locations_2, max_median_dist_for_match=20)\n",
    "print(f'Number of matched branches: {len(ev2)}')"
   ]
  },
  {
   "cell_type": "code",
   "execution_count": null,
   "metadata": {},
   "outputs": [],
   "source": [
    "fig2, ax = plt.subplots()\n",
    "fig2.set_size_inches((10, 10))\n",
    "\n",
    "morphology_file = morphology_file_2\n",
    "cell_model = cell_2\n",
    "evaluation = ev2\n",
    "locations = locations_2\n",
    "\n",
    "nplt.plot_neuron(morphology=str(morphology_file), plane='xy', alpha=0.1, ax=ax, position=cell_model.somapos,\n",
    "                 exclude_sections=['axon'])\n",
    "nplt.plot_neuron(morphology=str(morphology_file), plane='xy', alpha=0.1, ax=ax, position=cell_model.somapos,\n",
    "                 exclude_sections=['soma', 'apic', 'basal'], color='k')\n",
    "nplt.plot_neuron(morphology=str(morphology_file), plane='xy', alpha=0.1, ax=ax, position=cell_model.somapos,\n",
    "                 exclude_sections=['soma', 'apic', 'basal'], color='g')\n",
    "plot_amplitude_map(template_2, locations_2, log=True, alpha=alpha_footprint, ax=ax, cmap=cmap_footprint)\n",
    "\n",
    "cm = plt.get_cmap(cmap_branches)\n",
    "\n",
    "for i, ev in enumerate(evaluation):  \n",
    "    ax_idxs_list = ev['axon_idxs']\n",
    "    channels = ev['channels']\n",
    "    locs = locations[channels]\n",
    "    color = cm(i / len(evaluation))\n",
    "    for i_idx, ax_idxs in enumerate(ax_idxs_list):\n",
    "        if i_idx == 0:\n",
    "            ax.plot(np.mean(cell_model.x[ax_idxs], 1), \n",
    "                    np.mean(cell_model.y[ax_idxs], 1), ls='-', lw=3, color=color, \n",
    "                    alpha=1, label=f\"branch {i}\")\n",
    "        else:\n",
    "            ax.plot(np.mean(cell_model.x[ax_idxs], 1), np.mean(cell_model.y[ax_idxs], 1), \n",
    "                    ls='-', lw=3, color=color, alpha=1)\n",
    "    ax.plot(locs[:, 0], locs[:, 1], ls='', marker='.', markeredgecolor=\"k\", \n",
    "            color=color, markersize=10, alpha=alpha_marker)\n",
    "\n",
    "ax.legend(ncol=4, fontsize=legend_fs, loc=9)\n",
    "ax.axis('equal')\n",
    "ax.axis('off')"
   ]
  },
  {
   "cell_type": "code",
   "execution_count": null,
   "metadata": {},
   "outputs": [],
   "source": [
    "vel_gt = []\n",
    "vel_est = []\n",
    "vel_abs = []\n",
    "vel_rel = []\n",
    "errors = []\n",
    "branch_ids = []\n",
    "models = []\n",
    "\n",
    "for ie, ev in enumerate(ev2):\n",
    "    branch_ids.append(ie)\n",
    "    gtv = int(np.round(ev['velocity_ground_truth']))\n",
    "    estv = int(np.round(ev['velocity_estimated']))\n",
    "    vel_gt.append(gtv)\n",
    "    vel_est.append(estv)\n",
    "    vel_abs.append(np.abs(gtv - estv))\n",
    "    vel_rel.append(np.round(np.abs(ev['velocity_ground_truth'] - ev['velocity_estimated']) / \n",
    "                   ev['velocity_ground_truth'] * 100, 1))\n",
    "    if ie == 0:\n",
    "        models.append(\"Cell 2\")\n",
    "    else:\n",
    "        models.append(\"\")\n",
    "    errors.append(f\"{np.round(ev['mean_error'], 1)} $\\pm$ {np.round(ev['std_error'], 1)}\")\n",
    "\n",
    "\n",
    "df2 = pd.DataFrame(data={\"model ID\": models, \"branch ID\": branch_ids, \"velocity GT\": vel_gt, \"velocity est.\": vel_est, \n",
    "                         \"abs. vel. error\": vel_abs, \"rel. vel. error\": vel_rel,\"tracking error\": errors})\n",
    "df2"
   ]
  },
  {
   "cell_type": "markdown",
   "metadata": {},
   "source": [
    "## Cell 3"
   ]
  },
  {
   "cell_type": "code",
   "execution_count": null,
   "metadata": {},
   "outputs": [],
   "source": [
    "cell = \"cell3\""
   ]
  },
  {
   "cell_type": "code",
   "execution_count": null,
   "metadata": {},
   "outputs": [],
   "source": [
    "cell_folder = cell_folders_dict[cell]\n",
    "morphology_file_3 = morphology_files_dict[cell]"
   ]
  },
  {
   "cell_type": "code",
   "execution_count": null,
   "metadata": {},
   "outputs": [],
   "source": [
    "cell_path = [p for p in cell_folder.iterdir() if p.suffix == '.pkl'][0]\n",
    "locs_path = [p for p in cell_folder.iterdir() if 'locations' in p.name][0]\n",
    "template_path = [p for p in cell_folder.iterdir() if 'template' in p.name][0]"
   ]
  },
  {
   "cell_type": "code",
   "execution_count": null,
   "metadata": {},
   "outputs": [],
   "source": [
    "cell_3, sections_3 = load_cell(cell_path)"
   ]
  },
  {
   "cell_type": "code",
   "execution_count": null,
   "metadata": {},
   "outputs": [],
   "source": [
    "locations_3 = np.load(locs_path)\n",
    "template_3 = np.load(template_path)"
   ]
  },
  {
   "cell_type": "code",
   "execution_count": null,
   "metadata": {},
   "outputs": [],
   "source": [
    "fs = 1 / cell_3.dt * 1000"
   ]
  },
  {
   "cell_type": "code",
   "execution_count": null,
   "metadata": {},
   "outputs": [],
   "source": [
    "gtr3 = GraphAxonTracking(template_3, locations_3, fs, verbose=True, **params)"
   ]
  },
  {
   "cell_type": "code",
   "execution_count": null,
   "metadata": {},
   "outputs": [],
   "source": [
    "gtr3.select_channels()"
   ]
  },
  {
   "cell_type": "code",
   "execution_count": null,
   "metadata": {},
   "outputs": [],
   "source": [
    "gtr3.build_graph()"
   ]
  },
  {
   "cell_type": "code",
   "execution_count": null,
   "metadata": {},
   "outputs": [],
   "source": [
    "gtr3.find_paths()"
   ]
  },
  {
   "cell_type": "code",
   "execution_count": null,
   "metadata": {},
   "outputs": [],
   "source": [
    "gtr3.clean_paths()"
   ]
  },
  {
   "cell_type": "code",
   "execution_count": null,
   "metadata": {},
   "outputs": [],
   "source": [
    "if plot_tracking_figures:\n",
    "    fchans3 = gtr3.plot_channel_selection()\n",
    "    fgraph3 = gtr3.plot_graph()\n",
    "    fbranch3 = gtr3.plot_branches()\n",
    "    fvel3 = gtr3.plot_velocities()"
   ]
  },
  {
   "cell_type": "code",
   "execution_count": null,
   "metadata": {},
   "outputs": [],
   "source": [
    "# plot_axon_summary(gtr3)"
   ]
  },
  {
   "cell_type": "code",
   "execution_count": null,
   "metadata": {},
   "outputs": [],
   "source": [
    "branch_gt3 = extract_ground_truth_velocity(cell_3, sections_3)\n",
    "for i, br in enumerate(branch_gt3): \n",
    "    print(f\"GT branch {i}: velocity {br['velocity']} length: {len(br['idxs'])}\")"
   ]
  },
  {
   "cell_type": "code",
   "execution_count": null,
   "metadata": {},
   "outputs": [],
   "source": [
    "ev3 = evaluate_tracking_accuracy(gtr3.branches, branch_gt3, cell_3, locations_3)\n",
    "print(f'Number of matched branches: {len(ev3)}')"
   ]
  },
  {
   "cell_type": "code",
   "execution_count": null,
   "metadata": {},
   "outputs": [],
   "source": [
    "fig3, ax = plt.subplots()\n",
    "fig3.set_size_inches((10, 10))\n",
    "\n",
    "morphology_file = morphology_file_3\n",
    "cell_model = cell_3\n",
    "evaluation = ev3\n",
    "locations = locations_3\n",
    "\n",
    "nplt.plot_neuron(morphology=str(morphology_file), plane='xy', alpha=0.1, ax=ax, position=cell_model.somapos,\n",
    "                 exclude_sections=['axon'])\n",
    "nplt.plot_neuron(morphology=str(morphology_file), plane='xy', alpha=0.1, ax=ax, position=cell_model.somapos,\n",
    "                 exclude_sections=['soma', 'apic', 'basal'], color='k')\n",
    "nplt.plot_neuron(morphology=str(morphology_file), plane='xy', alpha=0.1, ax=ax, position=cell_model.somapos,\n",
    "                 exclude_sections=['soma', 'apic', 'basal'], color='g')\n",
    "plot_amplitude_map(template_3, locations_3, log=True, alpha=alpha_footprint, ax=ax, cmap=cmap_footprint)\n",
    "\n",
    "cm = plt.get_cmap(cmap_branches)\n",
    "\n",
    "\n",
    "for i, ev in enumerate(evaluation):  \n",
    "    ax_idxs_list = ev['axon_idxs']\n",
    "    channels = ev['channels']\n",
    "    locs = locations[channels]\n",
    "    color = cm(i / len(evaluation))\n",
    "    for i_idx, ax_idxs in enumerate(ax_idxs_list):\n",
    "        if i_idx == 0:\n",
    "            ax.plot(np.mean(cell_model.x[ax_idxs], 1), \n",
    "                    np.mean(cell_model.y[ax_idxs], 1), ls='-', lw=3, color=color, \n",
    "                    alpha=1, label=f\"branch {i}\")\n",
    "        else:\n",
    "            ax.plot(np.mean(cell_model.x[ax_idxs], 1), np.mean(cell_model.y[ax_idxs], 1), \n",
    "                    ls='-', lw=3, color=color, alpha=1)\n",
    "    ax.plot(locs[:, 0], locs[:, 1], ls='', marker='.', markeredgecolor=\"k\", \n",
    "            color=color, markersize=10, alpha=alpha_marker)\n",
    "ax.legend(ncol=4, fontsize=legend_fs, loc=9)\n",
    "ax.axis('equal')\n",
    "ax.axis('off')"
   ]
  },
  {
   "cell_type": "code",
   "execution_count": null,
   "metadata": {},
   "outputs": [],
   "source": [
    "vel_gt = []\n",
    "vel_est = []\n",
    "vel_abs = []\n",
    "vel_rel = []\n",
    "errors = []\n",
    "branch_ids = []\n",
    "models = []\n",
    "\n",
    "for ie, ev in enumerate(ev3):\n",
    "    branch_ids.append(ie)\n",
    "    gtv = int(np.round(ev['velocity_ground_truth']))\n",
    "    estv = int(np.round(ev['velocity_estimated']))\n",
    "    vel_gt.append(gtv)\n",
    "    vel_est.append(estv)\n",
    "    vel_abs.append(np.abs(gtv - estv))\n",
    "    vel_rel.append(np.round(np.abs(ev['velocity_ground_truth'] - ev['velocity_estimated']) / \n",
    "                   ev['velocity_ground_truth'] * 100, 1))\n",
    "    if ie == 0:\n",
    "        models.append(\"Cell 3\")\n",
    "    else:\n",
    "        models.append(\"\")\n",
    "    errors.append(f\"{np.round(ev['mean_error'], 1)} $\\pm$ {np.round(ev['std_error'], 1)}\")\n",
    "\n",
    "df3 = pd.DataFrame(data={\"model ID\": models, \"branch ID\": branch_ids, \"velocity GT\": vel_gt, \"velocity est.\": vel_est, \n",
    "                         \"abs. vel. error\": vel_abs, \"rel. vel. error\": vel_rel,\"tracking error\": errors})\n",
    "df3"
   ]
  },
  {
   "cell_type": "markdown",
   "metadata": {},
   "source": [
    "## Cell 4"
   ]
  },
  {
   "cell_type": "code",
   "execution_count": null,
   "metadata": {},
   "outputs": [],
   "source": [
    "cell = \"cell4\""
   ]
  },
  {
   "cell_type": "code",
   "execution_count": null,
   "metadata": {},
   "outputs": [],
   "source": [
    "cell_folder = cell_folders_dict[cell]\n",
    "morphology_file_4 = morphology_files_dict[cell]"
   ]
  },
  {
   "cell_type": "code",
   "execution_count": null,
   "metadata": {},
   "outputs": [],
   "source": [
    "cell_path = [p for p in cell_folder.iterdir() if p.suffix == '.pkl'][0]\n",
    "locs_path = [p for p in cell_folder.iterdir() if 'locations' in p.name][0]\n",
    "template_path = [p for p in cell_folder.iterdir() if 'template' in p.name][0]"
   ]
  },
  {
   "cell_type": "code",
   "execution_count": null,
   "metadata": {},
   "outputs": [],
   "source": [
    "cell_4, sections_4 = load_cell(cell_path)"
   ]
  },
  {
   "cell_type": "code",
   "execution_count": null,
   "metadata": {},
   "outputs": [],
   "source": [
    "locations_4 = np.load(locs_path)\n",
    "template_4 = np.load(template_path)"
   ]
  },
  {
   "cell_type": "code",
   "execution_count": null,
   "metadata": {},
   "outputs": [],
   "source": [
    "fs = 1 / cell_4.dt * 1000"
   ]
  },
  {
   "cell_type": "code",
   "execution_count": null,
   "metadata": {},
   "outputs": [],
   "source": [
    "gtr4 = GraphAxonTracking(template_4, locations_4, fs, verbose=True, **params)"
   ]
  },
  {
   "cell_type": "code",
   "execution_count": null,
   "metadata": {},
   "outputs": [],
   "source": [
    "gtr4.select_channels()"
   ]
  },
  {
   "cell_type": "code",
   "execution_count": null,
   "metadata": {},
   "outputs": [],
   "source": [
    "gtr4.build_graph()"
   ]
  },
  {
   "cell_type": "code",
   "execution_count": null,
   "metadata": {},
   "outputs": [],
   "source": [
    "gtr4.find_paths()"
   ]
  },
  {
   "cell_type": "code",
   "execution_count": null,
   "metadata": {},
   "outputs": [],
   "source": [
    "gtr4.clean_paths()"
   ]
  },
  {
   "cell_type": "code",
   "execution_count": null,
   "metadata": {},
   "outputs": [],
   "source": [
    "if plot_tracking_figures:\n",
    "    fchans3 = gtr4.plot_channel_selection()\n",
    "    fgraph3 = gtr4.plot_graph()\n",
    "    fbranch3 = gtr4.plot_branches()\n",
    "    fvel3 = gtr4.plot_velocities()"
   ]
  },
  {
   "cell_type": "code",
   "execution_count": null,
   "metadata": {},
   "outputs": [],
   "source": [
    "# plot_axon_summary(gtr4)"
   ]
  },
  {
   "cell_type": "code",
   "execution_count": null,
   "metadata": {},
   "outputs": [],
   "source": [
    "branch_gt4 = extract_ground_truth_velocity(cell_4, sections_4)\n",
    "for i, br in enumerate(branch_gt4): \n",
    "    print(f\"GT branch {i}: velocity {br['velocity']} length: {len(br['idxs'])}\")"
   ]
  },
  {
   "cell_type": "code",
   "execution_count": null,
   "metadata": {},
   "outputs": [],
   "source": [
    "ev4 = evaluate_tracking_accuracy(gtr4.branches, branch_gt4, cell_4, locations_4, max_median_dist_for_match=30)\n",
    "print(f'Number of matched branches: {len(ev4)}')"
   ]
  },
  {
   "cell_type": "code",
   "execution_count": null,
   "metadata": {},
   "outputs": [],
   "source": [
    "fig4, ax = plt.subplots()\n",
    "fig4.set_size_inches((10, 10))\n",
    "\n",
    "morphology_file = morphology_file_4\n",
    "cell_model = cell_4\n",
    "evaluation = ev4\n",
    "locations = locations_4\n",
    "\n",
    "nplt.plot_neuron(morphology=str(morphology_file), plane='xy', alpha=0.1, ax=ax, position=cell_model.somapos,\n",
    "                 exclude_sections=['axon'])\n",
    "nplt.plot_neuron(morphology=str(morphology_file), plane='xy', alpha=0.1, ax=ax, position=cell_model.somapos,\n",
    "                 exclude_sections=['soma', 'apic', 'basal'], color='g')\n",
    "# nplt.plot_neuron(morphology=str(morphology_file), plane='xy', alpha=0.1, ax=ax, position=cell_model.somapos,\n",
    "#                  exclude_sections=['soma', 'apic', 'basal'], color='g')\n",
    "plot_amplitude_map(template_4, locations_4, log=True, alpha=alpha_footprint, ax=ax, cmap=cmap_footprint,\n",
    "                   )\n",
    "\n",
    "cm = plt.get_cmap(cmap_branches)\n",
    "\n",
    "for i, ev in enumerate(evaluation):  \n",
    "    ax_idxs_list = ev['axon_idxs']\n",
    "    channels = ev['channels']\n",
    "    locs = locations[channels]\n",
    "    color = cm(i / len(evaluation))\n",
    "    for i_idx, ax_idxs in enumerate(ax_idxs_list):\n",
    "        if i_idx == 0:\n",
    "            ax.plot(np.mean(cell_model.x[ax_idxs], 1), \n",
    "                    np.mean(cell_model.y[ax_idxs], 1), ls='-', lw=3, color=color, \n",
    "                    alpha=1, label=f\"branch {i}\")\n",
    "        else:\n",
    "            ax.plot(np.mean(cell_model.x[ax_idxs], 1), np.mean(cell_model.y[ax_idxs], 1), \n",
    "                    ls='-', lw=3, color=color, alpha=1)\n",
    "    ax.plot(locs[:, 0], locs[:, 1], ls='', marker='.', markeredgecolor=\"k\", \n",
    "            color=color, markersize=10, alpha=alpha_marker)\n",
    "\n",
    "ax.legend(ncol=4, fontsize=legend_fs, loc=9)\n",
    "ax.axis('equal')\n",
    "ax.axis('off')"
   ]
  },
  {
   "cell_type": "code",
   "execution_count": null,
   "metadata": {},
   "outputs": [],
   "source": [
    "vel_gt = []\n",
    "vel_est = []\n",
    "vel_abs = []\n",
    "vel_rel = []\n",
    "errors = []\n",
    "branch_ids = []\n",
    "models = []\n",
    "\n",
    "for ie, ev in enumerate(ev4):\n",
    "    branch_ids.append(ie)\n",
    "    gtv = int(np.round(ev['velocity_ground_truth']))\n",
    "    estv = int(np.round(ev['velocity_estimated']))\n",
    "    vel_gt.append(gtv)\n",
    "    vel_est.append(estv)\n",
    "    vel_abs.append(np.abs(gtv - estv))\n",
    "    vel_rel.append(np.round(np.abs(ev['velocity_ground_truth'] - ev['velocity_estimated']) / \n",
    "                   ev['velocity_ground_truth'] * 100, 1))\n",
    "    if ie == 0:\n",
    "        models.append(\"Cell 4\")\n",
    "    else:\n",
    "        models.append(\"\")\n",
    "    errors.append(f\"{np.round(ev['mean_error'], 1)} $\\pm$ {np.round(ev['std_error'], 1)}\")\n",
    "\n",
    "\n",
    "df4 = pd.DataFrame(data={\"model ID\": models, \"branch ID\": branch_ids, \"velocity GT\": vel_gt, \"velocity est.\": vel_est, \n",
    "                         \"abs. vel. error\": vel_abs, \"rel. vel. error\": vel_rel,\"tracking error\": errors})\n",
    "df4"
   ]
  },
  {
   "cell_type": "markdown",
   "metadata": {},
   "source": [
    "## Combined results"
   ]
  },
  {
   "cell_type": "code",
   "execution_count": null,
   "metadata": {},
   "outputs": [],
   "source": [
    "model_names = ['Cell 1', 'Cell 2', 'Cell 3', 'Cell 4']"
   ]
  },
  {
   "cell_type": "code",
   "execution_count": null,
   "metadata": {},
   "outputs": [],
   "source": [
    "df = pd.concat([df1, df2, df3, df4])\n",
    "df.reset_index()"
   ]
  },
  {
   "cell_type": "code",
   "execution_count": null,
   "metadata": {},
   "outputs": [],
   "source": [
    "print(df.to_latex(index=False))"
   ]
  },
  {
   "cell_type": "code",
   "execution_count": null,
   "metadata": {},
   "outputs": [],
   "source": [
    "save_figures = True"
   ]
  },
  {
   "cell_type": "code",
   "execution_count": null,
   "metadata": {},
   "outputs": [],
   "source": [
    "figures = [fig1, fig2, fig3, fig4]\n",
    "fig_folder = Path('figures') / \"figure5\"\n",
    "fig_folder.mkdir(exist_ok=True, parents=True)\n",
    "\n",
    "if save_figures:\n",
    "    for f, m in zip(figures, model_names):\n",
    "        f.savefig(fig_folder / f\"{m}_branches.png\", dpi=600)\n",
    "        f.savefig(fig_folder / f\"{m}_branches.pdf\")"
   ]
  },
  {
   "cell_type": "code",
   "execution_count": null,
   "metadata": {},
   "outputs": [],
   "source": []
  }
 ],
 "metadata": {
  "language_info": {
   "name": "python"
  }
 },
 "nbformat": 4,
 "nbformat_minor": 4
}
