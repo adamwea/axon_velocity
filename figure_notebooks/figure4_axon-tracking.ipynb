{
 "cells": [
  {
   "cell_type": "markdown",
   "metadata": {},
   "source": [
    "# Figure 4 - reconstruction algorithm explained\n",
    "\n",
    "This notebook shows the different steps involved in the axon reconstruction algorithm.\n",
    "\n",
    "To run this notebook, you first need to run `axon_velocity/simulations/simulation_notebooks/simulate_cell_1.ipynb` to generate the simulated data."
   ]
  },
  {
   "cell_type": "code",
   "execution_count": null,
   "metadata": {},
   "outputs": [],
   "source": [
    "import numpy as np\n",
    "import matplotlib.pylab as plt\n",
    "import MEAutility as mu\n",
    "from scipy.signal import resample_poly\n",
    "from scipy.stats import kurtosis, linregress\n",
    "from matplotlib import gridspec\n",
    "from scipy import io\n",
    "import numpy as np\n",
    "import networkx as nx\n",
    "from pathlib import Path\n",
    "import sys\n",
    "from pprint import pprint\n",
    "\n",
    "%matplotlib widget\n",
    "#%matplotlib notebook\n",
    "\n",
    "from axon_velocity import *\n",
    "from axon_velocity.models import load_cell\n",
    "from axon_velocity.evaluation import *"
   ]
  },
  {
   "cell_type": "code",
   "execution_count": null,
   "metadata": {},
   "outputs": [],
   "source": [
    "save_fig = True\n",
    "fig_folder =  Path('figures') / \"figure4\"\n",
    "fig_folder.mkdir(exist_ok=True, parents=True)"
   ]
  },
  {
   "cell_type": "markdown",
   "metadata": {},
   "source": [
    "### Define algorithm params"
   ]
  },
  {
   "cell_type": "code",
   "execution_count": null,
   "metadata": {},
   "outputs": [],
   "source": [
    "params = get_default_graph_velocity_params()\n",
    "pprint(params)\n",
    "# change params\n",
    "params['detect_threshold'] = 0.01\n",
    "params['kurt_threshold'] = 0.5\n",
    "params['peak_std_threshold'] = None\n",
    "params['init_delay'] = 0.1\n",
    "params['upsample'] = 5\n",
    "params['neighbor_radius'] = 50\n",
    "params[\"r2_threshold\"] = 0.9\n",
    "params[\"max_distance_for_edge\"] = 100\n",
    "params[\"max_distance_to_init\"] = 300\n",
    "params[\"max_peak_latency_for_splitting\"] = 0.5\n",
    "params[\"min_path_points\"] = 8"
   ]
  },
  {
   "cell_type": "markdown",
   "metadata": {},
   "source": [
    "# Cell 1"
   ]
  },
  {
   "cell_type": "code",
   "execution_count": null,
   "metadata": {},
   "outputs": [],
   "source": [
    "morphology_folder = Path('..') / 'simulations' / 'neuromorpho' / 'allen_cell_types'\n",
    "data_folder = Path('..') / 'simulations' / 'simulated_data' / 'allen' \n",
    "zspan = 0"
   ]
  },
  {
   "cell_type": "code",
   "execution_count": null,
   "metadata": {},
   "outputs": [],
   "source": [
    "morphology_files_dict = {\"cell1\": morphology_folder / 'H16-06-008-01-20-04_561096006_m.CNG.swc', \n",
    "                         \"cell2\": morphology_folder / 'H16-06-004-01-04-01_538906745_m.CNG.swc',\n",
    "                         \"cell3\": morphology_folder / 'H16-03-006-01-04-03_563818992_m.CNG.swc', \n",
    "                         \"cell4\": morphology_folder / 'H17-06-006-11-08-02_606834771_m.CNG.swc'}\n",
    "cell_folders_dict = {\"cell1\": data_folder / f'allen0_planar_{zspan}um' , \n",
    "                     \"cell2\": data_folder / f'allen1_planar_{zspan}um' ,\n",
    "                     \"cell3\": data_folder / f'allen2_planar_{zspan}um' , \n",
    "                     \"cell4\": data_folder / f'allen3_planar_{zspan}um' }"
   ]
  },
  {
   "cell_type": "code",
   "execution_count": null,
   "metadata": {},
   "outputs": [],
   "source": [
    "cell_name = \"cell1\"\n",
    "cell_folder = cell_folders_dict[cell_name]\n",
    "morphology_file = morphology_files_dict[cell_name]"
   ]
  },
  {
   "cell_type": "code",
   "execution_count": null,
   "metadata": {},
   "outputs": [],
   "source": [
    "cell_path = [p for p in cell_folder.iterdir() if p.suffix == '.pkl'][0]\n",
    "locs_path = [p for p in cell_folder.iterdir() if 'locations' in p.name][0]\n",
    "template_path = [p for p in cell_folder.iterdir() if 'template' in p.name][0]"
   ]
  },
  {
   "cell_type": "code",
   "execution_count": null,
   "metadata": {},
   "outputs": [],
   "source": [
    "cell, sections = load_cell(cell_path)\n",
    "locations = np.load(locs_path)\n",
    "template = np.load(template_path)"
   ]
  },
  {
   "cell_type": "code",
   "execution_count": null,
   "metadata": {},
   "outputs": [],
   "source": [
    "fs = 1 / cell.dt * 1000"
   ]
  },
  {
   "cell_type": "code",
   "execution_count": null,
   "metadata": {},
   "outputs": [],
   "source": [
    "gtr = GraphAxonTracking(template, locations, fs, verbose=True, **params)"
   ]
  },
  {
   "cell_type": "code",
   "execution_count": null,
   "metadata": {},
   "outputs": [],
   "source": [
    "gtr.select_channels()"
   ]
  },
  {
   "cell_type": "code",
   "execution_count": null,
   "metadata": {},
   "outputs": [],
   "source": [
    "gtr.build_graph()"
   ]
  },
  {
   "cell_type": "code",
   "execution_count": null,
   "metadata": {},
   "outputs": [],
   "source": [
    "gtr.find_paths()"
   ]
  },
  {
   "cell_type": "code",
   "execution_count": null,
   "metadata": {},
   "outputs": [],
   "source": [
    "fig_graph = plt.figure(figsize=(10, 7))\n",
    "fig_graph = gtr.plot_graph(node_search_labels=False, fig=fig_graph, cmap_nodes=\"viridis\", cmap_edges=\"YlGn\")"
   ]
  },
  {
   "cell_type": "code",
   "execution_count": null,
   "metadata": {},
   "outputs": [],
   "source": [
    "gtr._verbose = 2"
   ]
  },
  {
   "cell_type": "code",
   "execution_count": null,
   "metadata": {},
   "outputs": [],
   "source": [
    "gtr.clean_paths(remove_outliers=True)"
   ]
  },
  {
   "cell_type": "code",
   "execution_count": null,
   "metadata": {},
   "outputs": [],
   "source": [
    "fpaths_raw, axpaths_raw = plt.subplots(figsize=(7, 10))\n",
    "axpaths_raw = gtr.plot_raw_branches(cmap=\"tab20\", plot_bp=True, plot_neighbors=True, plot_full_template=True,\n",
    "                                    ax=axpaths_raw)\n",
    "axpaths_raw.legend(fontsize=12)"
   ]
  },
  {
   "cell_type": "code",
   "execution_count": null,
   "metadata": {},
   "outputs": [],
   "source": [
    "gtr._branching_points"
   ]
  },
  {
   "cell_type": "code",
   "execution_count": null,
   "metadata": {},
   "outputs": [],
   "source": [
    "fvel, ax_vel = plt.subplots(figsize=(9, 15))\n",
    "ax_vel.axis(\"off\")\n",
    "fvel = gtr.plot_velocities(cmap=\"tab20\", plot_outliers=True, fig=fvel, markersize=12, markersize_out=18, fs=20)\n",
    "plt.xticks(fontsize=16)\n",
    "plt.yticks(fontsize=16)"
   ]
  },
  {
   "cell_type": "code",
   "execution_count": null,
   "metadata": {},
   "outputs": [],
   "source": [
    "if save_fig:\n",
    "    fig_graph.suptitle('')\n",
    "    fig_graph.savefig(fig_folder / 'panelAB_graph.png', dpi=600)\n",
    "    fpaths_raw.suptitle('')\n",
    "    fpaths_raw.savefig(fig_folder / 'panelC_rawpaths.png', dpi=600)\n",
    "    fvel.suptitle('')\n",
    "    fvel.savefig(fig_folder / 'panelC_velocities.svg')"
   ]
  }
 ],
 "metadata": {
  "kernelspec": {
   "display_name": "Python 3 (ipykernel)",
   "language": "python",
   "name": "python3"
  },
  "language_info": {
   "codemirror_mode": {
    "name": "ipython",
    "version": 3
   },
   "file_extension": ".py",
   "mimetype": "text/x-python",
   "name": "python",
   "nbconvert_exporter": "python",
   "pygments_lexer": "ipython3",
   "version": "3.8.11"
  }
 },
 "nbformat": 4,
 "nbformat_minor": 4
}
