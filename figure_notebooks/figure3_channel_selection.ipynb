{
 "cells": [
  {
   "cell_type": "markdown",
   "metadata": {},
   "source": [
    "# Figure 3 - channel selection\n",
    "\n",
    "This notebook shows the four different selection filters available on a cell model from the DualMode dataset.\n",
    "The dataset (`dualmode.npz`) needs to be downloaded from Zenodo (https://doi.org/10.5281/zenodo.4896745) and placed in the `axon_velocity/data/dualmode` folder."
   ]
  },
  {
   "cell_type": "code",
   "execution_count": null,
   "metadata": {},
   "outputs": [],
   "source": [
    "import numpy as np\n",
    "import matplotlib.pylab as plt\n",
    "import MEAutility as mu\n",
    "from scipy.signal import resample_poly\n",
    "from scipy.stats import kurtosis, linregress\n",
    "from matplotlib import gridspec\n",
    "from scipy import io\n",
    "import numpy as np\n",
    "import networkx as nx\n",
    "from pathlib import Path\n",
    "from pprint import pprint\n",
    "import sys\n",
    "import os\n",
    "import matplotlib as mpl\n",
    "\n",
    "#%matplotlib widget\n",
    "%matplotlib inline"
   ]
  },
  {
   "cell_type": "code",
   "execution_count": null,
   "metadata": {},
   "outputs": [],
   "source": [
    "import axon_velocity as av"
   ]
  },
  {
   "cell_type": "code",
   "execution_count": null,
   "metadata": {},
   "outputs": [],
   "source": [
    "save_fig = True\n",
    "fig_folder =  Path('figures') / \"figure3\"\n",
    "fig_folder.mkdir(exist_ok=True, parents=True)"
   ]
  },
  {
   "cell_type": "markdown",
   "metadata": {},
   "source": [
    "### Define algorithm params"
   ]
  },
  {
   "cell_type": "code",
   "execution_count": null,
   "metadata": {},
   "outputs": [],
   "source": [
    "params = av.get_default_graph_velocity_params()\n",
    "\n",
    "# change params\n",
    "params['detect_threshold'] = 0.02\n",
    "params['kurt_threshold'] = 0.3\n",
    "params['peak_std_threshold'] = 0.8\n",
    "params['init_delay'] = 0.2\n",
    "params['upsample'] = 10\n",
    "\n",
    "pprint(params)"
   ]
  },
  {
   "cell_type": "code",
   "execution_count": null,
   "metadata": {},
   "outputs": [],
   "source": [
    "dualmode_folder = Path('..') / 'data' / 'dualmode'\n",
    "load_dict = np.load(dualmode_folder / \"dualmode.npz\")\n",
    "templates = load_dict[\"templates\"]\n",
    "locations = load_dict[\"locations\"]\n",
    "fs = load_dict[\"fs\"]"
   ]
  },
  {
   "cell_type": "code",
   "execution_count": null,
   "metadata": {},
   "outputs": [],
   "source": [
    "selected_unit = 20"
   ]
  },
  {
   "cell_type": "code",
   "execution_count": null,
   "metadata": {},
   "outputs": [],
   "source": [
    "template = templates[selected_unit]"
   ]
  },
  {
   "cell_type": "code",
   "execution_count": null,
   "metadata": {},
   "outputs": [],
   "source": [
    "gtr = av.GraphAxonTracking(template, locations, fs, verbose=True, **params)"
   ]
  },
  {
   "cell_type": "code",
   "execution_count": null,
   "metadata": {},
   "outputs": [],
   "source": [
    "gtr.select_channels()"
   ]
  },
  {
   "cell_type": "code",
   "execution_count": null,
   "metadata": {},
   "outputs": [],
   "source": [
    "fig_amp = plt.figure(figsize=(10, 5))\n",
    "ax_amp = fig_amp.add_subplot(111)\n",
    "ax_amp = av.plot_amplitude_map(template, locations, log=True, ax=ax_amp)\n",
    "ax_amp.set_title(f\"Amplitude\", fontsize=20)\n",
    "\n",
    "fig_peaks = plt.figure(figsize=(10, 5))\n",
    "ax_peaks = fig_peaks.add_subplot(111)\n",
    "ax_peaks = av.plot_peak_latency_map(template, locations, fs=fs, log=True, ax=ax_peaks)\n",
    "ax_peaks.set_title(f\"Peak latency\", fontsize=20)"
   ]
  },
  {
   "cell_type": "code",
   "execution_count": null,
   "metadata": {},
   "outputs": [],
   "source": [
    "fig_detect = plt.figure(figsize=(10, 5))\n",
    "ax_detect = fig_detect.add_subplot(111)\n",
    "ax_detect.set_title(f\"Selected after detection threshold: {gtr0._detect_threshold}\", fontsize=20)\n",
    "channeld_detection = np.array(list(gtr0._selected_channels_detect))\n",
    "plt.plot(gtr0.locations[:, 0], gtr0.locations[:, 1], marker=\".\", color=\"grey\", ls=\"\", alpha=0.2)\n",
    "plt.plot(gtr0.locations[channeld_detection, 0], \n",
    "         gtr0.locations[channeld_detection, 1], marker=\".\", color=\"k\", ls=\"\", alpha=0.5)\n",
    "ax_detect.axis(\"off\")"
   ]
  },
  {
   "cell_type": "code",
   "execution_count": null,
   "metadata": {},
   "outputs": [],
   "source": [
    "fig_kurt = plt.figure(figsize=(10, 5))\n",
    "ax_kurt = fig_kurt.add_subplot(111)\n",
    "ax_kurt.set_title(f\"Selected after kurtosis threshold: {gtr0._kurt_threshold}\", fontsize=20)\n",
    "channeld_kurt = np.array(list(gtr0._selected_channels_kurt))\n",
    "ax_kurt.plot(gtr0.locations[:, 0], gtr0.locations[:, 1], marker=\".\", color=\"grey\", ls=\"\", alpha=0.2)\n",
    "ax_kurt.plot(gtr0.locations[channeld_kurt, 0], \n",
    "         gtr0.locations[channeld_kurt, 1], marker=\".\", color=\"k\", ls=\"\", alpha=0.5)\n",
    "ax_kurt.axis(\"off\")"
   ]
  },
  {
   "cell_type": "code",
   "execution_count": null,
   "metadata": {},
   "outputs": [],
   "source": [
    "fig_peak = plt.figure(figsize=(10, 5))\n",
    "ax_peak = fig_peak.add_subplot(111)\n",
    "ax_peak.set_title(f\"Selected after peak std threshold: {gtr0._peak_std_threhsold} ms\", fontsize=20)\n",
    "channeld_peak = np.array(list(gtr0._selected_channels_peakstd))\n",
    "ax_peak.plot(gtr0.locations[:, 0], gtr0.locations[:, 1], marker=\".\", color=\"grey\", ls=\"\", alpha=0.2)\n",
    "ax_peak.plot(gtr0.locations[channeld_peak, 0], \n",
    "         gtr0.locations[channeld_peak, 1], marker=\".\", color=\"k\", ls=\"\", alpha=0.5)\n",
    "ax_peak.axis(\"off\")"
   ]
  },
  {
   "cell_type": "code",
   "execution_count": null,
   "metadata": {},
   "outputs": [],
   "source": [
    "fig_init = plt.figure(figsize=(10, 5))\n",
    "ax_init = fig_init.add_subplot(111)\n",
    "ax_init.set_title(f\"Selected after init delay threshold: {gtr0._init_delay} ms\", fontsize=20)\n",
    "channeld_init = np.array(list(gtr0._selected_channels_init))\n",
    "ax_init.plot(gtr0.locations[:, 0], gtr0.locations[:, 1], marker=\".\", color=\"grey\", ls=\"\", alpha=0.2)\n",
    "ax_init.plot(gtr0.locations[channeld_init, 0], \n",
    "         gtr0.locations[channeld_init, 1], marker=\".\", color=\"k\", ls=\"\", alpha=0.5)\n",
    "ax_init.axis(\"off\")"
   ]
  },
  {
   "cell_type": "code",
   "execution_count": null,
   "metadata": {},
   "outputs": [],
   "source": [
    "fig_all = plt.figure(figsize=(10, 5))\n",
    "ax_all = fig_all.add_subplot(111)\n",
    "ax_all.set_title(f\"Selected after all thresholds\", fontsize=20)\n",
    "channeld_all = gtr0.selected_channels\n",
    "ax_all.plot(gtr0.locations[:, 0], gtr0.locations[:, 1], marker=\".\", color=\"grey\", ls=\"\", alpha=0.2)\n",
    "ax_all.plot(gtr0.locations[channeld_all, 0], \n",
    "         gtr0.locations[channeld_all, 1], marker=\".\", color=\"k\", ls=\"\", alpha=0.5)\n",
    "ax_all.axis(\"off\")"
   ]
  },
  {
   "cell_type": "code",
   "execution_count": null,
   "metadata": {},
   "outputs": [],
   "source": [
    "# save figures\n",
    "if save_fig:\n",
    "    fig_amp.savefig(fig_folder / 'panelA_amp-map.png', dpi=600)\n",
    "    fig_peak.savefig(fig_folder / 'panelA_peak-map.png', dpi=600)\n",
    "\n",
    "    fig_detect.savefig(fig_folder / 'panelB_channel-amp.png', dpi=600)\n",
    "    fig_kurt.savefig(fig_folder / 'panelC_channel-kurt.png', dpi=600)\n",
    "    fig_peak.savefig(fig_folder / 'panelD_init-peak-std.png', dpi=600)\n",
    "    fig_init.savefig(fig_folder / 'panelE_init-init-peak.png', dpi=600)\n",
    "    fig_all.savefig(fig_folder / 'panelF_all.png', dpi=600)"
   ]
  }
 ],
 "metadata": {
  "language_info": {
   "name": "python"
  }
 },
 "nbformat": 4,
 "nbformat_minor": 4
}
