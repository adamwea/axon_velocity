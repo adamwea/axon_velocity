{
 "cells": [
  {
   "cell_type": "markdown",
   "metadata": {},
   "source": [
    "# Figure S1 - effect of different spatial resolutions"
   ]
  },
  {
   "cell_type": "code",
   "execution_count": null,
   "metadata": {},
   "outputs": [],
   "source": [
    "import neuron\n",
    "import numpy as np\n",
    "import LFPy\n",
    "import MEAutility as mu\n",
    "import matplotlib.pyplot as plt\n",
    "import neuroplotlib as nplt\n",
    "from pathlib import Path\n",
    "import sys\n",
    "import os\n",
    "from pprint import pprint"
   ]
  },
  {
   "cell_type": "code",
   "execution_count": null,
   "metadata": {},
   "outputs": [],
   "source": [
    "from axon_velocity import *\n",
    "from axon_velocity.models import *\n",
    "from axon_velocity.evaluation import *\n",
    "\n",
    "%matplotlib widget"
   ]
  },
  {
   "cell_type": "code",
   "execution_count": null,
   "metadata": {},
   "outputs": [],
   "source": [
    "save_figures = True\n",
    "save_results = False"
   ]
  },
  {
   "cell_type": "code",
   "execution_count": null,
   "metadata": {},
   "outputs": [],
   "source": [
    "fig_folder = Path('figures') / \"figureSupp1\"\n",
    "fig_folder.mkdir(exist_ok=True, parents=True)"
   ]
  },
  {
   "cell_type": "code",
   "execution_count": null,
   "metadata": {},
   "outputs": [],
   "source": [
    "try:\n",
    "    import neuron\n",
    "except:\n",
    "    print('NEURON is not installed.')\n",
    "\n",
    "mechanism_folder = Path('..') / 'simulations' / 'mechanisms'\n",
    "\n",
    "if not neuron.load_mechanisms(str(mechanism_folder)):\n",
    "    print('Compile mod files in the mechanisms/ folder: from the mechanisms/ folder, run nrnivmodl')"
   ]
  },
  {
   "cell_type": "code",
   "execution_count": null,
   "metadata": {},
   "outputs": [],
   "source": [
    "params_dict = get_default_biophysics_params()\n",
    "pprint(params_dict)"
   ]
  },
  {
   "cell_type": "code",
   "execution_count": null,
   "metadata": {},
   "outputs": [],
   "source": [
    "planar = True\n",
    "z_offset = 10 # distance between cell plane and mea plane\n",
    "zspan = 0"
   ]
  },
  {
   "cell_type": "code",
   "execution_count": null,
   "metadata": {},
   "outputs": [],
   "source": [
    "morphology_dir = Path('..') / 'simulations' / 'neuromorpho' / 'allen_cell_types'\n",
    "\n",
    "morph_id = '561096006'\n",
    "original_morphology_path = [m for m in morphology_dir.iterdir() if not \n",
    "                            m.name.startswith('.') and morph_id in str(m)][0]\n",
    "if planar:\n",
    "    morphology_path = planarize_swc(original_morphology_path, span_um=zspan)\n",
    "else:\n",
    "    morphology_path = original_morphology_path"
   ]
  },
  {
   "cell_type": "code",
   "execution_count": null,
   "metadata": {},
   "outputs": [],
   "source": [
    "cell = LFPy.Cell(str(morphology_path), v_init=params_dict['v_init'], celsius=params_dict['celsius'],\n",
    "                 Ra=params_dict['ra'], cm=params_dict['cm'], pt3d=True)"
   ]
  },
  {
   "cell_type": "code",
   "execution_count": null,
   "metadata": {},
   "outputs": [],
   "source": [
    "# center in the xy plane\n",
    "center_cell_xy(cell)"
   ]
  },
  {
   "cell_type": "code",
   "execution_count": null,
   "metadata": {},
   "outputs": [],
   "source": [
    "# simple biophysiscs: dendrite - pas / soma/axon HH\n",
    "# \"complex\" biophysics: dendrite - pas / soma - na + kv1 / axon - nax + kv1 \n",
    "simple_biophysics = False"
   ]
  },
  {
   "cell_type": "code",
   "execution_count": null,
   "metadata": {},
   "outputs": [],
   "source": [
    "if simple_biophysics:\n",
    "    insert_simple_biophysics(cell)\n",
    "else:\n",
    "    insert_biophysics(cell, params_dict)"
   ]
  },
  {
   "cell_type": "markdown",
   "metadata": {},
   "source": [
    "At this stage, one can also change the axial conductance (e.g. `sec.ra`), \n",
    "which likely affects the conduction velocity."
   ]
  },
  {
   "cell_type": "markdown",
   "metadata": {},
   "source": [
    "The `planar` variable decides wheter the z-axis is compressed (similar to a cell culture - `planar=True`) or the original morphology is used (`planar=False`)."
   ]
  },
  {
   "cell_type": "code",
   "execution_count": null,
   "metadata": {},
   "outputs": [],
   "source": [
    "shift = z_offset\n",
    "    \n",
    "print(f\"z-position of MEA: {shift}\")"
   ]
  },
  {
   "cell_type": "markdown",
   "metadata": {},
   "source": [
    "### Stimulating the cell\n",
    "\n",
    "We can now add some stimulation. The stimulation can be a current clamp `iclamp` or synaptic inputs `syn`. The `stim_point` is where the cell will be stimulated (the closest cell segment to the `stim_point` is used)."
   ]
  },
  {
   "cell_type": "code",
   "execution_count": null,
   "metadata": {},
   "outputs": [],
   "source": [
    "stim = 'syn' # or syn\n",
    "# stimulate on the soma\n",
    "stim_idx = cell.somaidx\n",
    "\n",
    "syn_input_times = np.arange(2, 5)\n",
    "\n",
    "syn_params = {'idx' : stim_idx,\n",
    "              'e' : 0,                                # reversal potential\n",
    "              'syntype' : 'ExpSyn',                   # synapse type\n",
    "              'tau' : 2,                              # syn. time constant ms\n",
    "              'weight' : 0.05,                         # syn. weight\n",
    "              'record_current' : True                 # syn. current record\n",
    "    }\n",
    "clamp_params = {'idx' : stim_idx,\n",
    "                'pptype' : 'IClamp',                   # IClamp point process\n",
    "                'dur' : 300,                            # dur in ms\n",
    "                'amp' : 2,                             # amp in nA\n",
    "                'delay' : 5                            # delay in ms\n",
    "    }"
   ]
  },
  {
   "cell_type": "code",
   "execution_count": null,
   "metadata": {},
   "outputs": [],
   "source": [
    "if stim == 'syn':\n",
    "    synapse = LFPy.Synapse(cell, **syn_params)\n",
    "    synapse.set_spike_times(np.array(syn_input_times))\n",
    "else:\n",
    "    clamp = LFPy.StimIntElectrode(cell=cell, **clamp_params)"
   ]
  },
  {
   "cell_type": "markdown",
   "metadata": {},
   "source": [
    "### Define extracellular electrodes\n",
    "\n",
    "Let's now define the extracellular electrodes using the [MEAutility](https://meautility.readthedocs.io/en/latest/) package."
   ]
  },
  {
   "cell_type": "code",
   "execution_count": null,
   "metadata": {},
   "outputs": [],
   "source": [
    "pitches = [17.5, 35, 70, 140]\n",
    "mea_size = 17.5*100"
   ]
  },
  {
   "cell_type": "code",
   "execution_count": null,
   "metadata": {},
   "outputs": [],
   "source": [
    "elec_size = 8"
   ]
  },
  {
   "cell_type": "code",
   "execution_count": null,
   "metadata": {},
   "outputs": [],
   "source": [
    "electrodes = []\n",
    "probes = []\n",
    "for p in pitches:\n",
    "    mea_dim = int(mea_size / p)  # n rows x n cols\n",
    "    mea_pitch = p  # rows and cols pitch\n",
    "\n",
    "    mea_info = {'dim': mea_dim,\n",
    "     'electrode_name': 'hd-mea',\n",
    "     'pitch': mea_pitch,\n",
    "     'shape': 'square',\n",
    "     'size': elec_size, \n",
    "     'type': 'mea',\n",
    "     'plane': 'xy'}\n",
    "\n",
    "    hdmea = mu.return_mea(info=mea_info)\n",
    "    \n",
    "    # Move the MEA out of the neuron plane (yz)\n",
    "    hdmea.move([0, 0, shift])\n",
    "    \n",
    "    probes.append(hdmea)\n",
    "    # Instantiate LFPy electrode object\n",
    "    electrode = LFPy.RecExtElectrode(cell, probe=hdmea, n=10)\n",
    "    electrodes.append(electrode)"
   ]
  },
  {
   "cell_type": "code",
   "execution_count": null,
   "metadata": {},
   "outputs": [],
   "source": [
    "figs_density = {}\n",
    "for probe in probes:\n",
    "    fig, ax = plt.subplots(figsize=(10, 10))\n",
    "    pitch = probe.pitch[0]\n",
    "    ax = mu.plot_probe(probe, type='planar', ax=ax)\n",
    "    ax = nplt.plot_neuron(cell, plane='xy', color='k', ax=ax)\n",
    "    ax.axis('off')\n",
    "    figs_density[str(pitch)] = fig"
   ]
  },
  {
   "cell_type": "code",
   "execution_count": null,
   "metadata": {},
   "outputs": [],
   "source": [
    "if save_figures:\n",
    "    for pitch, fig in figs_density.items():\n",
    "        fig.savefig(fig_folder / f\"{pitch}_morphology.png\", dpi=600)\n",
    "        fig.savefig(fig_folder / f\"{pitch}_morphology.pdf\")"
   ]
  },
  {
   "cell_type": "markdown",
   "metadata": {},
   "source": [
    "### Run the simulation\n",
    "\n",
    "By passing the `electrode` argument `LFPy` also computes extracellular potentials. The `rec_vmem` argument allows to measure the membrane potenrtial at all segments."
   ]
  },
  {
   "cell_type": "code",
   "execution_count": null,
   "metadata": {},
   "outputs": [],
   "source": [
    "cell.simulate(probes=electrodes, rec_vmem=True)"
   ]
  },
  {
   "cell_type": "code",
   "execution_count": null,
   "metadata": {},
   "outputs": [],
   "source": [
    "eaps = [electrode.data * 1000 for electrode in electrodes]  # mV --> uV"
   ]
  },
  {
   "cell_type": "code",
   "execution_count": null,
   "metadata": {},
   "outputs": [],
   "source": [
    "# cutout single template\n",
    "fs = 1 / cell.dt * 1000\n",
    "ms_before = 2\n",
    "ms_after = 10\n",
    "\n",
    "min_chan, min_idx = np.unravel_index(np.argmin(eaps[0]), eaps[0].shape)"
   ]
  },
  {
   "cell_type": "code",
   "execution_count": null,
   "metadata": {},
   "outputs": [],
   "source": [
    "# eaps_cut = [eap[:, min_idx - int(ms_before * fs): min_idx + int(ms_after * fs)] for eap in eaps]"
   ]
  },
  {
   "cell_type": "code",
   "execution_count": null,
   "metadata": {},
   "outputs": [],
   "source": [
    "figs_amps = {}\n",
    "for (probe, eap) in zip(probes, eaps):\n",
    "    fig, ax = plt.subplots(figsize=(10, 10))\n",
    "    pitch = probe.pitch[0]\n",
    "    locations = probe.positions[:, :-1]\n",
    "    ax2 = plot_amplitude_map(eap, locations, ax=ax, log=True, colorbar=False, \n",
    "                             cmap=\"PRGn\", colorbar_orientation=\"horizontal\", plot_image=False,\n",
    "                             elec_size=2*pitch)\n",
    "    ax.axis('off')\n",
    "    ax.set_title(f\"Pitch: {pitch}$\\mu$m\", fontsize=20)\n",
    "    figs_amps[str(pitch)] = fig"
   ]
  },
  {
   "cell_type": "code",
   "execution_count": null,
   "metadata": {},
   "outputs": [],
   "source": [
    "if save_figures:\n",
    "    for pitch, fig in figs_amps.items():\n",
    "        fig.savefig(fig_folder / f\"{pitch}_amps.png\", dpi=600)\n",
    "        fig.savefig(fig_folder / f\"{pitch}_amps.pdf\")"
   ]
  },
  {
   "cell_type": "markdown",
   "metadata": {},
   "source": [
    "## Run tracking algorithm"
   ]
  },
  {
   "cell_type": "code",
   "execution_count": null,
   "metadata": {},
   "outputs": [],
   "source": [
    "params = get_default_graph_velocity_params()\n",
    "\n",
    "# change params\n",
    "params['detect_threshold'] = 0.01\n",
    "params['kurt_threshold'] = 0.5\n",
    "params['peak_std_threshold'] = None\n",
    "params['init_delay'] = 0.1\n",
    "params['upsample'] = 5\n",
    "params['neighbor_radius'] = 50\n",
    "params[\"r2_threshold\"] = 0.9\n",
    "params[\"max_distance_for_edge\"] = 200\n",
    "params[\"max_distance_to_init\"] = 300\n",
    "params[\"max_peak_latency_for_splitting\"] = 0.5\n",
    "params[\"min_selected_points\"] = 5\n",
    "params[\"remove_isolated\"] = True\n",
    "\n",
    "pprint(params)"
   ]
  },
  {
   "cell_type": "code",
   "execution_count": null,
   "metadata": {},
   "outputs": [],
   "source": [
    "gtrs = []\n",
    "for (eap, probe) in zip(eaps, probes):\n",
    "    print(f\"\\n\\n Pitch {probe.pitch[0]} \\n\\n\")\n",
    "    locations = probe.positions[:, :-1]\n",
    "    params['neighbor_radius'] = 2 * probe.pitch[0]\n",
    "    gtr = compute_graph_propagation_velocity(eap, locations, fs=fs, verbose=True, **params)\n",
    "    gtrs.append(gtr)"
   ]
  },
  {
   "cell_type": "code",
   "execution_count": null,
   "metadata": {},
   "outputs": [],
   "source": [
    "# branch_gt = extract_ground_truth_velocity(cell, min_length=50, min_segs=5)"
   ]
  },
  {
   "cell_type": "code",
   "execution_count": null,
   "metadata": {},
   "outputs": [],
   "source": [
    "# evals = []\n",
    "# for i, gtr in enumerate(gtrs):\n",
    "#     ev = evaluate_tracking_accuracy(gtr.branches, branch_gt, cell, gtr.locations,\n",
    "#                                     max_median_dist_for_match=50)\n",
    "    \n",
    "#     print(f\"Num matches for pitch {probes[i].pitch[0]}: {len(ev)}\")\n",
    "#     evals.append(ev)"
   ]
  },
  {
   "cell_type": "code",
   "execution_count": null,
   "metadata": {},
   "outputs": [],
   "source": [
    "cell_model = cell\n",
    "cmap_branches = \"tab20\"\n",
    "cmap_footprint = \"Greys\"\n",
    "alpha_footprint = 0.5\n",
    "alpha_marker = 0.7\n",
    "legend_fs = 18\n",
    "\n",
    "max_branches = np.max([len(gtr.branches) for gtr in gtrs])\n",
    "cm = plt.get_cmap(cmap_branches)\n",
    "\n",
    "figs_tracking = {}\n",
    "for i, (gtr, probe, ev) in enumerate(zip(gtrs, probes, evals)):\n",
    "    fig, ax = plt.subplots()\n",
    "    fig.set_size_inches((10, 10))\n",
    "    pitch = probe.pitch[0]\n",
    "    evaluation = ev\n",
    "    locations = gtr.locations\n",
    "    template = gtr.template\n",
    "    \n",
    "    branch_colors = [cm(i / max_branches) for i in range(max_branches)]\n",
    "    \n",
    "    nplt.plot_neuron(morphology=str(morphology_path), plane='xy', alpha=0.1, ax=ax, position=cell_model.somapos,\n",
    "                     exclude_sections=['axon'])\n",
    "    nplt.plot_neuron(morphology=str(morphology_path), plane='xy', alpha=0.1, ax=ax, position=cell_model.somapos,\n",
    "                     exclude_sections=['soma', 'apic', 'basal'], color='g')\n",
    "    ax = gtr.plot_clean_branches(cmap=cmap_branches, plot_bp=False, plot_full_template=False,\n",
    "                                 ax=ax, branch_colors=branch_colors)\n",
    "\n",
    "    cm = plt.get_cmap(cmap_branches)\n",
    "\n",
    "    ax.axis('equal')\n",
    "    ax.axis('off')\n",
    "    figs_tracking[str(pitch)] = fig"
   ]
  },
  {
   "cell_type": "code",
   "execution_count": null,
   "metadata": {},
   "outputs": [],
   "source": [
    "if save_figures:\n",
    "    for pitch, fig in figs_tracking.items():\n",
    "        fig.savefig(fig_folder / f\"{pitch}_tracking.png\", dpi=600)"
   ]
  }
 ],
 "metadata": {
  "kernelspec": {
   "display_name": "Python 3 (ipykernel)",
   "language": "python",
   "name": "python3"
  },
  "language_info": {
   "codemirror_mode": {
    "name": "ipython",
    "version": 3
   },
   "file_extension": ".py",
   "mimetype": "text/x-python",
   "name": "python",
   "nbconvert_exporter": "python",
   "pygments_lexer": "ipython3",
   "version": "3.8.11"
  }
 },
 "nbformat": 4,
 "nbformat_minor": 4
}
