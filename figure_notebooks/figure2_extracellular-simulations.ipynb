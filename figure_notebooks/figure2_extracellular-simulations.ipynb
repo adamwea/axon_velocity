{
 "cells": [
  {
   "cell_type": "markdown",
   "metadata": {},
   "source": [
    "# Figure 2 - extracellular simulations"
   ]
  },
  {
   "cell_type": "code",
   "execution_count": 1,
   "metadata": {},
   "outputs": [],
   "source": [
    "import neuron\n",
    "from math import sin, cos\n",
    "import numpy as np\n",
    "import LFPy\n",
    "import MEAutility as mu\n",
    "import matplotlib.pyplot as plt\n",
    "import neuroplotlib as npl\n",
    "from pathlib import Path\n",
    "import sys\n",
    "import os\n",
    "from pprint import pprint"
   ]
  },
  {
   "cell_type": "code",
   "execution_count": 2,
   "metadata": {},
   "outputs": [],
   "source": [
    "from axon_velocity.models import insert_biophysics, insert_simple_biophysics, \\\n",
    "    get_default_biophysics_params, planarize_swc, save_cell, create_mea_probe, center_cell_xy\n",
    "from axon_velocity import plot_amplitude_map, plot_peak_latency_map"
   ]
  },
  {
   "cell_type": "code",
   "execution_count": 3,
   "metadata": {},
   "outputs": [],
   "source": [
    "%matplotlib inline"
   ]
  },
  {
   "cell_type": "code",
   "execution_count": 4,
   "metadata": {},
   "outputs": [],
   "source": [
    "save_fig = True\n",
    "fig_folder =  Path('figures') / \"figure2\"\n",
    "fig_folder.mkdir(exist_ok=True, parents=True)"
   ]
  },
  {
   "cell_type": "code",
   "execution_count": 5,
   "metadata": {},
   "outputs": [],
   "source": [
    "try:\n",
    "    import neuron\n",
    "except:\n",
    "    print('NEURON is not installed.')\n",
    "\n",
    "mechanism_folder = Path('..') / 'simulations' / 'mechanisms'\n",
    "\n",
    "if not neuron.load_mechanisms(str(mechanism_folder)):\n",
    "    print('Compile mod files in the mechanisms/ folder: from the mechanisms/ folder, run nrnivmodl')"
   ]
  },
  {
   "cell_type": "code",
   "execution_count": 6,
   "metadata": {},
   "outputs": [],
   "source": [
    "# simple biophysiscs: dendrite - pas / soma/axon HH\n",
    "# \"complex\" biophysics: dendrite - pas / soma - na + kv1 / axon - nax + kv1 \n",
    "simple_biophysics = False"
   ]
  },
  {
   "cell_type": "code",
   "execution_count": 7,
   "metadata": {},
   "outputs": [
    {
     "name": "stdout",
     "output_type": "stream",
     "text": [
      "{'Kv1_axon': 400,\n",
      " 'Kv1_soma': 100,\n",
      " 'celsius': 33,\n",
      " 'cm': 1,\n",
      " 'e_pas': -85,\n",
      " 'ek': -98,\n",
      " 'ena': 55,\n",
      " 'g_pas': 6.666666666666667e-05,\n",
      " 'na_axon': 500,\n",
      " 'na_soma': 500,\n",
      " 'ra': 80,\n",
      " 'rm': 15000,\n",
      " 'v_init': -85}\n"
     ]
    }
   ],
   "source": [
    "params_dict = get_default_biophysics_params()\n",
    "pprint(params_dict)"
   ]
  },
  {
   "cell_type": "markdown",
   "metadata": {},
   "source": [
    "At this stage, one can also change the axial conductance (e.g. `sec.ra`), \n",
    "which likely affects the conduction velocity."
   ]
  },
  {
   "cell_type": "markdown",
   "metadata": {},
   "source": [
    "The `planar` variable decides wheter the z-axis is compressed (similar to a cell culture - `planar=True`) or the original morphology is used (`planar=False`)."
   ]
  },
  {
   "cell_type": "code",
   "execution_count": 8,
   "metadata": {},
   "outputs": [],
   "source": [
    "planar = True\n",
    "z_offset = 10 # distance between cell plane and mea plane\n",
    "zspan = 20"
   ]
  },
  {
   "cell_type": "code",
   "execution_count": 9,
   "metadata": {},
   "outputs": [
    {
     "name": "stderr",
     "output_type": "stream",
     "text": [
      "/Users/abuccino/Documents/Codes/ephys/BEL/axon_velocity/axon_velocity/models.py:290: FutureWarning: Passing (type, 1) or '1type' as a synonym of type is deprecated; in a future version of numpy, it will be understood as (type, (1,)) / '(1,)type'.\n",
      "  swc_dtype = np.dtype([('id', np.int32, 1), ('type', np.int16, 1),\n"
     ]
    }
   ],
   "source": [
    "morphology_dir = Path('..') / 'simulations' / 'neuromorpho' / 'allen_cell_types'\n",
    "\n",
    "morph_id = '561096006'\n",
    "original_morphology_path = [m for m in morphology_dir.iterdir() if not \n",
    "                            m.name.startswith('.') and morph_id in str(m)][0]\n",
    "if planar:\n",
    "    morphology_path = planarize_swc(original_morphology_path, span_um=zspan)\n",
    "else:\n",
    "    morphology_path = original_morphology_path"
   ]
  },
  {
   "cell_type": "code",
   "execution_count": 10,
   "metadata": {},
   "outputs": [
    {
     "name": "stdout",
     "output_type": "stream",
     "text": [
      "One point section Import3d_Section[2] ending at line 3 has been removed\n",
      "One point section Import3d_Section[1] ending at line 2 has been removed\n"
     ]
    }
   ],
   "source": [
    "cell = LFPy.Cell(str(morphology_path), v_init=params_dict['v_init'], celsius=params_dict['celsius'],\n",
    "                 Ra=params_dict['ra'], cm=params_dict['cm'], pt3d=True)"
   ]
  },
  {
   "cell_type": "code",
   "execution_count": 11,
   "metadata": {},
   "outputs": [],
   "source": [
    "# center in the xy plane\n",
    "center_cell_xy(cell)"
   ]
  },
  {
   "cell_type": "code",
   "execution_count": 12,
   "metadata": {},
   "outputs": [
    {
     "data": {
      "text/plain": [
       "<AxesSubplot:xlabel='x ($\\\\mu$m)', ylabel='y ($\\\\mu$m)'>"
      ]
     },
     "execution_count": 12,
     "metadata": {},
     "output_type": "execute_result"
    },
    {
     "data": {
      "image/png": "[encoded data removed]",
      "text/plain": [
       "<Figure size 432x288 with 1 Axes>"
      ]
     },
     "metadata": {
      "needs_background": "light"
     },
     "output_type": "display_data"
    }
   ],
   "source": [
    "npl.plot_neuron(cell, plane='xy', color_axon='g')"
   ]
  },
  {
   "cell_type": "markdown",
   "metadata": {},
   "source": [
    "### Insert cell biophysics\n",
    "\n",
    "Here we make the cell active by inserting biophysical mechanisms."
   ]
  },
  {
   "cell_type": "code",
   "execution_count": 13,
   "metadata": {},
   "outputs": [],
   "source": [
    "if simple_biophysics:\n",
    "    insert_simple_biophysics(cell)\n",
    "else:\n",
    "    insert_biophysics(cell, params_dict)"
   ]
  },
  {
   "cell_type": "markdown",
   "metadata": {},
   "source": [
    "### Stimulating the cell\n",
    "\n",
    "We can now add some stimulation. The stimulation can be a current clamp `iclamp` or synaptic inputs `syn`. The `stim_point` is where the cell will be stimulated (the closest cell segment to the `stim_point` is used)."
   ]
  },
  {
   "cell_type": "code",
   "execution_count": 14,
   "metadata": {},
   "outputs": [],
   "source": [
    "stim = 'syn' # or syn\n",
    "# stimulate on the soma\n",
    "stim_idx = cell.somaidx\n",
    "\n",
    "syn_input_times = np.arange(2, 5)\n",
    "\n",
    "syn_params = {'idx' : stim_idx,\n",
    "              'e' : 0,                                # reversal potential\n",
    "              'syntype' : 'ExpSyn',                   # synapse type\n",
    "              'tau' : 2,                              # syn. time constant ms\n",
    "              'weight' : 0.05,                         # syn. weight\n",
    "              'record_current' : True                 # syn. current record\n",
    "    }\n",
    "clamp_params = {'idx' : stim_idx,\n",
    "                'pptype' : 'IClamp',                   # IClamp point process\n",
    "                'dur' : 300,                            # dur in ms\n",
    "                'amp' : 2,                             # amp in nA\n",
    "                'delay' : 5                            # delay in ms\n",
    "    }"
   ]
  },
  {
   "cell_type": "code",
   "execution_count": 15,
   "metadata": {},
   "outputs": [],
   "source": [
    "if stim == 'syn':\n",
    "    synapse = LFPy.Synapse(cell, **syn_params)\n",
    "    synapse.set_spike_times(np.array(syn_input_times))\n",
    "else:\n",
    "    clamp = LFPy.StimIntElectrode(cell=cell, **clamp_params)"
   ]
  },
  {
   "cell_type": "markdown",
   "metadata": {},
   "source": [
    "if not planar:\n",
    "    shift_pos = np.min(cell.z) - z_offset\n",
    "    shift_neg = np.max(cell.z) + z_offset\n",
    "\n",
    "    if np.abs(shift_pos) > np.abs(shift_neg):\n",
    "        shift = shift_neg\n",
    "    else:\n",
    "        shift = shift_pos\n",
    "else:\n",
    "    shift = z_offset\n",
    "    \n",
    "print(f\"z-position of MEA: {shift}\")"
   ]
  },
  {
   "cell_type": "markdown",
   "metadata": {},
   "source": [
    "### Define extracellular electrodes\n",
    "\n",
    "Let's now define the extracellular electrodes using the [MEAutility](https://meautility.readthedocs.io/en/latest/) package."
   ]
  },
  {
   "cell_type": "code",
   "execution_count": 17,
   "metadata": {},
   "outputs": [],
   "source": [
    "mea_dim = 100  # n rows x n cols\n",
    "mea_pitch = 17.5  # rows and cols pitch\n",
    "elec_size = 5\n",
    "\n",
    "hdmea = create_mea_probe(pitch=mea_pitch, dim=mea_dim, elec_size=elec_size, z_offset=z_offset)\n",
    "\n",
    "electrode = LFPy.RecExtElectrode(cell, probe=hdmea, n=10)"
   ]
  },
  {
   "cell_type": "markdown",
   "metadata": {},
   "source": [
    "### Run the simulation\n",
    "\n",
    "By passing the `electrode` argument `LFPy` also computes extracellular potentials. The `rec_vmem` argument allows to measure the membrane potenrtial at all segments."
   ]
  },
  {
   "cell_type": "code",
   "execution_count": 18,
   "metadata": {},
   "outputs": [],
   "source": [
    "cell.simulate(probes=[electrode], rec_vmem=True)"
   ]
  },
  {
   "cell_type": "code",
   "execution_count": 19,
   "metadata": {},
   "outputs": [],
   "source": [
    "eap = electrode.data * 1000  # mV --> uV"
   ]
  },
  {
   "cell_type": "code",
   "execution_count": 20,
   "metadata": {},
   "outputs": [],
   "source": [
    "# cutout single template\n",
    "fs = 1 / cell.dt\n",
    "ms_before = 2\n",
    "ms_after = 10\n",
    "\n",
    "min_chan, min_idx = np.unravel_index(np.argmin(eap), eap.shape)"
   ]
  },
  {
   "cell_type": "code",
   "execution_count": 21,
   "metadata": {},
   "outputs": [],
   "source": [
    "eap_cut = eap[:, min_idx - int(ms_before * fs): min_idx + int(ms_after * fs)]"
   ]
  },
  {
   "cell_type": "code",
   "execution_count": 27,
   "metadata": {},
   "outputs": [],
   "source": [
    "intra_tidxs = slice(min_idx - int(ms_before * fs), min_idx + int(ms_after * fs))"
   ]
  },
  {
   "cell_type": "markdown",
   "metadata": {},
   "source": [
    "### Plots\n",
    "\n",
    "1. Plot MEA and overlaid morphology"
   ]
  },
  {
   "cell_type": "code",
   "execution_count": 22,
   "metadata": {},
   "outputs": [
    {
     "data": {
      "text/plain": [
       "Text(-880, -1000, '100 $\\\\mu$m')"
      ]
     },
     "execution_count": 22,
     "metadata": {},
     "output_type": "execute_result"
    },
    {
     "data": {
      "image/png": "[encoded data removed]",
      "text/plain": [
       "<Figure size 432x288 with 1 Axes>"
      ]
     },
     "metadata": {
      "needs_background": "light"
     },
     "output_type": "display_data"
    }
   ],
   "source": [
    "fig1, ax1 = plt.subplots(1, 1)\n",
    "\n",
    "ax1 = mu.plot_probe(hdmea, type='planar', ax=ax1)\n",
    "npl.plot_neuron(cell, plane='xy', color='k', ax=ax1)\n",
    "ax1.axis('off')\n",
    "\n",
    "# add scalebar\n",
    "ax1.plot([-870, -770], [-920, -920], color='k', lw=2)\n",
    "ax1.text(-880, -1000, \"100 $\\mu$m\", fontsize=8)"
   ]
  },
  {
   "cell_type": "markdown",
   "metadata": {},
   "source": [
    "2. Plot amplitude map"
   ]
  },
  {
   "cell_type": "code",
   "execution_count": 23,
   "metadata": {},
   "outputs": [],
   "source": [
    "template = eap_cut\n",
    "locations = hdmea.positions[:, :-1]  # save only x-y positions"
   ]
  },
  {
   "cell_type": "code",
   "execution_count": 24,
   "metadata": {},
   "outputs": [
    {
     "data": {
      "image/png": "[encoded data removed]",
      "text/plain": [
       "<Figure size 432x288 with 1 Axes>"
      ]
     },
     "metadata": {
      "needs_background": "light"
     },
     "output_type": "display_data"
    }
   ],
   "source": [
    "fig2, ax2 = plt.subplots(1, 1)\n",
    "ax2 = plot_amplitude_map(template, locations, ax=ax2, log=True)"
   ]
  },
  {
   "cell_type": "markdown",
   "metadata": {},
   "source": [
    "3. Insets with intra and extra potential"
   ]
  },
  {
   "cell_type": "code",
   "execution_count": 25,
   "metadata": {},
   "outputs": [],
   "source": [
    "pos1 = [-200, -375]\n",
    "pos2 = [-311, -132]\n",
    "pos3 = [-400, 375]\n",
    "pos4 = [-30, 685]\n",
    "\n",
    "inset_positions = [pos1, pos2, pos3, pos4]s"
   ]
  },
  {
   "cell_type": "code",
   "execution_count": 28,
   "metadata": {},
   "outputs": [
    {
     "data": {
      "image/png": "[encoded data removed]",
      "text/plain": [
       "<Figure size 432x288 with 2 Axes>"
      ]
     },
     "metadata": {
      "needs_background": "light"
     },
     "output_type": "display_data"
    },
    {
     "data": {
      "image/png": "[encoded data removed]",
      "text/plain": [
       "<Figure size 432x288 with 2 Axes>"
      ]
     },
     "metadata": {
      "needs_background": "light"
     },
     "output_type": "display_data"
    },
    {
     "data": {
      "image/png": "[encoded data removed]",
      "text/plain": [
       "<Figure size 432x288 with 2 Axes>"
      ]
     },
     "metadata": {
      "needs_background": "light"
     },
     "output_type": "display_data"
    },
    {
     "data": {
      "image/png": "[encoded data removed]",
      "text/plain": [
       "<Figure size 432x288 with 2 Axes>"
      ]
     },
     "metadata": {
      "needs_background": "light"
     },
     "output_type": "display_data"
    }
   ],
   "source": [
    "inset_figs = []\n",
    "for i, pos in enumerate(inset_positions):\n",
    "    extra_el_idx = hdmea.get_closest_electrode_idx([pos[0], pos[1], 0])\n",
    "    cell_idx = cell.get_closest_idx(pos[0], pos[1], 0)\n",
    "    \n",
    "    ax2.plot(np.mean(cell.x[cell_idx]), np.mean(cell.y[cell_idx]), color=f\"C{i}\", marker='o')\n",
    "    \n",
    "    fig_in, axs = plt.subplots(2, 1)\n",
    "    axs[0].plot(cell.vmem[cell_idx, intra_tidxs], color=f\"C{i}\", ls='-')\n",
    "    axs[1].plot(eap_cut[extra_el_idx], color=f\"C{i}\", ls='--')\n",
    "    \n",
    "    axs[0].axvline(min_idx, color='k', ls='--', alpha=0.3)\n",
    "    axs[1].axvline(min_idx, color='k', ls='--', alpha=0.3)\n",
    "    \n",
    "    axs[0].axis('off')\n",
    "    axs[1].axis('off')\n",
    "    \n",
    "    inset_figs.append(fig_in)"
   ]
  },
  {
   "cell_type": "markdown",
   "metadata": {
    "pycharm": {
     "name": "#%% md\n"
    }
   },
   "source": [
    "### Save figures"
   ]
  },
  {
   "cell_type": "code",
   "execution_count": 30,
   "metadata": {},
   "outputs": [],
   "source": [
    "if save_fig:\n",
    "    fig1.savefig(fig_folder / \"panelA_mea-neuron.png\", dpi=300)\n",
    "    fig2.savefig(fig_folder / \"panelB_amp-map.png\", dpi=300)    \n",
    "    \n",
    "    for i, inset in enumerate(inset_figs):\n",
    "        inset.savefig(fig_folder / f\"inset-{i}.pdf\")"
   ]
  }
 ],
 "metadata": {
  "kernelspec": {
   "display_name": "Python 3",
   "language": "python",
   "name": "python3"
  },
  "language_info": {
   "codemirror_mode": {
    "name": "ipython",
    "version": 3
   },
   "file_extension": ".py",
   "mimetype": "text/x-python",
   "name": "python",
   "nbconvert_exporter": "python",
   "pygments_lexer": "ipython3",
   "version": "3.8.8"
  },
  "pycharm": {
   "stem_cell": {
    "cell_type": "raw",
    "metadata": {
     "collapsed": false
    },
    "source": []
   }
  }
 },
 "nbformat": 4,
 "nbformat_minor": 4
}
